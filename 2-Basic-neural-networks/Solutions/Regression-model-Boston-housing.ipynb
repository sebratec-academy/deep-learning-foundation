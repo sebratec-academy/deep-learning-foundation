{
 "cells": [
  {
   "cell_type": "markdown",
   "metadata": {
    "colab_type": "text",
    "id": "k2lfHSCY6afB"
   },
   "source": [
    "**Regression**\n",
    "\n",
    "Regression models are typically used to predict one value (or a set of values) based on input data. Let's say for example: Predict the price of a car based on the year, fuel consumption, type (sports, compact, SUV), motor power. Or predict the number of sales of a specific product based on month of the year, product price, local economy situation. \n",
    "\n",
    "This is a supervised learning statistical model that correlates the influence of independent variables on dependent variables through fitting a mathematical function according to the behavior of the training data. "
   ]
  },
  {
   "cell_type": "markdown",
   "metadata": {
    "colab_type": "text",
    "id": "OdbCzggT9pa7"
   },
   "source": [
    "**Used Python Libraries**\n",
    "\n",
    "Let's start by importing the python libraries we are going to be using.\n",
    "\n",
    "* **numpy**: Adds support for large, multi-dimensional arrays and matrices, along with a large collection of high-level mathematical functions.\n",
    "\n",
    "* **keras**: Neural network library and abstraction. Can run on top of TensorFlow (Google's neural network library). Designed to enable fast experimentation with deep neural networks."
   ]
  },
  {
   "cell_type": "code",
   "execution_count": 2,
   "metadata": {
    "colab": {
     "base_uri": "https://localhost:8080/",
     "height": 185
    },
    "colab_type": "code",
    "executionInfo": {
     "elapsed": 45080,
     "status": "ok",
     "timestamp": 1574499444653,
     "user": {
      "displayName": "Cristian Bortolini Ferreira",
      "photoUrl": "",
      "userId": "01183676841716453456"
     },
     "user_tz": -60
    },
    "id": "wpefszoB-gkd",
    "outputId": "dc879642-a25b-4b5b-9e89-5d3a46b83f18"
   },
   "outputs": [
    {
     "name": "stderr",
     "output_type": "stream",
     "text": [
      "Using TensorFlow backend.\n"
     ]
    }
   ],
   "source": [
    "import numpy as np\n",
    "\n",
    "from keras.layers import Dense, Input\n",
    "from keras.models import Model, load_model\n",
    "from keras.optimizers import Adam\n",
    "from keras.datasets import boston_housing"
   ]
  },
  {
   "cell_type": "markdown",
   "metadata": {
    "colab_type": "text",
    "id": "7W2mmiMtA8FH"
   },
   "source": [
    "**The Data**\n",
    "\n",
    "Keras library provides us with a few dataset examples that we can use to experiment with neural networks. The data is already correctly shaped and separated into training data and test data.\n",
    "\n",
    "We are going to be using the Boston Housing dataset for this exercise. It correlates the median price (in $1000) of Boston Houses to 13 other parameters (more details in: https://www.cs.toronto.edu/~delve/data/boston/bostonDetail.html).\n",
    "\n",
    "When training a deep learning model, the data is usually separated into training and test data. The training data is the one used to adjust the neuron's weights, meaning that it is the data the model actually learns from. The test data is used to evaluate the performance of the network during training."
   ]
  },
  {
   "cell_type": "code",
   "execution_count": 3,
   "metadata": {
    "colab": {
     "base_uri": "https://localhost:8080/",
     "height": 187
    },
    "colab_type": "code",
    "executionInfo": {
     "elapsed": 631,
     "status": "ok",
     "timestamp": 1574499479158,
     "user": {
      "displayName": "Cristian Bortolini Ferreira",
      "photoUrl": "",
      "userId": "01183676841716453456"
     },
     "user_tz": -60
    },
    "id": "SXOX3i2Z91gR",
    "outputId": "958e4f10-795f-41e5-bbd1-baa0fd3d93c9"
   },
   "outputs": [
    {
     "name": "stdout",
     "output_type": "stream",
     "text": [
      "Input training data shape: (404, 13)\n",
      "Example input training data: [  1.23247   0.        8.14      0.        0.538     6.142    91.7\n",
      "   3.9769    4.      307.       21.      396.9      18.72   ]\n",
      "Output training data shape: (404,)\n",
      "Example output training data: 15.2\n",
      "\n",
      "Input test data shape: (102, 13)\n",
      "Output test data shape: (102,)\n"
     ]
    }
   ],
   "source": [
    "(x_train, y_train), (x_test, y_test) = boston_housing.load_data()\n",
    "print(\"Input training data shape:\", x_train.shape)\n",
    "print(\"Example input training data:\",x_train[0])\n",
    "print(\"Output training data shape:\", y_train.shape)\n",
    "print(\"Example output training data:\",y_train[0])\n",
    "\n",
    "print(\"\\nInput test data shape:\", x_test.shape)\n",
    "print(\"Output test data shape:\", y_test.shape)"
   ]
  },
  {
   "cell_type": "markdown",
   "metadata": {
    "colab_type": "text",
    "id": "8hlS1L-fBTCP"
   },
   "source": [
    "**Building a regression model**\n",
    "\n",
    "Before training, we need to specify our model's architecture. [NN-SVG](http://alexlenail.me/NN-SVG/index.html) is a nice tool to visualize the architecture.\n",
    "\n",
    "* Input layer: 13 neurons (we have 13 inputs)\n",
    "* Hidden layers: It's up to us to decide. There is not definitive answer. Experimentation is part of developing a deep learning model. But let's start with 2 hidden layers of 32 neurons each.\n",
    "* Output layer: 1 neuron (we have 1 output).\n",
    "* Activation functions: Here we are going to introduce 2 activation functions: ReLU and Linear (or identity)."
   ]
  },
  {
   "cell_type": "code",
   "execution_count": 4,
   "metadata": {
    "colab": {
     "base_uri": "https://localhost:8080/",
     "height": 442
    },
    "colab_type": "code",
    "executionInfo": {
     "elapsed": 639,
     "status": "ok",
     "timestamp": 1574499586737,
     "user": {
      "displayName": "Cristian Bortolini Ferreira",
      "photoUrl": "",
      "userId": "01183676841716453456"
     },
     "user_tz": -60
    },
    "id": "moc_VlVk-ebv",
    "outputId": "7951da39-4547-4261-8797-995bf48c2c17"
   },
   "outputs": [
    {
     "name": "stdout",
     "output_type": "stream",
     "text": [
      "Model: \"model_1\"\n",
      "_________________________________________________________________\n",
      "Layer (type)                 Output Shape              Param #   \n",
      "=================================================================\n",
      "data (InputLayer)            (None, 13)                0         \n",
      "_________________________________________________________________\n",
      "fc1 (Dense)                  (None, 32)                448       \n",
      "_________________________________________________________________\n",
      "fc2 (Dense)                  (None, 32)                1056      \n",
      "_________________________________________________________________\n",
      "fc3 (Dense)                  (None, 1)                 33        \n",
      "=================================================================\n",
      "Total params: 1,537\n",
      "Trainable params: 1,537\n",
      "Non-trainable params: 0\n",
      "_________________________________________________________________\n",
      "None\n"
     ]
    }
   ],
   "source": [
    "def build_model():\n",
    "  # Input layer\n",
    "  inputs = Input([13, ], name='data')\n",
    "  # Hidden layers\n",
    "  model = Dense(32, activation='relu', name='fc1')(inputs)\n",
    "  model = Dense(32, activation='relu', name='fc2')(model)\n",
    "  # Output layer\n",
    "  outputs = Dense(1, activation='linear', name='fc3')(model)\n",
    "\n",
    "  # Define the model\n",
    "  model = Model(inputs=[inputs], outputs=outputs)\n",
    "\n",
    "  model.compile(optimizer=Adam(lr=4e-5), #Gradient Descend Algorithm.\n",
    "                loss='mse',       #MSE = Mean Squared Error\n",
    "                metrics=['mae'])  #MAE = Mean Absolute Error\n",
    "  return model\n",
    "\n",
    "net = build_model()\n",
    "print(net.summary())"
   ]
  },
  {
   "cell_type": "markdown",
   "metadata": {
    "colab_type": "text",
    "id": "Gec0b6jBCni1"
   },
   "source": [
    "**Training the model**\n",
    "\n",
    "Now we have an untrained model. We need to feed it with data and fit the weights around it. We also need to specify another 2 parameters:\n",
    "\n",
    "* Epochs: The number of times the network is going to look through the entire dataset and learn.\n",
    "* Batch size: The number of examples used for a single learning session. When increasing this number, the training goes faster but also requires more memory. "
   ]
  },
  {
   "cell_type": "code",
   "execution_count": 5,
   "metadata": {
    "colab": {
     "base_uri": "https://localhost:8080/",
     "height": 1000
    },
    "colab_type": "code",
    "executionInfo": {
     "elapsed": 6171,
     "status": "ok",
     "timestamp": 1574499832864,
     "user": {
      "displayName": "Cristian Bortolini Ferreira",
      "photoUrl": "",
      "userId": "01183676841716453456"
     },
     "user_tz": -60
    },
    "id": "xA-R4nFcCp0C",
    "outputId": "6ff170d3-4db1-4353-98da-5c1a77312e5b"
   },
   "outputs": [
    {
     "name": "stdout",
     "output_type": "stream",
     "text": [
      "Train on 404 samples, validate on 102 samples\n",
      "Epoch 1/200\n",
      "404/404 [==============================] - 0s 666us/step - loss: 4938.8670 - mae: 68.8235 - val_loss: 4381.0495 - val_mae: 65.2178\n",
      "Epoch 2/200\n",
      "404/404 [==============================] - 0s 56us/step - loss: 4021.0859 - mae: 62.0244 - val_loss: 3521.1329 - val_mae: 58.3749\n",
      "Epoch 3/200\n",
      "404/404 [==============================] - 0s 56us/step - loss: 3231.5077 - mae: 55.4273 - val_loss: 2782.7235 - val_mae: 51.7476\n",
      "Epoch 4/200\n",
      "404/404 [==============================] - 0s 57us/step - loss: 2561.8576 - mae: 49.1407 - val_loss: 2168.0418 - val_mae: 45.4574\n",
      "Epoch 5/200\n",
      "404/404 [==============================] - 0s 55us/step - loss: 2007.0253 - mae: 43.2204 - val_loss: 1670.4510 - val_mae: 39.5891\n",
      "Epoch 6/200\n",
      "404/404 [==============================] - 0s 55us/step - loss: 1558.0145 - mae: 37.7021 - val_loss: 1275.4587 - val_mae: 34.1657\n",
      "Epoch 7/200\n",
      "404/404 [==============================] - 0s 55us/step - loss: 1196.9180 - mae: 32.6257 - val_loss: 972.4192 - val_mae: 29.2714\n",
      "Epoch 8/200\n",
      "404/404 [==============================] - 0s 53us/step - loss: 922.6526 - mae: 28.0029 - val_loss: 739.2152 - val_mae: 24.7928\n",
      "Epoch 9/200\n",
      "404/404 [==============================] - 0s 54us/step - loss: 708.0214 - mae: 23.8778 - val_loss: 567.6801 - val_mae: 20.9230\n",
      "Epoch 10/200\n",
      "404/404 [==============================] - 0s 50us/step - loss: 547.6308 - mae: 20.3351 - val_loss: 442.9777 - val_mae: 17.8604\n",
      "Epoch 11/200\n",
      "404/404 [==============================] - 0s 51us/step - loss: 432.5148 - mae: 17.5391 - val_loss: 354.2068 - val_mae: 15.6304\n",
      "Epoch 12/200\n",
      "404/404 [==============================] - 0s 51us/step - loss: 347.8024 - mae: 15.4574 - val_loss: 294.4154 - val_mae: 14.1033\n",
      "Epoch 13/200\n",
      "404/404 [==============================] - 0s 52us/step - loss: 289.0944 - mae: 13.9396 - val_loss: 254.8552 - val_mae: 13.2127\n",
      "Epoch 14/200\n",
      "404/404 [==============================] - 0s 51us/step - loss: 249.9071 - mae: 12.8129 - val_loss: 229.0922 - val_mae: 12.5484\n",
      "Epoch 15/200\n",
      "404/404 [==============================] - 0s 53us/step - loss: 222.2609 - mae: 11.9239 - val_loss: 213.8276 - val_mae: 12.0377\n",
      "Epoch 16/200\n",
      "404/404 [==============================] - 0s 52us/step - loss: 203.8138 - mae: 11.2496 - val_loss: 204.8055 - val_mae: 11.6769\n",
      "Epoch 17/200\n",
      "404/404 [==============================] - 0s 51us/step - loss: 192.6155 - mae: 10.7577 - val_loss: 199.2124 - val_mae: 11.3885\n",
      "Epoch 18/200\n",
      "404/404 [==============================] - 0s 51us/step - loss: 184.5673 - mae: 10.3512 - val_loss: 195.7806 - val_mae: 11.1868\n",
      "Epoch 19/200\n",
      "404/404 [==============================] - 0s 54us/step - loss: 178.7559 - mae: 10.0736 - val_loss: 193.5197 - val_mae: 11.0501\n",
      "Epoch 20/200\n",
      "404/404 [==============================] - 0s 56us/step - loss: 175.1281 - mae: 9.8790 - val_loss: 191.9577 - val_mae: 10.9827\n",
      "Epoch 21/200\n",
      "404/404 [==============================] - 0s 65us/step - loss: 171.9308 - mae: 9.7009 - val_loss: 190.3579 - val_mae: 10.9213\n",
      "Epoch 22/200\n",
      "404/404 [==============================] - 0s 55us/step - loss: 169.4767 - mae: 9.5918 - val_loss: 188.5553 - val_mae: 10.8561\n",
      "Epoch 23/200\n",
      "404/404 [==============================] - 0s 64us/step - loss: 167.4437 - mae: 9.5056 - val_loss: 186.8084 - val_mae: 10.7891\n",
      "Epoch 24/200\n",
      "404/404 [==============================] - 0s 61us/step - loss: 165.4555 - mae: 9.4268 - val_loss: 185.1880 - val_mae: 10.7249\n",
      "Epoch 25/200\n",
      "404/404 [==============================] - 0s 56us/step - loss: 163.6106 - mae: 9.3620 - val_loss: 183.3797 - val_mae: 10.6607\n",
      "Epoch 26/200\n",
      "404/404 [==============================] - 0s 55us/step - loss: 161.8827 - mae: 9.3034 - val_loss: 181.8994 - val_mae: 10.6139\n",
      "Epoch 27/200\n",
      "404/404 [==============================] - 0s 55us/step - loss: 160.0619 - mae: 9.2508 - val_loss: 179.4968 - val_mae: 10.5462\n",
      "Epoch 28/200\n",
      "404/404 [==============================] - 0s 55us/step - loss: 158.3773 - mae: 9.2016 - val_loss: 177.5086 - val_mae: 10.4891\n",
      "Epoch 29/200\n",
      "404/404 [==============================] - 0s 56us/step - loss: 156.6780 - mae: 9.1505 - val_loss: 175.9307 - val_mae: 10.4448\n",
      "Epoch 30/200\n",
      "404/404 [==============================] - 0s 58us/step - loss: 155.0510 - mae: 9.1083 - val_loss: 173.5994 - val_mae: 10.3801\n",
      "Epoch 31/200\n",
      "404/404 [==============================] - 0s 51us/step - loss: 153.3821 - mae: 9.0641 - val_loss: 171.5648 - val_mae: 10.3242\n",
      "Epoch 32/200\n",
      "404/404 [==============================] - 0s 66us/step - loss: 151.8152 - mae: 9.0206 - val_loss: 169.2843 - val_mae: 10.2589\n",
      "Epoch 33/200\n",
      "404/404 [==============================] - 0s 53us/step - loss: 150.2882 - mae: 8.9866 - val_loss: 168.1285 - val_mae: 10.2313\n",
      "Epoch 34/200\n",
      "404/404 [==============================] - 0s 53us/step - loss: 149.1273 - mae: 8.9541 - val_loss: 165.1411 - val_mae: 10.1394\n",
      "Epoch 35/200\n",
      "404/404 [==============================] - 0s 53us/step - loss: 147.1378 - mae: 8.8989 - val_loss: 163.5873 - val_mae: 10.0977\n",
      "Epoch 36/200\n",
      "404/404 [==============================] - 0s 52us/step - loss: 145.7027 - mae: 8.8605 - val_loss: 161.9633 - val_mae: 10.0528\n",
      "Epoch 37/200\n",
      "404/404 [==============================] - 0s 59us/step - loss: 144.2837 - mae: 8.8256 - val_loss: 160.1656 - val_mae: 10.0003\n",
      "Epoch 38/200\n",
      "404/404 [==============================] - 0s 52us/step - loss: 142.8267 - mae: 8.7889 - val_loss: 158.4999 - val_mae: 9.9515\n",
      "Epoch 39/200\n",
      "404/404 [==============================] - 0s 55us/step - loss: 141.4770 - mae: 8.7558 - val_loss: 156.9206 - val_mae: 9.9052\n",
      "Epoch 40/200\n",
      "404/404 [==============================] - 0s 53us/step - loss: 140.0833 - mae: 8.7219 - val_loss: 155.4069 - val_mae: 9.8608\n",
      "Epoch 41/200\n",
      "404/404 [==============================] - 0s 52us/step - loss: 138.7276 - mae: 8.6849 - val_loss: 153.5350 - val_mae: 9.8021\n",
      "Epoch 42/200\n",
      "404/404 [==============================] - 0s 55us/step - loss: 137.5229 - mae: 8.6532 - val_loss: 151.7146 - val_mae: 9.7474\n",
      "Epoch 43/200\n",
      "404/404 [==============================] - 0s 53us/step - loss: 136.0578 - mae: 8.6164 - val_loss: 150.2963 - val_mae: 9.7053\n",
      "Epoch 44/200\n",
      "404/404 [==============================] - 0s 55us/step - loss: 134.7948 - mae: 8.5835 - val_loss: 148.9864 - val_mae: 9.6663\n",
      "Epoch 45/200\n",
      "404/404 [==============================] - 0s 52us/step - loss: 133.7419 - mae: 8.5547 - val_loss: 147.0531 - val_mae: 9.6054\n",
      "Epoch 46/200\n",
      "404/404 [==============================] - 0s 53us/step - loss: 132.3665 - mae: 8.5205 - val_loss: 145.8886 - val_mae: 9.5712\n",
      "Epoch 47/200\n",
      "404/404 [==============================] - 0s 51us/step - loss: 131.0951 - mae: 8.4892 - val_loss: 144.5761 - val_mae: 9.5311\n",
      "Epoch 48/200\n",
      "404/404 [==============================] - 0s 52us/step - loss: 129.9303 - mae: 8.4641 - val_loss: 143.2839 - val_mae: 9.4913\n",
      "Epoch 49/200\n",
      "404/404 [==============================] - 0s 54us/step - loss: 128.7278 - mae: 8.4342 - val_loss: 142.0787 - val_mae: 9.4545\n",
      "Epoch 50/200\n",
      "404/404 [==============================] - 0s 54us/step - loss: 127.6218 - mae: 8.4085 - val_loss: 141.0121 - val_mae: 9.4225\n",
      "Epoch 51/200\n",
      "404/404 [==============================] - 0s 53us/step - loss: 126.3846 - mae: 8.3690 - val_loss: 139.0868 - val_mae: 9.3583\n",
      "Epoch 52/200\n",
      "404/404 [==============================] - 0s 56us/step - loss: 125.2893 - mae: 8.3355 - val_loss: 137.6825 - val_mae: 9.3128\n",
      "Epoch 53/200\n",
      "404/404 [==============================] - 0s 55us/step - loss: 124.0957 - mae: 8.3036 - val_loss: 136.7314 - val_mae: 9.2825\n",
      "Epoch 54/200\n",
      "404/404 [==============================] - 0s 54us/step - loss: 123.1257 - mae: 8.2868 - val_loss: 136.0213 - val_mae: 9.2614\n",
      "Epoch 55/200\n",
      "404/404 [==============================] - 0s 57us/step - loss: 122.0891 - mae: 8.2532 - val_loss: 134.3092 - val_mae: 9.2031\n",
      "Epoch 56/200\n",
      "404/404 [==============================] - 0s 56us/step - loss: 120.9821 - mae: 8.2290 - val_loss: 133.4854 - val_mae: 9.1766\n",
      "Epoch 57/200\n",
      "404/404 [==============================] - 0s 52us/step - loss: 119.8380 - mae: 8.1959 - val_loss: 132.1788 - val_mae: 9.1323\n",
      "Epoch 58/200\n",
      "404/404 [==============================] - 0s 54us/step - loss: 118.8541 - mae: 8.1667 - val_loss: 131.0337 - val_mae: 9.0942\n",
      "Epoch 59/200\n",
      "404/404 [==============================] - 0s 54us/step - loss: 117.8436 - mae: 8.1428 - val_loss: 130.4446 - val_mae: 9.0785\n",
      "Epoch 60/200\n",
      "404/404 [==============================] - 0s 56us/step - loss: 116.7707 - mae: 8.1122 - val_loss: 129.2199 - val_mae: 9.0359\n",
      "Epoch 61/200\n",
      "404/404 [==============================] - 0s 54us/step - loss: 115.8805 - mae: 8.0802 - val_loss: 128.0353 - val_mae: 8.9949\n",
      "Epoch 62/200\n",
      "404/404 [==============================] - 0s 54us/step - loss: 114.8351 - mae: 8.0564 - val_loss: 127.1936 - val_mae: 8.9705\n",
      "Epoch 63/200\n",
      "404/404 [==============================] - 0s 55us/step - loss: 113.8562 - mae: 8.0335 - val_loss: 126.2848 - val_mae: 8.9409\n",
      "Epoch 64/200\n",
      "404/404 [==============================] - 0s 54us/step - loss: 112.9316 - mae: 8.0111 - val_loss: 125.6646 - val_mae: 8.9246\n",
      "Epoch 65/200\n",
      "404/404 [==============================] - 0s 52us/step - loss: 111.9400 - mae: 7.9850 - val_loss: 124.5250 - val_mae: 8.8827\n",
      "Epoch 66/200\n",
      "404/404 [==============================] - 0s 55us/step - loss: 111.0540 - mae: 7.9536 - val_loss: 123.4439 - val_mae: 8.8421\n",
      "Epoch 67/200\n",
      "404/404 [==============================] - 0s 51us/step - loss: 110.1688 - mae: 7.9366 - val_loss: 122.8819 - val_mae: 8.8290\n",
      "Epoch 68/200\n",
      "404/404 [==============================] - 0s 54us/step - loss: 109.3096 - mae: 7.9110 - val_loss: 121.7475 - val_mae: 8.7854\n",
      "Epoch 69/200\n",
      "404/404 [==============================] - 0s 58us/step - loss: 108.3398 - mae: 7.8839 - val_loss: 121.0340 - val_mae: 8.7614\n",
      "Epoch 70/200\n",
      "404/404 [==============================] - 0s 57us/step - loss: 107.5442 - mae: 7.8714 - val_loss: 120.4510 - val_mae: 8.7438\n",
      "Epoch 71/200\n",
      "404/404 [==============================] - 0s 56us/step - loss: 106.8179 - mae: 7.8539 - val_loss: 119.8774 - val_mae: 8.7267\n",
      "Epoch 72/200\n",
      "404/404 [==============================] - 0s 54us/step - loss: 105.8875 - mae: 7.8196 - val_loss: 118.6478 - val_mae: 8.6760\n",
      "Epoch 73/200\n",
      "404/404 [==============================] - 0s 55us/step - loss: 105.1282 - mae: 7.8000 - val_loss: 118.0616 - val_mae: 8.6594\n",
      "Epoch 74/200\n",
      "404/404 [==============================] - 0s 58us/step - loss: 104.2568 - mae: 7.7786 - val_loss: 117.3415 - val_mae: 8.6345\n",
      "Epoch 75/200\n",
      "404/404 [==============================] - 0s 59us/step - loss: 103.4714 - mae: 7.7494 - val_loss: 116.3574 - val_mae: 8.5938\n",
      "Epoch 76/200\n",
      "404/404 [==============================] - ETA: 0s - loss: 116.6686 - mae: 8.606 - 0s 61us/step - loss: 102.6893 - mae: 7.7266 - val_loss: 115.7567 - val_mae: 8.5747\n",
      "Epoch 77/200\n",
      "404/404 [==============================] - 0s 55us/step - loss: 102.0110 - mae: 7.7081 - val_loss: 115.0084 - val_mae: 8.5474\n",
      "Epoch 78/200\n",
      "404/404 [==============================] - 0s 54us/step - loss: 101.2435 - mae: 7.6775 - val_loss: 114.0417 - val_mae: 8.5060\n",
      "Epoch 79/200\n",
      "404/404 [==============================] - 0s 54us/step - loss: 100.5267 - mae: 7.6608 - val_loss: 113.5829 - val_mae: 8.4941\n",
      "Epoch 80/200\n",
      "404/404 [==============================] - 0s 53us/step - loss: 99.7944 - mae: 7.6401 - val_loss: 112.7678 - val_mae: 8.4631\n",
      "Epoch 81/200\n",
      "404/404 [==============================] - 0s 53us/step - loss: 99.1719 - mae: 7.6159 - val_loss: 111.9921 - val_mae: 8.4331\n",
      "Epoch 82/200\n",
      "404/404 [==============================] - 0s 53us/step - loss: 98.3800 - mae: 7.5988 - val_loss: 111.7836 - val_mae: 8.4345\n",
      "Epoch 83/200\n",
      "404/404 [==============================] - 0s 51us/step - loss: 97.7159 - mae: 7.5904 - val_loss: 111.2628 - val_mae: 8.4171\n",
      "Epoch 84/200\n",
      "404/404 [==============================] - 0s 53us/step - loss: 97.0258 - mae: 7.5615 - val_loss: 110.4628 - val_mae: 8.3838\n",
      "Epoch 85/200\n",
      "404/404 [==============================] - 0s 55us/step - loss: 96.3445 - mae: 7.5380 - val_loss: 109.9232 - val_mae: 8.3672\n",
      "Epoch 86/200\n",
      "404/404 [==============================] - 0s 57us/step - loss: 95.6448 - mae: 7.5183 - val_loss: 109.3393 - val_mae: 8.3451\n",
      "Epoch 87/200\n",
      "404/404 [==============================] - 0s 54us/step - loss: 95.1102 - mae: 7.4958 - val_loss: 108.4099 - val_mae: 8.3045\n",
      "Epoch 88/200\n",
      "404/404 [==============================] - 0s 56us/step - loss: 94.3638 - mae: 7.4696 - val_loss: 107.8839 - val_mae: 8.2849\n",
      "Epoch 89/200\n",
      "404/404 [==============================] - 0s 53us/step - loss: 93.8044 - mae: 7.4558 - val_loss: 107.4989 - val_mae: 8.2742\n",
      "Epoch 90/200\n",
      "404/404 [==============================] - 0s 55us/step - loss: 93.1043 - mae: 7.4360 - val_loss: 106.8397 - val_mae: 8.2476\n",
      "Epoch 91/200\n",
      "404/404 [==============================] - 0s 55us/step - loss: 92.4773 - mae: 7.4089 - val_loss: 106.1159 - val_mae: 8.2150\n",
      "Epoch 92/200\n",
      "404/404 [==============================] - 0s 54us/step - loss: 91.9235 - mae: 7.3855 - val_loss: 105.5301 - val_mae: 8.1913\n",
      "Epoch 93/200\n",
      "404/404 [==============================] - 0s 56us/step - loss: 91.4550 - mae: 7.3837 - val_loss: 105.2614 - val_mae: 8.1867\n",
      "Epoch 94/200\n",
      "404/404 [==============================] - 0s 59us/step - loss: 90.7557 - mae: 7.3569 - val_loss: 104.6499 - val_mae: 8.1585\n",
      "Epoch 95/200\n",
      "404/404 [==============================] - 0s 54us/step - loss: 90.3342 - mae: 7.3456 - val_loss: 104.2271 - val_mae: 8.1439\n",
      "Epoch 96/200\n",
      "404/404 [==============================] - 0s 55us/step - loss: 89.6960 - mae: 7.3026 - val_loss: 103.2546 - val_mae: 8.0896\n",
      "Epoch 97/200\n",
      "404/404 [==============================] - 0s 55us/step - loss: 89.1262 - mae: 7.2795 - val_loss: 102.9343 - val_mae: 8.0828\n",
      "Epoch 98/200\n",
      "404/404 [==============================] - 0s 53us/step - loss: 88.6450 - mae: 7.2624 - val_loss: 102.1820 - val_mae: 8.0459\n",
      "Epoch 99/200\n",
      "404/404 [==============================] - 0s 53us/step - loss: 88.0216 - mae: 7.2379 - val_loss: 101.7109 - val_mae: 8.0257\n",
      "Epoch 100/200\n",
      "404/404 [==============================] - 0s 56us/step - loss: 87.5040 - mae: 7.2246 - val_loss: 101.4245 - val_mae: 8.0183\n",
      "Epoch 101/200\n",
      "404/404 [==============================] - 0s 56us/step - loss: 87.0193 - mae: 7.2079 - val_loss: 100.8754 - val_mae: 7.9911\n",
      "Epoch 102/200\n",
      "404/404 [==============================] - 0s 56us/step - loss: 86.5032 - mae: 7.1839 - val_loss: 100.4783 - val_mae: 7.9749\n",
      "Epoch 103/200\n",
      "404/404 [==============================] - 0s 54us/step - loss: 86.0906 - mae: 7.1839 - val_loss: 100.4260 - val_mae: 7.9821\n",
      "Epoch 104/200\n",
      "404/404 [==============================] - 0s 53us/step - loss: 85.7718 - mae: 7.1627 - val_loss: 99.5151 - val_mae: 7.9272\n",
      "Epoch 105/200\n",
      "404/404 [==============================] - 0s 56us/step - loss: 85.2964 - mae: 7.1473 - val_loss: 99.4537 - val_mae: 7.9337\n",
      "Epoch 106/200\n",
      "404/404 [==============================] - 0s 56us/step - loss: 84.6422 - mae: 7.1218 - val_loss: 98.9366 - val_mae: 7.9084\n",
      "Epoch 107/200\n",
      "404/404 [==============================] - 0s 95us/step - loss: 84.1795 - mae: 7.1001 - val_loss: 98.3603 - val_mae: 7.8772\n",
      "Epoch 108/200\n",
      "404/404 [==============================] - 0s 54us/step - loss: 83.7641 - mae: 7.0748 - val_loss: 97.9313 - val_mae: 7.8570\n",
      "Epoch 109/200\n",
      "404/404 [==============================] - 0s 55us/step - loss: 83.5359 - mae: 7.0472 - val_loss: 97.2295 - val_mae: 7.8129\n",
      "Epoch 110/200\n",
      "404/404 [==============================] - 0s 53us/step - loss: 82.9102 - mae: 7.0269 - val_loss: 96.8951 - val_mae: 7.8040\n",
      "Epoch 111/200\n",
      "404/404 [==============================] - 0s 54us/step - loss: 82.4641 - mae: 7.0188 - val_loss: 96.6307 - val_mae: 7.7983\n",
      "Epoch 112/200\n",
      "404/404 [==============================] - 0s 60us/step - loss: 82.0998 - mae: 7.0039 - val_loss: 96.1884 - val_mae: 7.7731\n",
      "Epoch 113/200\n",
      "404/404 [==============================] - 0s 59us/step - loss: 81.7154 - mae: 6.9957 - val_loss: 95.8991 - val_mae: 7.7661\n",
      "Epoch 114/200\n",
      "404/404 [==============================] - 0s 59us/step - loss: 81.3201 - mae: 6.9711 - val_loss: 95.2944 - val_mae: 7.7274\n",
      "Epoch 115/200\n",
      "404/404 [==============================] - 0s 64us/step - loss: 80.8662 - mae: 6.9485 - val_loss: 95.0076 - val_mae: 7.7172\n",
      "Epoch 116/200\n",
      "404/404 [==============================] - 0s 61us/step - loss: 80.5150 - mae: 6.9414 - val_loss: 94.7525 - val_mae: 7.7102\n",
      "Epoch 117/200\n",
      "404/404 [==============================] - 0s 65us/step - loss: 80.1788 - mae: 6.9171 - val_loss: 94.1415 - val_mae: 7.6665\n"
     ]
    },
    {
     "name": "stdout",
     "output_type": "stream",
     "text": [
      "Epoch 118/200\n",
      "404/404 [==============================] - 0s 64us/step - loss: 79.7811 - mae: 6.8961 - val_loss: 93.8132 - val_mae: 7.6515\n",
      "Epoch 119/200\n",
      "404/404 [==============================] - 0s 65us/step - loss: 79.4462 - mae: 6.8966 - val_loss: 93.6368 - val_mae: 7.6574\n",
      "Epoch 120/200\n",
      "404/404 [==============================] - 0s 60us/step - loss: 79.0047 - mae: 6.8769 - val_loss: 93.1451 - val_mae: 7.6214\n",
      "Epoch 121/200\n",
      "404/404 [==============================] - 0s 61us/step - loss: 78.6163 - mae: 6.8443 - val_loss: 92.6803 - val_mae: 7.5907\n",
      "Epoch 122/200\n",
      "404/404 [==============================] - 0s 62us/step - loss: 78.2652 - mae: 6.8224 - val_loss: 92.3649 - val_mae: 7.5727\n",
      "Epoch 123/200\n",
      "404/404 [==============================] - 0s 61us/step - loss: 78.0059 - mae: 6.8203 - val_loss: 92.0894 - val_mae: 7.5628\n",
      "Epoch 124/200\n",
      "404/404 [==============================] - 0s 57us/step - loss: 77.6153 - mae: 6.7934 - val_loss: 91.6356 - val_mae: 7.5307\n",
      "Epoch 125/200\n",
      "404/404 [==============================] - 0s 62us/step - loss: 77.2442 - mae: 6.7712 - val_loss: 91.2460 - val_mae: 7.5107\n",
      "Epoch 126/200\n",
      "404/404 [==============================] - 0s 62us/step - loss: 76.9010 - mae: 6.7652 - val_loss: 91.0011 - val_mae: 7.5048\n",
      "Epoch 127/200\n",
      "404/404 [==============================] - 0s 62us/step - loss: 76.6006 - mae: 6.7651 - val_loss: 90.8176 - val_mae: 7.5002\n",
      "Epoch 128/200\n",
      "404/404 [==============================] - 0s 63us/step - loss: 76.2848 - mae: 6.7380 - val_loss: 90.2732 - val_mae: 7.4580\n",
      "Epoch 129/200\n",
      "404/404 [==============================] - 0s 60us/step - loss: 75.9588 - mae: 6.7178 - val_loss: 89.9464 - val_mae: 7.4393\n",
      "Epoch 130/200\n",
      "404/404 [==============================] - 0s 60us/step - loss: 75.6395 - mae: 6.7048 - val_loss: 89.7290 - val_mae: 7.4319\n",
      "Epoch 131/200\n",
      "404/404 [==============================] - 0s 60us/step - loss: 75.3316 - mae: 6.6954 - val_loss: 89.3226 - val_mae: 7.4060\n",
      "Epoch 132/200\n",
      "404/404 [==============================] - 0s 60us/step - loss: 75.1075 - mae: 6.6843 - val_loss: 89.0736 - val_mae: 7.3952\n",
      "Epoch 133/200\n",
      "404/404 [==============================] - 0s 62us/step - loss: 74.7697 - mae: 6.6648 - val_loss: 88.6854 - val_mae: 7.3640\n",
      "Epoch 134/200\n",
      "404/404 [==============================] - 0s 61us/step - loss: 74.4614 - mae: 6.6330 - val_loss: 88.3760 - val_mae: 7.3466\n",
      "Epoch 135/200\n",
      "404/404 [==============================] - 0s 65us/step - loss: 74.1825 - mae: 6.6329 - val_loss: 88.1396 - val_mae: 7.3386\n",
      "Epoch 136/200\n",
      "404/404 [==============================] - 0s 63us/step - loss: 74.0548 - mae: 6.6051 - val_loss: 87.5971 - val_mae: 7.2852\n",
      "Epoch 137/200\n",
      "404/404 [==============================] - 0s 63us/step - loss: 73.6544 - mae: 6.5978 - val_loss: 87.5927 - val_mae: 7.3083\n",
      "Epoch 138/200\n",
      "404/404 [==============================] - 0s 58us/step - loss: 73.4779 - mae: 6.6139 - val_loss: 87.3760 - val_mae: 7.2997\n",
      "Epoch 139/200\n",
      "404/404 [==============================] - 0s 59us/step - loss: 73.0655 - mae: 6.5781 - val_loss: 86.9873 - val_mae: 7.2635\n",
      "Epoch 140/200\n",
      "404/404 [==============================] - 0s 59us/step - loss: 72.8337 - mae: 6.5416 - val_loss: 86.5542 - val_mae: 7.2245\n",
      "Epoch 141/200\n",
      "404/404 [==============================] - 0s 60us/step - loss: 72.5700 - mae: 6.5292 - val_loss: 86.2889 - val_mae: 7.2156\n",
      "Epoch 142/200\n",
      "404/404 [==============================] - 0s 59us/step - loss: 72.3194 - mae: 6.5235 - val_loss: 86.0800 - val_mae: 7.2035\n",
      "Epoch 143/200\n",
      "404/404 [==============================] - 0s 58us/step - loss: 72.0440 - mae: 6.5011 - val_loss: 85.7640 - val_mae: 7.1798\n",
      "Epoch 144/200\n",
      "404/404 [==============================] - 0s 61us/step - loss: 71.8630 - mae: 6.4852 - val_loss: 85.4068 - val_mae: 7.1541\n",
      "Epoch 145/200\n",
      "404/404 [==============================] - 0s 64us/step - loss: 71.6148 - mae: 6.4879 - val_loss: 85.3929 - val_mae: 7.1693\n",
      "Epoch 146/200\n",
      "404/404 [==============================] - 0s 63us/step - loss: 71.3274 - mae: 6.4660 - val_loss: 84.9859 - val_mae: 7.1290\n",
      "Epoch 147/200\n",
      "404/404 [==============================] - 0s 60us/step - loss: 71.1327 - mae: 6.4577 - val_loss: 84.7994 - val_mae: 7.1265\n",
      "Epoch 148/200\n",
      "404/404 [==============================] - 0s 61us/step - loss: 70.8776 - mae: 6.4455 - val_loss: 84.5322 - val_mae: 7.1064\n",
      "Epoch 149/200\n",
      "404/404 [==============================] - 0s 61us/step - loss: 70.6270 - mae: 6.4259 - val_loss: 84.2007 - val_mae: 7.0770\n",
      "Epoch 150/200\n",
      "404/404 [==============================] - 0s 61us/step - loss: 70.3654 - mae: 6.4068 - val_loss: 84.0516 - val_mae: 7.0714\n",
      "Epoch 151/200\n",
      "404/404 [==============================] - 0s 65us/step - loss: 70.2320 - mae: 6.4087 - val_loss: 83.9610 - val_mae: 7.0811\n",
      "Epoch 152/200\n",
      "404/404 [==============================] - 0s 66us/step - loss: 69.9296 - mae: 6.3888 - val_loss: 83.5134 - val_mae: 7.0278\n",
      "Epoch 153/200\n",
      "404/404 [==============================] - 0s 63us/step - loss: 69.7589 - mae: 6.3449 - val_loss: 83.2539 - val_mae: 7.0022\n",
      "Epoch 154/200\n",
      "404/404 [==============================] - 0s 60us/step - loss: 69.5578 - mae: 6.3539 - val_loss: 83.0821 - val_mae: 7.0078\n",
      "Epoch 155/200\n",
      "404/404 [==============================] - 0s 61us/step - loss: 69.3267 - mae: 6.3457 - val_loss: 82.7804 - val_mae: 6.9926\n",
      "Epoch 156/200\n",
      "404/404 [==============================] - 0s 60us/step - loss: 69.0594 - mae: 6.3201 - val_loss: 82.5000 - val_mae: 6.9605\n",
      "Epoch 157/200\n",
      "404/404 [==============================] - 0s 59us/step - loss: 68.8567 - mae: 6.3107 - val_loss: 82.2481 - val_mae: 6.9485\n",
      "Epoch 158/200\n",
      "404/404 [==============================] - 0s 60us/step - loss: 68.5984 - mae: 6.2915 - val_loss: 81.9885 - val_mae: 6.9277\n",
      "Epoch 159/200\n",
      "404/404 [==============================] - 0s 60us/step - loss: 68.3971 - mae: 6.2740 - val_loss: 81.7735 - val_mae: 6.9065\n",
      "Epoch 160/200\n",
      "404/404 [==============================] - 0s 59us/step - loss: 68.1878 - mae: 6.2617 - val_loss: 81.6394 - val_mae: 6.9067\n",
      "Epoch 161/200\n",
      "404/404 [==============================] - 0s 64us/step - loss: 68.0495 - mae: 6.2555 - val_loss: 81.3321 - val_mae: 6.8848\n",
      "Epoch 162/200\n",
      "404/404 [==============================] - 0s 66us/step - loss: 67.8678 - mae: 6.2643 - val_loss: 81.3850 - val_mae: 6.9168\n",
      "Epoch 163/200\n",
      "404/404 [==============================] - 0s 64us/step - loss: 67.6526 - mae: 6.2643 - val_loss: 81.0520 - val_mae: 6.8811\n",
      "Epoch 164/200\n",
      "404/404 [==============================] - 0s 61us/step - loss: 67.3991 - mae: 6.2133 - val_loss: 80.6473 - val_mae: 6.8278\n",
      "Epoch 165/200\n",
      "404/404 [==============================] - 0s 60us/step - loss: 67.2279 - mae: 6.1780 - val_loss: 80.4925 - val_mae: 6.8099\n",
      "Epoch 166/200\n",
      "404/404 [==============================] - 0s 63us/step - loss: 67.0292 - mae: 6.1665 - val_loss: 80.2342 - val_mae: 6.8013\n",
      "Epoch 167/200\n",
      "404/404 [==============================] - 0s 61us/step - loss: 66.9432 - mae: 6.1836 - val_loss: 80.1826 - val_mae: 6.8192\n",
      "Epoch 168/200\n",
      "404/404 [==============================] - 0s 62us/step - loss: 66.7108 - mae: 6.1640 - val_loss: 79.8661 - val_mae: 6.7849\n",
      "Epoch 169/200\n",
      "404/404 [==============================] - 0s 61us/step - loss: 66.4641 - mae: 6.1384 - val_loss: 79.5672 - val_mae: 6.7542\n",
      "Epoch 170/200\n",
      "404/404 [==============================] - 0s 64us/step - loss: 66.3117 - mae: 6.1166 - val_loss: 79.4101 - val_mae: 6.7464\n",
      "Epoch 171/200\n",
      "404/404 [==============================] - 0s 65us/step - loss: 66.0926 - mae: 6.1159 - val_loss: 79.2282 - val_mae: 6.7399\n",
      "Epoch 172/200\n",
      "404/404 [==============================] - 0s 62us/step - loss: 65.9765 - mae: 6.1006 - val_loss: 79.0886 - val_mae: 6.7259\n",
      "Epoch 173/200\n",
      "404/404 [==============================] - 0s 63us/step - loss: 65.8082 - mae: 6.1041 - val_loss: 78.9483 - val_mae: 6.7279\n",
      "Epoch 174/200\n",
      "404/404 [==============================] - 0s 63us/step - loss: 65.6116 - mae: 6.0988 - val_loss: 78.6948 - val_mae: 6.7102\n",
      "Epoch 175/200\n",
      "404/404 [==============================] - 0s 66us/step - loss: 65.4799 - mae: 6.0891 - val_loss: 78.4338 - val_mae: 6.6868\n",
      "Epoch 176/200\n",
      "404/404 [==============================] - 0s 60us/step - loss: 65.3208 - mae: 6.0499 - val_loss: 78.1246 - val_mae: 6.6522\n",
      "Epoch 177/200\n",
      "404/404 [==============================] - 0s 61us/step - loss: 65.1008 - mae: 6.0297 - val_loss: 77.9609 - val_mae: 6.6476\n",
      "Epoch 178/200\n",
      "404/404 [==============================] - 0s 60us/step - loss: 64.9609 - mae: 6.0355 - val_loss: 77.7679 - val_mae: 6.6382\n",
      "Epoch 179/200\n",
      "404/404 [==============================] - 0s 62us/step - loss: 64.8769 - mae: 6.0371 - val_loss: 77.7330 - val_mae: 6.6520\n",
      "Epoch 180/200\n",
      "404/404 [==============================] - 0s 62us/step - loss: 64.6027 - mae: 6.0235 - val_loss: 77.4425 - val_mae: 6.6093\n",
      "Epoch 181/200\n",
      "404/404 [==============================] - 0s 64us/step - loss: 64.5093 - mae: 5.9801 - val_loss: 77.2301 - val_mae: 6.5852\n",
      "Epoch 182/200\n",
      "404/404 [==============================] - 0s 63us/step - loss: 64.3162 - mae: 5.9693 - val_loss: 77.0985 - val_mae: 6.5915\n",
      "Epoch 183/200\n",
      "404/404 [==============================] - 0s 62us/step - loss: 64.2421 - mae: 5.9984 - val_loss: 77.0147 - val_mae: 6.5934\n",
      "Epoch 184/200\n",
      "404/404 [==============================] - 0s 58us/step - loss: 64.0623 - mae: 5.9647 - val_loss: 76.7400 - val_mae: 6.5562\n",
      "Epoch 185/200\n",
      "404/404 [==============================] - 0s 66us/step - loss: 63.8646 - mae: 5.9493 - val_loss: 76.5883 - val_mae: 6.5566\n",
      "Epoch 186/200\n",
      "404/404 [==============================] - 0s 66us/step - loss: 63.7477 - mae: 5.9512 - val_loss: 76.4572 - val_mae: 6.5550\n",
      "Epoch 187/200\n",
      "404/404 [==============================] - 0s 61us/step - loss: 63.7218 - mae: 5.9731 - val_loss: 76.4203 - val_mae: 6.5686\n",
      "Epoch 188/200\n",
      "404/404 [==============================] - 0s 60us/step - loss: 63.4501 - mae: 5.9230 - val_loss: 76.0500 - val_mae: 6.5152\n",
      "Epoch 189/200\n",
      "404/404 [==============================] - 0s 63us/step - loss: 63.3308 - mae: 5.9071 - val_loss: 75.9258 - val_mae: 6.5027\n",
      "Epoch 190/200\n",
      "404/404 [==============================] - 0s 61us/step - loss: 63.2103 - mae: 5.8725 - val_loss: 75.7462 - val_mae: 6.4922\n",
      "Epoch 191/200\n",
      "404/404 [==============================] - 0s 63us/step - loss: 63.2817 - mae: 5.8549 - val_loss: 75.6090 - val_mae: 6.4842\n",
      "Epoch 192/200\n",
      "404/404 [==============================] - 0s 66us/step - loss: 62.8119 - mae: 5.8728 - val_loss: 75.4861 - val_mae: 6.5082\n",
      "Epoch 193/200\n",
      "404/404 [==============================] - 0s 68us/step - loss: 62.9313 - mae: 5.9297 - val_loss: 75.3095 - val_mae: 6.5068\n",
      "Epoch 194/200\n",
      "404/404 [==============================] - 0s 67us/step - loss: 62.6051 - mae: 5.8792 - val_loss: 75.0319 - val_mae: 6.4623\n",
      "Epoch 195/200\n",
      "404/404 [==============================] - 0s 63us/step - loss: 62.5632 - mae: 5.8625 - val_loss: 74.9593 - val_mae: 6.4648\n",
      "Epoch 196/200\n",
      "404/404 [==============================] - 0s 61us/step - loss: 62.3842 - mae: 5.8352 - val_loss: 74.7031 - val_mae: 6.4460\n",
      "Epoch 197/200\n",
      "404/404 [==============================] - 0s 64us/step - loss: 62.2324 - mae: 5.8326 - val_loss: 74.6176 - val_mae: 6.4439\n",
      "Epoch 198/200\n",
      "404/404 [==============================] - 0s 71us/step - loss: 62.1127 - mae: 5.8093 - val_loss: 74.4187 - val_mae: 6.4319\n",
      "Epoch 199/200\n",
      "404/404 [==============================] - 0s 74us/step - loss: 62.1214 - mae: 5.8326 - val_loss: 74.3962 - val_mae: 6.4458\n",
      "Epoch 200/200\n",
      "404/404 [==============================] - 0s 62us/step - loss: 61.7928 - mae: 5.8178 - val_loss: 74.1258 - val_mae: 6.4184\n"
     ]
    },
    {
     "data": {
      "text/plain": [
       "<keras.callbacks.callbacks.History at 0x7ff3da687710>"
      ]
     },
     "execution_count": 5,
     "metadata": {},
     "output_type": "execute_result"
    }
   ],
   "source": [
    "net.fit(x_train,\n",
    "        y_train,\n",
    "        validation_data=(x_test, y_test),\n",
    "        epochs=200,\n",
    "        batch_size=32)"
   ]
  },
  {
   "cell_type": "markdown",
   "metadata": {
    "colab_type": "text",
    "id": "_ZHbKrXBIzAU"
   },
   "source": [
    "**Performing Inference**\n",
    "\n",
    "After we have a trained model, we can feed the network with new input values and let it predict a new output. In our case, we are predicting the value of a house.\n",
    "\n",
    "Let's infer one set of values for a Boston House and check the error."
   ]
  },
  {
   "cell_type": "code",
   "execution_count": 6,
   "metadata": {
    "colab": {
     "base_uri": "https://localhost:8080/",
     "height": 102
    },
    "colab_type": "code",
    "executionInfo": {
     "elapsed": 654,
     "status": "ok",
     "timestamp": 1574500446680,
     "user": {
      "displayName": "Cristian Bortolini Ferreira",
      "photoUrl": "",
      "userId": "01183676841716453456"
     },
     "user_tz": -60
    },
    "id": "rN-NkkQXNqw-",
    "outputId": "ea67d5da-5cb5-40f2-f034-4b5579f68186"
   },
   "outputs": [
    {
     "name": "stdout",
     "output_type": "stream",
     "text": [
      "Inputs for the Neural Network: [ 18.0846   0.      18.1      0.       0.679    6.434  100.       1.8347\n",
      "  24.     666.      20.2     27.25    29.05  ]\n",
      "Predicted value from the neural network: [[25.276781]]\n",
      "Real value: 7.2\n",
      "Error:  18.07678108215332\n"
     ]
    }
   ],
   "source": [
    "print(\"Inputs for the Neural Network:\", x_test[0])\n",
    "prediction = net.predict(x_test[2].reshape([1,13]))\n",
    "print(\"Predicted value from the neural network:\", prediction)\n",
    "print(\"Real value:\",y_test[0])\n",
    "print(\"Error: \",(prediction[0][0] - y_test[0]))"
   ]
  },
  {
   "cell_type": "markdown",
   "metadata": {
    "colab_type": "text",
    "id": "9zn26niYIsrF"
   },
   "source": [
    "**Evaluating the trained neural network**\n",
    "\n",
    "It's always important to evaluate the network and check if it's behavior is acceptable for it's destined application.\n",
    "\n",
    "Here we are going to calculate the minimum, maximum, average absolute and standard deviation of the error of our entire test dataset. This doesn't guarantee that future inferences will always stay within this margin of error. It's possible that your network didn't. Meaning there was a set of input values very different from any inside the training dataset, therefore the network wasn't trained for that situation. "
   ]
  },
  {
   "cell_type": "code",
   "execution_count": 7,
   "metadata": {
    "colab": {},
    "colab_type": "code",
    "id": "qxPK0U-2VIjB"
   },
   "outputs": [
    {
     "name": "stdout",
     "output_type": "stream",
     "text": [
      "102/102 [==============================] - 0s 127us/step\n",
      "Mean absolute error: 6.418426990509033\n",
      "Mean squared error: 74.1257698208678\n",
      "Min error: 0.05775909423828196\n",
      "Max error: 26.930314254760745\n",
      "Standard Deviation: 5.738428349563264\n"
     ]
    }
   ],
   "source": [
    "test_mse_score, test_mae_score = net.evaluate(x_test, y_test)\n",
    "print(\"Mean absolute error:\",test_mae_score)\n",
    "print(\"Mean squared error:\",test_mse_score)\n",
    "\n",
    "predictions = net.predict(x_test).reshape(y_test.shape)\n",
    "errors = np.abs(predictions - y_test)\n",
    "\n",
    "print(\"Min error:\",errors.min())\n",
    "print(\"Max error:\",errors.max())\n",
    "print(\"Standard Deviation:\",errors.std())"
   ]
  },
  {
   "cell_type": "markdown",
   "metadata": {
    "colab_type": "text",
    "id": "uppENhVWIev1"
   },
   "source": [
    "**Saving your trained neural network**\n",
    "\n",
    "Training can take a long time to finish and occupy lots of storage with the data. We don't need to go through that again when we actually need to use the network. Let's save the network weights so we can use it whenever we want.  "
   ]
  },
  {
   "cell_type": "code",
   "execution_count": 8,
   "metadata": {
    "colab": {},
    "colab_type": "code",
    "id": "zRHt5QJeGZwV"
   },
   "outputs": [],
   "source": [
    "net.save('./regresion_boston.h5')"
   ]
  },
  {
   "cell_type": "markdown",
   "metadata": {
    "colab_type": "text",
    "id": "K6odbhuWIlgv"
   },
   "source": [
    "**Loading a pretrained neural network**\n",
    "\n",
    "We can just load the network and run inferences now that we have the trained model."
   ]
  },
  {
   "cell_type": "code",
   "execution_count": 9,
   "metadata": {
    "colab": {},
    "colab_type": "code",
    "id": "Sqlxy4J_HCf5"
   },
   "outputs": [
    {
     "name": "stdout",
     "output_type": "stream",
     "text": [
      "Predicted value from the neural network: [[7.5173564]]\n"
     ]
    }
   ],
   "source": [
    "loaded_net = load_model('./regresion_boston.h5')\n",
    "prediction_loaded = loaded_net.predict(x_test[0].reshape([1,13]))\n",
    "print(\"Predicted value from the neural network:\",prediction_loaded)"
   ]
  },
  {
   "cell_type": "code",
   "execution_count": 0,
   "metadata": {
    "colab": {},
    "colab_type": "code",
    "id": "5mWD1TVSmMxl"
   },
   "outputs": [],
   "source": []
  }
 ],
 "metadata": {
  "colab": {
   "collapsed_sections": [],
   "name": "B1-Regression.ipynb",
   "provenance": []
  },
  "kernelspec": {
   "display_name": "Python 3",
   "language": "python",
   "name": "python3"
  },
  "language_info": {
   "codemirror_mode": {
    "name": "ipython",
    "version": 3
   },
   "file_extension": ".py",
   "mimetype": "text/x-python",
   "name": "python",
   "nbconvert_exporter": "python",
   "pygments_lexer": "ipython3",
   "version": "3.7.3"
  }
 },
 "nbformat": 4,
 "nbformat_minor": 1
}
