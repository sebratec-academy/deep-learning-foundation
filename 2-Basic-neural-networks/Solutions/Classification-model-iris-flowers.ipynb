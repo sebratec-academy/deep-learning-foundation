{
 "cells": [
  {
   "cell_type": "markdown",
   "metadata": {
    "colab_type": "text",
    "id": "k2lfHSCY6afB"
   },
   "source": [
    "**Classifier**\n",
    "\n",
    "Classification involves predicting what class something belongs to. Classifiers can be binary or multi-class, meaning that they either classify something into a binary decision ( yes/no, spam/not spam, hot/cold ) or into several different categories ( blue, yellow, red or green? ). Classification models are a very common use case in deep learning, and they can be used to solve a lot of different problems. \n",
    "\n",
    "Now, we are going to build a classification model that can help us to classify some flower photographs into three different species."
   ]
  },
  {
   "cell_type": "code",
   "execution_count": 2,
   "metadata": {
    "colab": {
     "base_uri": "https://localhost:8080/",
     "height": 122
    },
    "colab_type": "code",
    "executionInfo": {
     "elapsed": 18673,
     "status": "ok",
     "timestamp": 1574459235222,
     "user": {
      "displayName": "Cristian Bortolini Ferreira",
      "photoUrl": "",
      "userId": "01183676841716453456"
     },
     "user_tz": -60
    },
    "id": "wpefszoB-gkd",
    "outputId": "0fe7faaa-9136-49fe-fc28-6f91cdc303dc"
   },
   "outputs": [
    {
     "name": "stderr",
     "output_type": "stream",
     "text": [
      "Using TensorFlow backend.\n"
     ]
    }
   ],
   "source": [
    "import numpy as np\n",
    "\n",
    "import pandas as pd\n",
    "\n",
    "from sklearn.preprocessing import LabelEncoder\n",
    "from sklearn.utils import shuffle\n",
    "from sklearn.metrics import confusion_matrix, classification_report\n",
    "\n",
    "from keras.layers import Dense, Input\n",
    "from keras.models import Model\n",
    "from keras.optimizers import Adam\n",
    "from keras.utils import np_utils"
   ]
  },
  {
   "cell_type": "markdown",
   "metadata": {
    "colab_type": "text",
    "id": "7W2mmiMtA8FH"
   },
   "source": [
    "**The Data**\n",
    "\n",
    "The Iris flower dataset or Fisher's Iris dataset is a multivariate dataset that quantifies the morphologic variation of Iris flowers of three related species.\n",
    "\n",
    "1. Sepal length in cm\n",
    "2. Sepal width in cm\n",
    "3. Petal length in cm\n",
    "4. Petal width in cm\n",
    "5. Classes:\n",
    "  - Iris Setosa\n",
    "  - Iris Versicolour\n",
    "  - Iris Virginica\n",
    "\n",
    "  ![Iris](https://s3.amazonaws.com/assets.datacamp.com/blog_assets/Machine+Learning+R/iris-machinelearning.png)\n"
   ]
  },
  {
   "cell_type": "code",
   "execution_count": 11,
   "metadata": {
    "colab": {
     "base_uri": "https://localhost:8080/",
     "height": 204
    },
    "colab_type": "code",
    "executionInfo": {
     "elapsed": 3209,
     "status": "ok",
     "timestamp": 1574459245148,
     "user": {
      "displayName": "Cristian Bortolini Ferreira",
      "photoUrl": "",
      "userId": "01183676841716453456"
     },
     "user_tz": -60
    },
    "id": "SXOX3i2Z91gR",
    "outputId": "3632b0b2-deaf-427a-cee7-830085dc03f2"
   },
   "outputs": [
    {
     "name": "stdout",
     "output_type": "stream",
     "text": [
      "--2020-02-19 08:23:25--  http://archive.ics.uci.edu/ml/machine-learning-databases/iris/iris.data\n",
      "Resolving archive.ics.uci.edu (archive.ics.uci.edu)... 128.195.10.252\n",
      "Connecting to archive.ics.uci.edu (archive.ics.uci.edu)|128.195.10.252|:80... connected.\n",
      "HTTP request sent, awaiting response... 200 OK\n",
      "Length: 4551 (4.4K) [application/x-httpd-php]\n",
      "Saving to: ‘../Datasets/iris-data.csv’\n",
      "\n",
      "../Datasets/iris-da 100%[===================>]   4.44K  --.-KB/s    in 0s      \n",
      "\n",
      "2020-02-19 08:23:26 (459 MB/s) - ‘../Datasets/iris-data.csv’ saved [4551/4551]\n",
      "\n"
     ]
    }
   ],
   "source": [
    "# Download the data\n",
    "!wget http://archive.ics.uci.edu/ml/machine-learning-databases/iris/iris.data -O ../Datasets/iris-data.csv"
   ]
  },
  {
   "cell_type": "markdown",
   "metadata": {
    "colab_type": "text",
    "id": "6VAVv11u5uVf"
   },
   "source": [
    "**Loading a csv file**\n",
    "\n",
    "This data is organized inside a csv file. We are going to read the values from this file and organize them into arrays."
   ]
  },
  {
   "cell_type": "code",
   "execution_count": 13,
   "metadata": {
    "colab": {
     "base_uri": "https://localhost:8080/",
     "height": 85
    },
    "colab_type": "code",
    "executionInfo": {
     "elapsed": 1057,
     "status": "ok",
     "timestamp": 1574459249374,
     "user": {
      "displayName": "Cristian Bortolini Ferreira",
      "photoUrl": "",
      "userId": "01183676841716453456"
     },
     "user_tz": -60
    },
    "id": "T49iXkxO2x0X",
    "outputId": "5c8adcc2-479e-49ec-de7c-b2c850fc970b"
   },
   "outputs": [
    {
     "name": "stdout",
     "output_type": "stream",
     "text": [
      "The dataset examples:\n",
      "[5.1 3.5 1.4 0.2 'Iris-setosa']\n",
      "[7.0 3.2 4.7 1.4 'Iris-versicolor']\n",
      "[6.3 3.3 6.0 2.5 'Iris-virginica']\n"
     ]
    }
   ],
   "source": [
    "import os.path\n",
    "path = \"Datasets/iris-data.csv\"\n",
    "if os.path.isfile(\"../\" + path) :\n",
    "    dataset = pd.read_csv(\"../\" + path,header=None).values\n",
    "else:\n",
    "    dataset = pd.read_csv(\"2-Basic-neural-networks/\" + path , header=None).values\n",
    "\n",
    "print(\"The dataset examples:\")\n",
    "print(dataset[0])\n",
    "print(dataset[50])\n",
    "print(dataset[100])"
   ]
  },
  {
   "cell_type": "markdown",
   "metadata": {
    "colab_type": "text",
    "id": "Exu0zpbc5z-4"
   },
   "source": [
    "**Separating the inputs and outputs**\n",
    "\n",
    "This dataset need to be organized and preprocessed before it can be used inside the neural network. Let's start by separating the input values to an array (X) and the output values to another array (Y)."
   ]
  },
  {
   "cell_type": "code",
   "execution_count": 8,
   "metadata": {
    "colab": {
     "base_uri": "https://localhost:8080/",
     "height": 85
    },
    "colab_type": "code",
    "executionInfo": {
     "elapsed": 1080,
     "status": "ok",
     "timestamp": 1574459385805,
     "user": {
      "displayName": "Cristian Bortolini Ferreira",
      "photoUrl": "",
      "userId": "01183676841716453456"
     },
     "user_tz": -60
    },
    "id": "tMhhQxQc5Zuy",
    "outputId": "fd983759-0cc3-4d63-91fa-52e68fad4bb7"
   },
   "outputs": [
    {
     "name": "stdout",
     "output_type": "stream",
     "text": [
      "The dataset examples:\n",
      "Input: [5.1 3.5 1.4 0.2] Output: Iris-setosa\n",
      "Input: [7.  3.2 4.7 1.4] Output: Iris-versicolor\n",
      "Input: [6.3 3.3 6.  2.5] Output: Iris-virginica\n"
     ]
    }
   ],
   "source": [
    "# Getting the input data\n",
    "X = dataset[:,0:4].astype(float)\n",
    "# Getting the output\n",
    "Y = dataset[:,4]\n",
    "\n",
    "print(\"The dataset examples:\")\n",
    "print(\"Input:\",X[0],\"Output:\",Y[0])\n",
    "print(\"Input:\",X[50],\"Output:\",Y[50])\n",
    "print(\"Input:\",X[100],\"Output:\",Y[100])"
   ]
  },
  {
   "cell_type": "markdown",
   "metadata": {
    "colab_type": "text",
    "id": "xYiDA7kjCRit"
   },
   "source": [
    "**Encoding the labels**\n",
    "\n",
    "Remember that neural networks are mathematical functions but our labels are names. We also need to convert the way we represent those names to a numerical form.\n",
    "\n",
    "Since we have three species of flowers, so each one of them will be represented by three numbers. Each one of these numbers will also represent an output of the neural network, so we are going to have three outputs. This means that we want only one of the outputs neurons to activate for each class we have."
   ]
  },
  {
   "cell_type": "code",
   "execution_count": 9,
   "metadata": {
    "colab": {
     "base_uri": "https://localhost:8080/",
     "height": 136
    },
    "colab_type": "code",
    "executionInfo": {
     "elapsed": 473,
     "status": "ok",
     "timestamp": 1574459385806,
     "user": {
      "displayName": "Cristian Bortolini Ferreira",
      "photoUrl": "",
      "userId": "01183676841716453456"
     },
     "user_tz": -60
    },
    "id": "6go4vm2WCQw6",
    "outputId": "19bc0a62-dca9-45ad-f5b5-7b8510783c01"
   },
   "outputs": [
    {
     "name": "stdout",
     "output_type": "stream",
     "text": [
      "The dataset examples:\n",
      "Iris-setosa\n",
      "Input: [5.1 3.5 1.4 0.2] Output: [1. 0. 0.]\n",
      "Iris-versicolor\n",
      "Input: [7.  3.2 4.7 1.4] Output: [0. 1. 0.]\n",
      "Iris-virginica\n",
      "Input: [6.3 3.3 6.  2.5] Output: [0. 0. 1.]\n"
     ]
    }
   ],
   "source": [
    "# Change the classes to numerical values\n",
    "encoder = LabelEncoder()\n",
    "encoder.fit(Y)\n",
    "encoded_Y = encoder.transform(Y)\n",
    "Y = np_utils.to_categorical(encoded_Y)\n",
    "\n",
    "print(\"The dataset examples:\")\n",
    "print(\"Iris-setosa\")\n",
    "print(\"Input:\",X[0],\"Output:\",Y[0])\n",
    "print(\"Iris-versicolor\")\n",
    "print(\"Input:\",X[50],\"Output:\",Y[50])\n",
    "print(\"Iris-virginica\")\n",
    "print(\"Input:\",X[100],\"Output:\",Y[100])"
   ]
  },
  {
   "cell_type": "markdown",
   "metadata": {
    "colab_type": "text",
    "id": "xagiD18a8WDk"
   },
   "source": [
    "**Separating the train and test data**\n",
    "\n",
    "The network need to be able to perform with data that it hasn't seen during the training process. So we separate a small portion of the dataset out of the training process to better evaluate its performance later."
   ]
  },
  {
   "cell_type": "code",
   "execution_count": 10,
   "metadata": {
    "colab": {},
    "colab_type": "code",
    "id": "isUQ8yez8cVZ"
   },
   "outputs": [],
   "source": [
    "# Shuffle the dataset\n",
    "X, Y = shuffle(X, Y, random_state=0)\n",
    "\n",
    "# 80% for training and 20% for test\n",
    "p = int(len(dataset)* 0.8 )\n",
    "\n",
    "x_train = X[:p]\n",
    "x_test = X[p:]\n",
    "\n",
    "y_train = Y[:p]\n",
    "y_test = Y[p:]"
   ]
  },
  {
   "cell_type": "markdown",
   "metadata": {
    "colab_type": "text",
    "id": "8hlS1L-fBTCP"
   },
   "source": [
    "**Building a regression model**\n",
    "\n",
    "* Input layer: 4 neurons (we have 4 inputs)\n",
    "* Hidden 2 hidden layers of 6 neurons each.\n",
    "* Output layer: 3 neuron (we have 3 classes we are trying to classify).\n",
    "* Activation functions: Here we are going to introduce the softmax activation function."
   ]
  },
  {
   "cell_type": "code",
   "execution_count": 11,
   "metadata": {
    "colab": {
     "base_uri": "https://localhost:8080/",
     "height": 496
    },
    "colab_type": "code",
    "executionInfo": {
     "elapsed": 975,
     "status": "ok",
     "timestamp": 1573584551551,
     "user": {
      "displayName": "Cristian Bortolini Ferreira",
      "photoUrl": "",
      "userId": "01183676841716453456"
     },
     "user_tz": -60
    },
    "id": "moc_VlVk-ebv",
    "outputId": "1a689b16-f4b3-4adb-f419-12304e606996"
   },
   "outputs": [
    {
     "name": "stdout",
     "output_type": "stream",
     "text": [
      "Model: \"model_1\"\n",
      "_________________________________________________________________\n",
      "Layer (type)                 Output Shape              Param #   \n",
      "=================================================================\n",
      "data (InputLayer)            (None, 4)                 0         \n",
      "_________________________________________________________________\n",
      "fc1 (Dense)                  (None, 6)                 30        \n",
      "_________________________________________________________________\n",
      "fc2 (Dense)                  (None, 6)                 42        \n",
      "_________________________________________________________________\n",
      "fc3 (Dense)                  (None, 3)                 21        \n",
      "=================================================================\n",
      "Total params: 93\n",
      "Trainable params: 93\n",
      "Non-trainable params: 0\n",
      "_________________________________________________________________\n",
      "None\n"
     ]
    }
   ],
   "source": [
    "def build_model():\n",
    "  # Input layer\n",
    "  inputs = Input([4, ], name='data')\n",
    "  # Hidden layers\n",
    "  model = Dense(6, activation='relu', name='fc1')(inputs)\n",
    "  model = Dense(6, activation='relu', name='fc2')(model)\n",
    "  # Output layer\n",
    "  outputs = Dense(3, activation='softmax', name='fc3')(model)\n",
    "\n",
    "  # Define the model\n",
    "  model = Model(inputs=[inputs], outputs=outputs)\n",
    "\n",
    "  model.compile(optimizer='adam',#Adam(lr=1e-5),\n",
    "                loss='categorical_crossentropy',\n",
    "                metrics=['accuracy'])\n",
    "  return model\n",
    "\n",
    "net = build_model()\n",
    "print(net.summary())"
   ]
  },
  {
   "cell_type": "markdown",
   "metadata": {
    "colab_type": "text",
    "id": "Gec0b6jBCni1"
   },
   "source": [
    "**Training the model**\n",
    "\n",
    "Now we have our data separated into inputs and outputs, and training data and testing data. We also have defined our architecture. All that is left to do is fit the data inside our model (train)."
   ]
  },
  {
   "cell_type": "code",
   "execution_count": 15,
   "metadata": {
    "colab": {
     "base_uri": "https://localhost:8080/",
     "height": 1000
    },
    "colab_type": "code",
    "executionInfo": {
     "elapsed": 2374,
     "status": "ok",
     "timestamp": 1573584561371,
     "user": {
      "displayName": "Cristian Bortolini Ferreira",
      "photoUrl": "",
      "userId": "01183676841716453456"
     },
     "user_tz": -60
    },
    "id": "xA-R4nFcCp0C",
    "outputId": "ad46659d-6146-4f2e-8c82-23a15cdb3083"
   },
   "outputs": [
    {
     "name": "stdout",
     "output_type": "stream",
     "text": [
      "Train on 120 samples, validate on 30 samples\n",
      "Epoch 1/250\n",
      "120/120 [==============================] - 0s 223us/step - loss: 0.8024 - accuracy: 0.7167 - val_loss: 0.7927 - val_accuracy: 0.6667\n",
      "Epoch 2/250\n",
      "120/120 [==============================] - 0s 185us/step - loss: 0.7790 - accuracy: 0.6917 - val_loss: 0.7871 - val_accuracy: 0.6333\n",
      "Epoch 3/250\n",
      "120/120 [==============================] - 0s 187us/step - loss: 0.7669 - accuracy: 0.6833 - val_loss: 0.7704 - val_accuracy: 0.6333\n",
      "Epoch 4/250\n",
      "120/120 [==============================] - 0s 186us/step - loss: 0.7497 - accuracy: 0.6917 - val_loss: 0.7499 - val_accuracy: 0.6667\n",
      "Epoch 5/250\n",
      "120/120 [==============================] - 0s 178us/step - loss: 0.7363 - accuracy: 0.6917 - val_loss: 0.7365 - val_accuracy: 0.6333\n",
      "Epoch 6/250\n",
      "120/120 [==============================] - 0s 189us/step - loss: 0.7217 - accuracy: 0.7167 - val_loss: 0.7146 - val_accuracy: 0.8333\n",
      "Epoch 7/250\n",
      "120/120 [==============================] - 0s 181us/step - loss: 0.7077 - accuracy: 0.7000 - val_loss: 0.7061 - val_accuracy: 0.6667\n",
      "Epoch 8/250\n",
      "120/120 [==============================] - 0s 188us/step - loss: 0.6901 - accuracy: 0.7083 - val_loss: 0.6893 - val_accuracy: 0.6667\n",
      "Epoch 9/250\n",
      "120/120 [==============================] - 0s 190us/step - loss: 0.6766 - accuracy: 0.7083 - val_loss: 0.6737 - val_accuracy: 0.7000\n",
      "Epoch 10/250\n",
      "120/120 [==============================] - 0s 184us/step - loss: 0.6642 - accuracy: 0.7333 - val_loss: 0.6567 - val_accuracy: 0.8333\n",
      "Epoch 11/250\n",
      "120/120 [==============================] - 0s 191us/step - loss: 0.6507 - accuracy: 0.7083 - val_loss: 0.6497 - val_accuracy: 0.6667\n",
      "Epoch 12/250\n",
      "120/120 [==============================] - 0s 193us/step - loss: 0.6329 - accuracy: 0.7333 - val_loss: 0.6316 - val_accuracy: 0.8000\n",
      "Epoch 13/250\n",
      "120/120 [==============================] - 0s 207us/step - loss: 0.6202 - accuracy: 0.7917 - val_loss: 0.6172 - val_accuracy: 0.8333\n",
      "Epoch 14/250\n",
      "120/120 [==============================] - 0s 196us/step - loss: 0.6067 - accuracy: 0.7917 - val_loss: 0.6068 - val_accuracy: 0.8000\n",
      "Epoch 15/250\n",
      "120/120 [==============================] - 0s 234us/step - loss: 0.5979 - accuracy: 0.8000 - val_loss: 0.5902 - val_accuracy: 0.8333\n",
      "Epoch 16/250\n",
      "120/120 [==============================] - 0s 196us/step - loss: 0.5843 - accuracy: 0.7833 - val_loss: 0.5862 - val_accuracy: 0.7333\n",
      "Epoch 17/250\n",
      "120/120 [==============================] - 0s 190us/step - loss: 0.5703 - accuracy: 0.7833 - val_loss: 0.5690 - val_accuracy: 0.8333\n",
      "Epoch 18/250\n",
      "120/120 [==============================] - 0s 192us/step - loss: 0.5582 - accuracy: 0.8417 - val_loss: 0.5574 - val_accuracy: 0.8333\n",
      "Epoch 19/250\n",
      "120/120 [==============================] - 0s 206us/step - loss: 0.5479 - accuracy: 0.8500 - val_loss: 0.5478 - val_accuracy: 0.8333\n",
      "Epoch 20/250\n",
      "120/120 [==============================] - 0s 197us/step - loss: 0.5382 - accuracy: 0.8500 - val_loss: 0.5324 - val_accuracy: 0.8667\n",
      "Epoch 21/250\n",
      "120/120 [==============================] - 0s 189us/step - loss: 0.5274 - accuracy: 0.8417 - val_loss: 0.5279 - val_accuracy: 0.8333\n",
      "Epoch 22/250\n",
      "120/120 [==============================] - 0s 193us/step - loss: 0.5191 - accuracy: 0.8917 - val_loss: 0.5128 - val_accuracy: 0.8667\n",
      "Epoch 23/250\n",
      "120/120 [==============================] - 0s 197us/step - loss: 0.5097 - accuracy: 0.8167 - val_loss: 0.5059 - val_accuracy: 0.8333\n",
      "Epoch 24/250\n",
      "120/120 [==============================] - 0s 192us/step - loss: 0.5006 - accuracy: 0.9417 - val_loss: 0.4920 - val_accuracy: 0.8667\n",
      "Epoch 25/250\n",
      "120/120 [==============================] - 0s 184us/step - loss: 0.4884 - accuracy: 0.8833 - val_loss: 0.4917 - val_accuracy: 0.8333\n",
      "Epoch 26/250\n",
      "120/120 [==============================] - 0s 191us/step - loss: 0.4810 - accuracy: 0.8583 - val_loss: 0.4762 - val_accuracy: 0.8667\n",
      "Epoch 27/250\n",
      "120/120 [==============================] - 0s 200us/step - loss: 0.4710 - accuracy: 0.9250 - val_loss: 0.4696 - val_accuracy: 0.8667\n",
      "Epoch 28/250\n",
      "120/120 [==============================] - ETA: 0s - loss: 0.5170 - accuracy: 0.87 - 0s 191us/step - loss: 0.4626 - accuracy: 0.9000 - val_loss: 0.4631 - val_accuracy: 0.8667\n",
      "Epoch 29/250\n",
      "120/120 [==============================] - 0s 185us/step - loss: 0.4555 - accuracy: 0.9167 - val_loss: 0.4510 - val_accuracy: 0.8667\n",
      "Epoch 30/250\n",
      "120/120 [==============================] - 0s 199us/step - loss: 0.4475 - accuracy: 0.9583 - val_loss: 0.4456 - val_accuracy: 0.8667\n",
      "Epoch 31/250\n",
      "120/120 [==============================] - 0s 193us/step - loss: 0.4423 - accuracy: 0.8750 - val_loss: 0.4405 - val_accuracy: 0.8667\n",
      "Epoch 32/250\n",
      "120/120 [==============================] - 0s 206us/step - loss: 0.4351 - accuracy: 0.9500 - val_loss: 0.4296 - val_accuracy: 0.8667\n",
      "Epoch 33/250\n",
      "120/120 [==============================] - 0s 200us/step - loss: 0.4310 - accuracy: 0.9083 - val_loss: 0.4316 - val_accuracy: 0.8333\n",
      "Epoch 34/250\n",
      "120/120 [==============================] - 0s 207us/step - loss: 0.4228 - accuracy: 0.9583 - val_loss: 0.4154 - val_accuracy: 0.8667\n",
      "Epoch 35/250\n",
      "120/120 [==============================] - 0s 207us/step - loss: 0.4151 - accuracy: 0.9750 - val_loss: 0.4119 - val_accuracy: 0.8667\n",
      "Epoch 36/250\n",
      "120/120 [==============================] - 0s 206us/step - loss: 0.4087 - accuracy: 0.9583 - val_loss: 0.4084 - val_accuracy: 0.8667\n",
      "Epoch 37/250\n",
      "120/120 [==============================] - 0s 239us/step - loss: 0.4039 - accuracy: 0.9083 - val_loss: 0.3991 - val_accuracy: 0.8667\n",
      "Epoch 38/250\n",
      "120/120 [==============================] - 0s 198us/step - loss: 0.3966 - accuracy: 0.9667 - val_loss: 0.3922 - val_accuracy: 0.8667\n",
      "Epoch 39/250\n",
      "120/120 [==============================] - 0s 192us/step - loss: 0.3925 - accuracy: 0.9583 - val_loss: 0.3911 - val_accuracy: 0.8667\n",
      "Epoch 40/250\n",
      "120/120 [==============================] - 0s 185us/step - loss: 0.3870 - accuracy: 0.9667 - val_loss: 0.3798 - val_accuracy: 0.9000\n",
      "Epoch 41/250\n",
      "120/120 [==============================] - 0s 187us/step - loss: 0.3803 - accuracy: 0.9750 - val_loss: 0.3776 - val_accuracy: 0.8667\n",
      "Epoch 42/250\n",
      "120/120 [==============================] - 0s 184us/step - loss: 0.3756 - accuracy: 0.9833 - val_loss: 0.3729 - val_accuracy: 0.8667\n",
      "Epoch 43/250\n",
      "120/120 [==============================] - 0s 176us/step - loss: 0.3713 - accuracy: 0.9750 - val_loss: 0.3715 - val_accuracy: 0.8667\n",
      "Epoch 44/250\n",
      "120/120 [==============================] - 0s 183us/step - loss: 0.3654 - accuracy: 0.9583 - val_loss: 0.3615 - val_accuracy: 0.8667\n",
      "Epoch 45/250\n",
      "120/120 [==============================] - 0s 210us/step - loss: 0.3615 - accuracy: 0.9750 - val_loss: 0.3577 - val_accuracy: 0.8667\n",
      "Epoch 46/250\n",
      "120/120 [==============================] - 0s 198us/step - loss: 0.3562 - accuracy: 0.9833 - val_loss: 0.3489 - val_accuracy: 0.9333\n",
      "Epoch 47/250\n",
      "120/120 [==============================] - 0s 183us/step - loss: 0.3558 - accuracy: 0.9750 - val_loss: 0.3470 - val_accuracy: 0.8667\n",
      "Epoch 48/250\n",
      "120/120 [==============================] - 0s 191us/step - loss: 0.3482 - accuracy: 0.9833 - val_loss: 0.3403 - val_accuracy: 0.9333\n",
      "Epoch 49/250\n",
      "120/120 [==============================] - 0s 183us/step - loss: 0.3434 - accuracy: 0.9833 - val_loss: 0.3385 - val_accuracy: 0.8667\n",
      "Epoch 50/250\n",
      "120/120 [==============================] - 0s 180us/step - loss: 0.3386 - accuracy: 0.9833 - val_loss: 0.3346 - val_accuracy: 0.8667\n",
      "Epoch 51/250\n",
      "120/120 [==============================] - 0s 235us/step - loss: 0.3358 - accuracy: 0.9833 - val_loss: 0.3326 - val_accuracy: 0.8667\n",
      "Epoch 52/250\n",
      "120/120 [==============================] - 0s 193us/step - loss: 0.3310 - accuracy: 0.9833 - val_loss: 0.3243 - val_accuracy: 0.9333\n",
      "Epoch 53/250\n",
      "120/120 [==============================] - 0s 195us/step - loss: 0.3342 - accuracy: 0.9667 - val_loss: 0.3179 - val_accuracy: 0.9667\n",
      "Epoch 54/250\n",
      "120/120 [==============================] - 0s 194us/step - loss: 0.3211 - accuracy: 0.9833 - val_loss: 0.3229 - val_accuracy: 0.8667\n",
      "Epoch 55/250\n",
      "120/120 [==============================] - 0s 212us/step - loss: 0.3207 - accuracy: 0.9667 - val_loss: 0.3202 - val_accuracy: 0.8667\n",
      "Epoch 56/250\n",
      "120/120 [==============================] - 0s 191us/step - loss: 0.3145 - accuracy: 0.9833 - val_loss: 0.3079 - val_accuracy: 0.9333\n",
      "Epoch 57/250\n",
      "120/120 [==============================] - 0s 195us/step - loss: 0.3120 - accuracy: 0.9833 - val_loss: 0.3047 - val_accuracy: 0.9333\n",
      "Epoch 58/250\n",
      "120/120 [==============================] - 0s 182us/step - loss: 0.3081 - accuracy: 0.9833 - val_loss: 0.3040 - val_accuracy: 0.9000\n",
      "Epoch 59/250\n",
      "120/120 [==============================] - 0s 186us/step - loss: 0.3052 - accuracy: 0.9833 - val_loss: 0.3003 - val_accuracy: 0.9000\n",
      "Epoch 60/250\n",
      "120/120 [==============================] - 0s 190us/step - loss: 0.3113 - accuracy: 0.9583 - val_loss: 0.2906 - val_accuracy: 0.9667\n",
      "Epoch 61/250\n",
      "120/120 [==============================] - 0s 189us/step - loss: 0.2993 - accuracy: 0.9750 - val_loss: 0.3046 - val_accuracy: 0.8667\n",
      "Epoch 62/250\n",
      "120/120 [==============================] - 0s 190us/step - loss: 0.2956 - accuracy: 0.9833 - val_loss: 0.2878 - val_accuracy: 0.9333\n",
      "Epoch 63/250\n",
      "120/120 [==============================] - 0s 216us/step - loss: 0.2915 - accuracy: 0.9833 - val_loss: 0.2815 - val_accuracy: 0.9667\n",
      "Epoch 64/250\n",
      "120/120 [==============================] - 0s 192us/step - loss: 0.2903 - accuracy: 0.9833 - val_loss: 0.2856 - val_accuracy: 0.9000\n",
      "Epoch 65/250\n",
      "120/120 [==============================] - 0s 184us/step - loss: 0.2874 - accuracy: 0.9833 - val_loss: 0.2857 - val_accuracy: 0.8667\n",
      "Epoch 66/250\n",
      "120/120 [==============================] - 0s 186us/step - loss: 0.2807 - accuracy: 0.9833 - val_loss: 0.2735 - val_accuracy: 0.9333\n",
      "Epoch 67/250\n",
      "120/120 [==============================] - 0s 180us/step - loss: 0.2802 - accuracy: 0.9833 - val_loss: 0.2719 - val_accuracy: 0.9000\n",
      "Epoch 68/250\n",
      "120/120 [==============================] - 0s 193us/step - loss: 0.2752 - accuracy: 0.9833 - val_loss: 0.2653 - val_accuracy: 0.9667\n",
      "Epoch 69/250\n",
      "120/120 [==============================] - 0s 192us/step - loss: 0.2736 - accuracy: 0.9833 - val_loss: 0.2665 - val_accuracy: 0.9000\n",
      "Epoch 70/250\n",
      "120/120 [==============================] - 0s 191us/step - loss: 0.2735 - accuracy: 0.9833 - val_loss: 0.2687 - val_accuracy: 0.9000\n",
      "Epoch 71/250\n",
      "120/120 [==============================] - 0s 196us/step - loss: 0.2734 - accuracy: 0.9583 - val_loss: 0.2528 - val_accuracy: 0.9667\n",
      "Epoch 72/250\n",
      "120/120 [==============================] - 0s 192us/step - loss: 0.2633 - accuracy: 0.9833 - val_loss: 0.2657 - val_accuracy: 0.9000\n",
      "Epoch 73/250\n",
      "120/120 [==============================] - 0s 188us/step - loss: 0.2631 - accuracy: 0.9833 - val_loss: 0.2506 - val_accuracy: 0.9667\n",
      "Epoch 74/250\n",
      "120/120 [==============================] - 0s 185us/step - loss: 0.2594 - accuracy: 0.9833 - val_loss: 0.2487 - val_accuracy: 0.9333\n",
      "Epoch 75/250\n",
      "120/120 [==============================] - 0s 176us/step - loss: 0.2568 - accuracy: 0.9833 - val_loss: 0.2502 - val_accuracy: 0.9000\n",
      "Epoch 76/250\n",
      "120/120 [==============================] - 0s 183us/step - loss: 0.2535 - accuracy: 0.9833 - val_loss: 0.2443 - val_accuracy: 0.9333\n",
      "Epoch 77/250\n",
      "120/120 [==============================] - 0s 184us/step - loss: 0.2543 - accuracy: 0.9833 - val_loss: 0.2411 - val_accuracy: 0.9333\n",
      "Epoch 78/250\n",
      "120/120 [==============================] - 0s 180us/step - loss: 0.2484 - accuracy: 0.9833 - val_loss: 0.2375 - val_accuracy: 0.9667\n",
      "Epoch 79/250\n",
      "120/120 [==============================] - 0s 210us/step - loss: 0.2456 - accuracy: 0.9833 - val_loss: 0.2419 - val_accuracy: 0.9000\n",
      "Epoch 80/250\n",
      "120/120 [==============================] - 0s 186us/step - loss: 0.2460 - accuracy: 0.9833 - val_loss: 0.2302 - val_accuracy: 0.9667\n",
      "Epoch 81/250\n",
      "120/120 [==============================] - 0s 217us/step - loss: 0.2391 - accuracy: 0.9833 - val_loss: 0.2394 - val_accuracy: 0.9000\n",
      "Epoch 82/250\n",
      "120/120 [==============================] - 0s 188us/step - loss: 0.2373 - accuracy: 0.9833 - val_loss: 0.2269 - val_accuracy: 0.9667\n",
      "Epoch 83/250\n",
      "120/120 [==============================] - 0s 207us/step - loss: 0.2383 - accuracy: 0.9833 - val_loss: 0.2242 - val_accuracy: 0.9667\n",
      "Epoch 84/250\n",
      "120/120 [==============================] - 0s 186us/step - loss: 0.2316 - accuracy: 0.9833 - val_loss: 0.2323 - val_accuracy: 0.9000\n",
      "Epoch 85/250\n",
      "120/120 [==============================] - 0s 190us/step - loss: 0.2309 - accuracy: 0.9833 - val_loss: 0.2216 - val_accuracy: 0.9333\n",
      "Epoch 86/250\n",
      "120/120 [==============================] - 0s 194us/step - loss: 0.2290 - accuracy: 0.9833 - val_loss: 0.2192 - val_accuracy: 0.9333\n",
      "Epoch 87/250\n",
      "120/120 [==============================] - 0s 200us/step - loss: 0.2244 - accuracy: 0.9833 - val_loss: 0.2150 - val_accuracy: 0.9667\n",
      "Epoch 88/250\n",
      "120/120 [==============================] - 0s 201us/step - loss: 0.2226 - accuracy: 0.9833 - val_loss: 0.2140 - val_accuracy: 0.9667\n",
      "Epoch 89/250\n",
      "120/120 [==============================] - 0s 193us/step - loss: 0.2201 - accuracy: 0.9833 - val_loss: 0.2168 - val_accuracy: 0.9000\n",
      "Epoch 90/250\n",
      "120/120 [==============================] - 0s 184us/step - loss: 0.2185 - accuracy: 0.9833 - val_loss: 0.2100 - val_accuracy: 0.9667\n",
      "Epoch 91/250\n",
      "120/120 [==============================] - 0s 272us/step - loss: 0.2149 - accuracy: 0.9833 - val_loss: 0.2079 - val_accuracy: 0.9667\n",
      "Epoch 92/250\n",
      "120/120 [==============================] - 0s 181us/step - loss: 0.2140 - accuracy: 0.9833 - val_loss: 0.2101 - val_accuracy: 0.9000\n",
      "Epoch 93/250\n",
      "120/120 [==============================] - 0s 193us/step - loss: 0.2119 - accuracy: 0.9833 - val_loss: 0.2026 - val_accuracy: 0.9667\n",
      "Epoch 94/250\n",
      "120/120 [==============================] - 0s 189us/step - loss: 0.2092 - accuracy: 0.9833 - val_loss: 0.2038 - val_accuracy: 0.9000\n",
      "Epoch 95/250\n",
      "120/120 [==============================] - 0s 186us/step - loss: 0.2083 - accuracy: 0.9833 - val_loss: 0.1983 - val_accuracy: 0.9667\n",
      "Epoch 96/250\n",
      "120/120 [==============================] - 0s 197us/step - loss: 0.2048 - accuracy: 0.9833 - val_loss: 0.1976 - val_accuracy: 0.9667\n",
      "Epoch 97/250\n",
      "120/120 [==============================] - 0s 191us/step - loss: 0.2042 - accuracy: 0.9833 - val_loss: 0.2011 - val_accuracy: 0.9000\n",
      "Epoch 98/250\n",
      "120/120 [==============================] - 0s 186us/step - loss: 0.2015 - accuracy: 0.9833 - val_loss: 0.1891 - val_accuracy: 0.9667\n",
      "Epoch 99/250\n",
      "120/120 [==============================] - 0s 184us/step - loss: 0.2063 - accuracy: 0.9833 - val_loss: 0.1998 - val_accuracy: 0.9000\n",
      "Epoch 100/250\n",
      "120/120 [==============================] - ETA: 0s - loss: 0.3258 - accuracy: 0.87 - 0s 202us/step - loss: 0.2030 - accuracy: 0.9750 - val_loss: 0.1837 - val_accuracy: 0.9667\n",
      "Epoch 101/250\n",
      "120/120 [==============================] - 0s 182us/step - loss: 0.1987 - accuracy: 0.9833 - val_loss: 0.1926 - val_accuracy: 0.9000\n",
      "Epoch 102/250\n",
      "120/120 [==============================] - 0s 187us/step - loss: 0.1946 - accuracy: 0.9833 - val_loss: 0.1878 - val_accuracy: 0.9333\n",
      "Epoch 103/250\n",
      "120/120 [==============================] - 0s 192us/step - loss: 0.1941 - accuracy: 0.9833 - val_loss: 0.1856 - val_accuracy: 0.9667\n",
      "Epoch 104/250\n",
      "120/120 [==============================] - 0s 206us/step - loss: 0.1906 - accuracy: 0.9833 - val_loss: 0.1775 - val_accuracy: 0.9667\n",
      "Epoch 105/250\n",
      "120/120 [==============================] - 0s 188us/step - loss: 0.1877 - accuracy: 0.9833 - val_loss: 0.1781 - val_accuracy: 0.9667\n",
      "Epoch 106/250\n",
      "120/120 [==============================] - 0s 189us/step - loss: 0.1852 - accuracy: 0.9833 - val_loss: 0.1859 - val_accuracy: 0.9000\n",
      "Epoch 107/250\n",
      "120/120 [==============================] - 0s 187us/step - loss: 0.1853 - accuracy: 0.9833 - val_loss: 0.1816 - val_accuracy: 0.9000\n",
      "Epoch 108/250\n",
      "120/120 [==============================] - 0s 193us/step - loss: 0.1831 - accuracy: 0.9833 - val_loss: 0.1764 - val_accuracy: 0.9667\n",
      "Epoch 109/250\n",
      "120/120 [==============================] - 0s 190us/step - loss: 0.1815 - accuracy: 0.9833 - val_loss: 0.1754 - val_accuracy: 0.9667\n",
      "Epoch 110/250\n",
      "120/120 [==============================] - 0s 187us/step - loss: 0.1792 - accuracy: 0.9833 - val_loss: 0.1723 - val_accuracy: 0.9667\n",
      "Epoch 111/250\n",
      "120/120 [==============================] - 0s 203us/step - loss: 0.1782 - accuracy: 0.9833 - val_loss: 0.1712 - val_accuracy: 0.9667\n"
     ]
    },
    {
     "name": "stdout",
     "output_type": "stream",
     "text": [
      "Epoch 112/250\n",
      "120/120 [==============================] - 0s 184us/step - loss: 0.1767 - accuracy: 0.9833 - val_loss: 0.1786 - val_accuracy: 0.9000\n",
      "Epoch 113/250\n",
      "120/120 [==============================] - 0s 184us/step - loss: 0.1730 - accuracy: 0.9833 - val_loss: 0.1627 - val_accuracy: 0.9667\n",
      "Epoch 114/250\n",
      "120/120 [==============================] - 0s 213us/step - loss: 0.1724 - accuracy: 0.9833 - val_loss: 0.1689 - val_accuracy: 0.9667\n",
      "Epoch 115/250\n",
      "120/120 [==============================] - 0s 183us/step - loss: 0.1715 - accuracy: 0.9833 - val_loss: 0.1629 - val_accuracy: 0.9667\n",
      "Epoch 116/250\n",
      "120/120 [==============================] - 0s 185us/step - loss: 0.1701 - accuracy: 0.9833 - val_loss: 0.1654 - val_accuracy: 0.9667\n",
      "Epoch 117/250\n",
      "120/120 [==============================] - 0s 185us/step - loss: 0.1676 - accuracy: 0.9833 - val_loss: 0.1610 - val_accuracy: 0.9667\n",
      "Epoch 118/250\n",
      "120/120 [==============================] - 0s 191us/step - loss: 0.1660 - accuracy: 0.9833 - val_loss: 0.1568 - val_accuracy: 0.9667\n",
      "Epoch 119/250\n",
      "120/120 [==============================] - 0s 211us/step - loss: 0.1675 - accuracy: 0.9833 - val_loss: 0.1741 - val_accuracy: 0.9000\n",
      "Epoch 120/250\n",
      "120/120 [==============================] - 0s 199us/step - loss: 0.1682 - accuracy: 0.9750 - val_loss: 0.1470 - val_accuracy: 0.9667\n",
      "Epoch 121/250\n",
      "120/120 [==============================] - 0s 198us/step - loss: 0.1605 - accuracy: 0.9750 - val_loss: 0.1666 - val_accuracy: 0.9000\n",
      "Epoch 122/250\n",
      "120/120 [==============================] - 0s 196us/step - loss: 0.1637 - accuracy: 0.9833 - val_loss: 0.1536 - val_accuracy: 0.9667\n",
      "Epoch 123/250\n",
      "120/120 [==============================] - 0s 197us/step - loss: 0.1591 - accuracy: 0.9833 - val_loss: 0.1586 - val_accuracy: 0.9333\n",
      "Epoch 124/250\n",
      "120/120 [==============================] - 0s 197us/step - loss: 0.1580 - accuracy: 0.9833 - val_loss: 0.1532 - val_accuracy: 0.9667\n",
      "Epoch 125/250\n",
      "120/120 [==============================] - 0s 194us/step - loss: 0.1573 - accuracy: 0.9833 - val_loss: 0.1604 - val_accuracy: 0.9000\n",
      "Epoch 126/250\n",
      "120/120 [==============================] - 0s 183us/step - loss: 0.1549 - accuracy: 0.9833 - val_loss: 0.1462 - val_accuracy: 0.9667\n",
      "Epoch 127/250\n",
      "120/120 [==============================] - 0s 184us/step - loss: 0.1544 - accuracy: 0.9833 - val_loss: 0.1500 - val_accuracy: 0.9667\n",
      "Epoch 128/250\n",
      "120/120 [==============================] - 0s 181us/step - loss: 0.1523 - accuracy: 0.9833 - val_loss: 0.1506 - val_accuracy: 0.9667\n",
      "Epoch 129/250\n",
      "120/120 [==============================] - 0s 185us/step - loss: 0.1517 - accuracy: 0.9833 - val_loss: 0.1460 - val_accuracy: 0.9667\n",
      "Epoch 130/250\n",
      "120/120 [==============================] - 0s 178us/step - loss: 0.1514 - accuracy: 0.9833 - val_loss: 0.1460 - val_accuracy: 0.9667\n",
      "Epoch 131/250\n",
      "120/120 [==============================] - 0s 207us/step - loss: 0.1489 - accuracy: 0.9833 - val_loss: 0.1485 - val_accuracy: 0.9333\n",
      "Epoch 132/250\n",
      "120/120 [==============================] - ETA: 0s - loss: 0.1720 - accuracy: 1.00 - 0s 187us/step - loss: 0.1479 - accuracy: 0.9833 - val_loss: 0.1486 - val_accuracy: 0.9333\n",
      "Epoch 133/250\n",
      "120/120 [==============================] - 0s 184us/step - loss: 0.1489 - accuracy: 0.9833 - val_loss: 0.1432 - val_accuracy: 0.9667\n",
      "Epoch 134/250\n",
      "120/120 [==============================] - 0s 175us/step - loss: 0.1467 - accuracy: 0.9833 - val_loss: 0.1517 - val_accuracy: 0.9000\n",
      "Epoch 135/250\n",
      "120/120 [==============================] - 0s 213us/step - loss: 0.1462 - accuracy: 0.9833 - val_loss: 0.1396 - val_accuracy: 0.9667\n",
      "Epoch 136/250\n",
      "120/120 [==============================] - 0s 195us/step - loss: 0.1412 - accuracy: 0.9833 - val_loss: 0.1405 - val_accuracy: 0.9667\n",
      "Epoch 137/250\n",
      "120/120 [==============================] - 0s 191us/step - loss: 0.1402 - accuracy: 0.9833 - val_loss: 0.1451 - val_accuracy: 0.9333\n",
      "Epoch 138/250\n",
      "120/120 [==============================] - 0s 189us/step - loss: 0.1396 - accuracy: 0.9833 - val_loss: 0.1397 - val_accuracy: 0.9667\n",
      "Epoch 139/250\n",
      "120/120 [==============================] - 0s 182us/step - loss: 0.1393 - accuracy: 0.9833 - val_loss: 0.1402 - val_accuracy: 0.9333\n",
      "Epoch 140/250\n",
      "120/120 [==============================] - 0s 204us/step - loss: 0.1385 - accuracy: 0.9833 - val_loss: 0.1307 - val_accuracy: 0.9667\n",
      "Epoch 141/250\n",
      "120/120 [==============================] - 0s 184us/step - loss: 0.1371 - accuracy: 0.9833 - val_loss: 0.1390 - val_accuracy: 0.9333\n",
      "Epoch 142/250\n",
      "120/120 [==============================] - 0s 206us/step - loss: 0.1355 - accuracy: 0.9833 - val_loss: 0.1342 - val_accuracy: 0.9667\n",
      "Epoch 143/250\n",
      "120/120 [==============================] - 0s 185us/step - loss: 0.1338 - accuracy: 0.9833 - val_loss: 0.1342 - val_accuracy: 0.9667\n",
      "Epoch 144/250\n",
      "120/120 [==============================] - 0s 179us/step - loss: 0.1346 - accuracy: 0.9833 - val_loss: 0.1379 - val_accuracy: 0.9333\n",
      "Epoch 145/250\n",
      "120/120 [==============================] - 0s 206us/step - loss: 0.1315 - accuracy: 0.9833 - val_loss: 0.1275 - val_accuracy: 0.9667\n",
      "Epoch 146/250\n",
      "120/120 [==============================] - 0s 186us/step - loss: 0.1321 - accuracy: 0.9833 - val_loss: 0.1299 - val_accuracy: 0.9667\n",
      "Epoch 147/250\n",
      "120/120 [==============================] - 0s 206us/step - loss: 0.1316 - accuracy: 0.9833 - val_loss: 0.1380 - val_accuracy: 0.9333\n",
      "Epoch 148/250\n",
      "120/120 [==============================] - 0s 196us/step - loss: 0.1297 - accuracy: 0.9833 - val_loss: 0.1213 - val_accuracy: 0.9667\n",
      "Epoch 149/250\n",
      "120/120 [==============================] - 0s 194us/step - loss: 0.1307 - accuracy: 0.9833 - val_loss: 0.1347 - val_accuracy: 0.9333\n",
      "Epoch 150/250\n",
      "120/120 [==============================] - 0s 185us/step - loss: 0.1267 - accuracy: 0.9833 - val_loss: 0.1268 - val_accuracy: 0.9667\n",
      "Epoch 151/250\n",
      "120/120 [==============================] - 0s 183us/step - loss: 0.1308 - accuracy: 0.9833 - val_loss: 0.1301 - val_accuracy: 0.9333\n",
      "Epoch 152/250\n",
      "120/120 [==============================] - 0s 176us/step - loss: 0.1348 - accuracy: 0.9583 - val_loss: 0.1228 - val_accuracy: 0.9667\n",
      "Epoch 153/250\n",
      "120/120 [==============================] - 0s 210us/step - loss: 0.1235 - accuracy: 0.9833 - val_loss: 0.1338 - val_accuracy: 0.9333\n",
      "Epoch 154/250\n",
      "120/120 [==============================] - 0s 200us/step - loss: 0.1251 - accuracy: 0.9833 - val_loss: 0.1306 - val_accuracy: 0.9333\n",
      "Epoch 155/250\n",
      "120/120 [==============================] - 0s 178us/step - loss: 0.1239 - accuracy: 0.9833 - val_loss: 0.1259 - val_accuracy: 0.9667\n",
      "Epoch 156/250\n",
      "120/120 [==============================] - 0s 182us/step - loss: 0.1217 - accuracy: 0.9833 - val_loss: 0.1186 - val_accuracy: 0.9667\n",
      "Epoch 157/250\n",
      "120/120 [==============================] - 0s 190us/step - loss: 0.1220 - accuracy: 0.9833 - val_loss: 0.1276 - val_accuracy: 0.9333\n",
      "Epoch 158/250\n",
      "120/120 [==============================] - 0s 205us/step - loss: 0.1260 - accuracy: 0.9667 - val_loss: 0.1190 - val_accuracy: 0.9667\n",
      "Epoch 159/250\n",
      "120/120 [==============================] - 0s 193us/step - loss: 0.1200 - accuracy: 0.9833 - val_loss: 0.1307 - val_accuracy: 0.9333\n",
      "Epoch 160/250\n",
      "120/120 [==============================] - 0s 206us/step - loss: 0.1184 - accuracy: 0.9833 - val_loss: 0.1195 - val_accuracy: 0.9667\n",
      "Epoch 161/250\n",
      "120/120 [==============================] - 0s 182us/step - loss: 0.1187 - accuracy: 0.9833 - val_loss: 0.1177 - val_accuracy: 0.9667\n",
      "Epoch 162/250\n",
      "120/120 [==============================] - 0s 187us/step - loss: 0.1180 - accuracy: 0.9833 - val_loss: 0.1207 - val_accuracy: 0.9667\n",
      "Epoch 163/250\n",
      "120/120 [==============================] - 0s 186us/step - loss: 0.1173 - accuracy: 0.9833 - val_loss: 0.1193 - val_accuracy: 0.9667\n",
      "Epoch 164/250\n",
      "120/120 [==============================] - 0s 190us/step - loss: 0.1161 - accuracy: 0.9833 - val_loss: 0.1198 - val_accuracy: 0.9667\n",
      "Epoch 165/250\n",
      "120/120 [==============================] - 0s 200us/step - loss: 0.1141 - accuracy: 0.9833 - val_loss: 0.1153 - val_accuracy: 0.9667\n",
      "Epoch 166/250\n",
      "120/120 [==============================] - 0s 237us/step - loss: 0.1154 - accuracy: 0.9833 - val_loss: 0.1308 - val_accuracy: 0.9000\n",
      "Epoch 167/250\n",
      "120/120 [==============================] - 0s 221us/step - loss: 0.1118 - accuracy: 0.9833 - val_loss: 0.1147 - val_accuracy: 0.9667\n",
      "Epoch 168/250\n",
      "120/120 [==============================] - 0s 236us/step - loss: 0.1140 - accuracy: 0.9833 - val_loss: 0.1060 - val_accuracy: 0.9667\n",
      "Epoch 169/250\n",
      "120/120 [==============================] - 0s 223us/step - loss: 0.1121 - accuracy: 0.9833 - val_loss: 0.1263 - val_accuracy: 0.9333\n",
      "Epoch 170/250\n",
      "120/120 [==============================] - 0s 206us/step - loss: 0.1111 - accuracy: 0.9833 - val_loss: 0.1224 - val_accuracy: 0.9333\n",
      "Epoch 171/250\n",
      "120/120 [==============================] - 0s 243us/step - loss: 0.1121 - accuracy: 0.9750 - val_loss: 0.1104 - val_accuracy: 0.9667\n",
      "Epoch 172/250\n",
      "120/120 [==============================] - 0s 257us/step - loss: 0.1122 - accuracy: 0.9833 - val_loss: 0.1188 - val_accuracy: 0.9333\n",
      "Epoch 173/250\n",
      "120/120 [==============================] - 0s 224us/step - loss: 0.1086 - accuracy: 0.9833 - val_loss: 0.1076 - val_accuracy: 0.9667\n",
      "Epoch 174/250\n",
      "120/120 [==============================] - 0s 215us/step - loss: 0.1091 - accuracy: 0.9833 - val_loss: 0.1240 - val_accuracy: 0.9333\n",
      "Epoch 175/250\n",
      "120/120 [==============================] - 0s 236us/step - loss: 0.1105 - accuracy: 0.9833 - val_loss: 0.1095 - val_accuracy: 0.9667\n",
      "Epoch 176/250\n",
      "120/120 [==============================] - 0s 214us/step - loss: 0.1064 - accuracy: 0.9833 - val_loss: 0.1117 - val_accuracy: 0.9667\n",
      "Epoch 177/250\n",
      "120/120 [==============================] - 0s 224us/step - loss: 0.1062 - accuracy: 0.9833 - val_loss: 0.1153 - val_accuracy: 0.9333\n",
      "Epoch 178/250\n",
      "120/120 [==============================] - 0s 214us/step - loss: 0.1095 - accuracy: 0.9833 - val_loss: 0.1090 - val_accuracy: 0.9667\n",
      "Epoch 179/250\n",
      "120/120 [==============================] - 0s 211us/step - loss: 0.1065 - accuracy: 0.9833 - val_loss: 0.1166 - val_accuracy: 0.9333\n",
      "Epoch 180/250\n",
      "120/120 [==============================] - 0s 209us/step - loss: 0.1050 - accuracy: 0.9833 - val_loss: 0.1232 - val_accuracy: 0.9000\n",
      "Epoch 181/250\n",
      "120/120 [==============================] - 0s 514us/step - loss: 0.1034 - accuracy: 0.9833 - val_loss: 0.1033 - val_accuracy: 0.9667\n",
      "Epoch 182/250\n",
      "120/120 [==============================] - 0s 210us/step - loss: 0.1026 - accuracy: 0.9833 - val_loss: 0.1122 - val_accuracy: 0.9333\n",
      "Epoch 183/250\n",
      "120/120 [==============================] - 0s 199us/step - loss: 0.1075 - accuracy: 0.9833 - val_loss: 0.1173 - val_accuracy: 0.9333\n",
      "Epoch 184/250\n",
      "120/120 [==============================] - 0s 224us/step - loss: 0.1268 - accuracy: 0.9500 - val_loss: 0.1044 - val_accuracy: 0.9667\n",
      "Epoch 185/250\n",
      "120/120 [==============================] - 0s 251us/step - loss: 0.1115 - accuracy: 0.9833 - val_loss: 0.1400 - val_accuracy: 0.9000\n",
      "Epoch 186/250\n",
      "120/120 [==============================] - 0s 255us/step - loss: 0.1054 - accuracy: 0.9833 - val_loss: 0.0943 - val_accuracy: 0.9667\n",
      "Epoch 187/250\n",
      "120/120 [==============================] - 0s 214us/step - loss: 0.1048 - accuracy: 0.9833 - val_loss: 0.1269 - val_accuracy: 0.9000\n",
      "Epoch 188/250\n",
      "120/120 [==============================] - 0s 210us/step - loss: 0.1029 - accuracy: 0.9750 - val_loss: 0.0992 - val_accuracy: 0.9667\n",
      "Epoch 189/250\n",
      "120/120 [==============================] - 0s 220us/step - loss: 0.0987 - accuracy: 0.9833 - val_loss: 0.1150 - val_accuracy: 0.9333\n",
      "Epoch 190/250\n",
      "120/120 [==============================] - 0s 209us/step - loss: 0.1020 - accuracy: 0.9833 - val_loss: 0.1121 - val_accuracy: 0.9333\n",
      "Epoch 191/250\n",
      "120/120 [==============================] - 0s 212us/step - loss: 0.0974 - accuracy: 0.9833 - val_loss: 0.1070 - val_accuracy: 0.9333\n",
      "Epoch 192/250\n",
      "120/120 [==============================] - 0s 235us/step - loss: 0.0971 - accuracy: 0.9833 - val_loss: 0.1022 - val_accuracy: 0.9667\n",
      "Epoch 193/250\n",
      "120/120 [==============================] - 0s 225us/step - loss: 0.0982 - accuracy: 0.9833 - val_loss: 0.1010 - val_accuracy: 0.9667\n",
      "Epoch 194/250\n",
      "120/120 [==============================] - 0s 254us/step - loss: 0.0955 - accuracy: 0.9833 - val_loss: 0.1151 - val_accuracy: 0.9333\n",
      "Epoch 195/250\n",
      "120/120 [==============================] - 0s 213us/step - loss: 0.0962 - accuracy: 0.9833 - val_loss: 0.1046 - val_accuracy: 0.9667\n",
      "Epoch 196/250\n",
      "120/120 [==============================] - 0s 223us/step - loss: 0.0952 - accuracy: 0.9833 - val_loss: 0.1052 - val_accuracy: 0.9333\n",
      "Epoch 197/250\n",
      "120/120 [==============================] - 0s 225us/step - loss: 0.0962 - accuracy: 0.9833 - val_loss: 0.1060 - val_accuracy: 0.9333\n",
      "Epoch 198/250\n",
      "120/120 [==============================] - 0s 247us/step - loss: 0.0944 - accuracy: 0.9833 - val_loss: 0.1109 - val_accuracy: 0.9333\n",
      "Epoch 199/250\n",
      "120/120 [==============================] - 0s 217us/step - loss: 0.0936 - accuracy: 0.9833 - val_loss: 0.1062 - val_accuracy: 0.9333\n",
      "Epoch 200/250\n",
      "120/120 [==============================] - 0s 216us/step - loss: 0.0965 - accuracy: 0.9750 - val_loss: 0.0987 - val_accuracy: 0.9667\n",
      "Epoch 201/250\n",
      "120/120 [==============================] - 0s 210us/step - loss: 0.0967 - accuracy: 0.9833 - val_loss: 0.1212 - val_accuracy: 0.9000\n",
      "Epoch 202/250\n",
      "120/120 [==============================] - 0s 264us/step - loss: 0.0919 - accuracy: 0.9833 - val_loss: 0.0963 - val_accuracy: 0.9667\n",
      "Epoch 203/250\n",
      "120/120 [==============================] - 0s 211us/step - loss: 0.0919 - accuracy: 0.9833 - val_loss: 0.1002 - val_accuracy: 0.9667\n",
      "Epoch 204/250\n",
      "120/120 [==============================] - 0s 215us/step - loss: 0.0927 - accuracy: 0.9833 - val_loss: 0.0981 - val_accuracy: 0.9667\n",
      "Epoch 205/250\n",
      "120/120 [==============================] - 0s 213us/step - loss: 0.0914 - accuracy: 0.9833 - val_loss: 0.1110 - val_accuracy: 0.9333\n",
      "Epoch 206/250\n",
      "120/120 [==============================] - 0s 211us/step - loss: 0.0918 - accuracy: 0.9833 - val_loss: 0.0983 - val_accuracy: 0.9667\n",
      "Epoch 207/250\n",
      "120/120 [==============================] - 0s 217us/step - loss: 0.0910 - accuracy: 0.9833 - val_loss: 0.1086 - val_accuracy: 0.9333\n",
      "Epoch 208/250\n",
      "120/120 [==============================] - 0s 213us/step - loss: 0.0897 - accuracy: 0.9833 - val_loss: 0.1041 - val_accuracy: 0.9333\n",
      "Epoch 209/250\n",
      "120/120 [==============================] - 0s 213us/step - loss: 0.0927 - accuracy: 0.9750 - val_loss: 0.0933 - val_accuracy: 0.9667\n",
      "Epoch 210/250\n",
      "120/120 [==============================] - 0s 210us/step - loss: 0.0906 - accuracy: 0.9833 - val_loss: 0.1028 - val_accuracy: 0.9333\n",
      "Epoch 211/250\n",
      "120/120 [==============================] - 0s 208us/step - loss: 0.0907 - accuracy: 0.9833 - val_loss: 0.1139 - val_accuracy: 0.9333\n",
      "Epoch 212/250\n",
      "120/120 [==============================] - 0s 195us/step - loss: 0.0901 - accuracy: 0.9750 - val_loss: 0.0885 - val_accuracy: 0.9667\n",
      "Epoch 213/250\n",
      "120/120 [==============================] - 0s 213us/step - loss: 0.0921 - accuracy: 0.9833 - val_loss: 0.1059 - val_accuracy: 0.9333\n",
      "Epoch 214/250\n",
      "120/120 [==============================] - 0s 220us/step - loss: 0.0873 - accuracy: 0.9833 - val_loss: 0.0932 - val_accuracy: 0.9667\n",
      "Epoch 215/250\n",
      "120/120 [==============================] - 0s 210us/step - loss: 0.0899 - accuracy: 0.9750 - val_loss: 0.1040 - val_accuracy: 0.9333\n",
      "Epoch 216/250\n",
      "120/120 [==============================] - 0s 214us/step - loss: 0.0889 - accuracy: 0.9833 - val_loss: 0.1063 - val_accuracy: 0.9333\n",
      "Epoch 217/250\n",
      "120/120 [==============================] - 0s 225us/step - loss: 0.0881 - accuracy: 0.9833 - val_loss: 0.0965 - val_accuracy: 0.9667\n",
      "Epoch 218/250\n",
      "120/120 [==============================] - 0s 216us/step - loss: 0.0864 - accuracy: 0.9833 - val_loss: 0.0960 - val_accuracy: 0.9667\n",
      "Epoch 219/250\n",
      "120/120 [==============================] - 0s 211us/step - loss: 0.0933 - accuracy: 0.9833 - val_loss: 0.1033 - val_accuracy: 0.9333\n",
      "Epoch 220/250\n",
      "120/120 [==============================] - 0s 209us/step - loss: 0.0919 - accuracy: 0.9750 - val_loss: 0.0898 - val_accuracy: 0.9667\n",
      "Epoch 221/250\n",
      "120/120 [==============================] - 0s 213us/step - loss: 0.0823 - accuracy: 0.9833 - val_loss: 0.1097 - val_accuracy: 0.9333\n",
      "Epoch 222/250\n",
      "120/120 [==============================] - 0s 224us/step - loss: 0.0869 - accuracy: 0.9833 - val_loss: 0.0973 - val_accuracy: 0.9333\n"
     ]
    },
    {
     "name": "stdout",
     "output_type": "stream",
     "text": [
      "Epoch 223/250\n",
      "120/120 [==============================] - 0s 229us/step - loss: 0.0856 - accuracy: 0.9833 - val_loss: 0.0977 - val_accuracy: 0.9333\n",
      "Epoch 224/250\n",
      "120/120 [==============================] - 0s 210us/step - loss: 0.0870 - accuracy: 0.9833 - val_loss: 0.0914 - val_accuracy: 0.9667\n",
      "Epoch 225/250\n",
      "120/120 [==============================] - 0s 214us/step - loss: 0.0843 - accuracy: 0.9833 - val_loss: 0.1122 - val_accuracy: 0.9333\n",
      "Epoch 226/250\n",
      "120/120 [==============================] - 0s 236us/step - loss: 0.0825 - accuracy: 0.9833 - val_loss: 0.0901 - val_accuracy: 0.9667\n",
      "Epoch 227/250\n",
      "120/120 [==============================] - ETA: 0s - loss: 0.0367 - accuracy: 1.00 - 0s 266us/step - loss: 0.0840 - accuracy: 0.9833 - val_loss: 0.0896 - val_accuracy: 0.9667\n",
      "Epoch 228/250\n",
      "120/120 [==============================] - 0s 238us/step - loss: 0.0836 - accuracy: 0.9833 - val_loss: 0.1022 - val_accuracy: 0.9333\n",
      "Epoch 229/250\n",
      "120/120 [==============================] - 0s 236us/step - loss: 0.0830 - accuracy: 0.9833 - val_loss: 0.0986 - val_accuracy: 0.9333\n",
      "Epoch 230/250\n",
      "120/120 [==============================] - 0s 237us/step - loss: 0.0820 - accuracy: 0.9833 - val_loss: 0.0966 - val_accuracy: 0.9333\n",
      "Epoch 231/250\n",
      "120/120 [==============================] - 0s 239us/step - loss: 0.0832 - accuracy: 0.9750 - val_loss: 0.0875 - val_accuracy: 0.9667\n",
      "Epoch 232/250\n",
      "120/120 [==============================] - 0s 209us/step - loss: 0.0815 - accuracy: 0.9833 - val_loss: 0.1023 - val_accuracy: 0.9333\n",
      "Epoch 233/250\n",
      "120/120 [==============================] - 0s 223us/step - loss: 0.0845 - accuracy: 0.9833 - val_loss: 0.0879 - val_accuracy: 0.9667\n",
      "Epoch 234/250\n",
      "120/120 [==============================] - 0s 218us/step - loss: 0.0856 - accuracy: 0.9833 - val_loss: 0.1126 - val_accuracy: 0.9000\n",
      "Epoch 235/250\n",
      "120/120 [==============================] - 0s 207us/step - loss: 0.0801 - accuracy: 0.9833 - val_loss: 0.0773 - val_accuracy: 0.9667\n",
      "Epoch 236/250\n",
      "120/120 [==============================] - 0s 206us/step - loss: 0.0844 - accuracy: 0.9750 - val_loss: 0.1110 - val_accuracy: 0.9333\n",
      "Epoch 237/250\n",
      "120/120 [==============================] - 0s 225us/step - loss: 0.0797 - accuracy: 0.9833 - val_loss: 0.0834 - val_accuracy: 0.9667\n",
      "Epoch 238/250\n",
      "120/120 [==============================] - 0s 258us/step - loss: 0.0806 - accuracy: 0.9750 - val_loss: 0.1001 - val_accuracy: 0.9333\n",
      "Epoch 239/250\n",
      "120/120 [==============================] - 0s 242us/step - loss: 0.0795 - accuracy: 0.9833 - val_loss: 0.0890 - val_accuracy: 0.9667\n",
      "Epoch 240/250\n",
      "120/120 [==============================] - 0s 225us/step - loss: 0.0788 - accuracy: 0.9833 - val_loss: 0.0977 - val_accuracy: 0.9333\n",
      "Epoch 241/250\n",
      "120/120 [==============================] - ETA: 0s - loss: 0.0724 - accuracy: 1.00 - 0s 228us/step - loss: 0.0797 - accuracy: 0.9833 - val_loss: 0.0883 - val_accuracy: 0.9667\n",
      "Epoch 242/250\n",
      "120/120 [==============================] - 0s 209us/step - loss: 0.0805 - accuracy: 0.9833 - val_loss: 0.0983 - val_accuracy: 0.9333\n",
      "Epoch 243/250\n",
      "120/120 [==============================] - 0s 216us/step - loss: 0.0785 - accuracy: 0.9833 - val_loss: 0.0848 - val_accuracy: 0.9667\n",
      "Epoch 244/250\n",
      "120/120 [==============================] - 0s 240us/step - loss: 0.0774 - accuracy: 0.9833 - val_loss: 0.0983 - val_accuracy: 0.9333\n",
      "Epoch 245/250\n",
      "120/120 [==============================] - 0s 209us/step - loss: 0.0788 - accuracy: 0.9833 - val_loss: 0.0928 - val_accuracy: 0.9333\n",
      "Epoch 246/250\n",
      "120/120 [==============================] - 0s 225us/step - loss: 0.0772 - accuracy: 0.9833 - val_loss: 0.0990 - val_accuracy: 0.9333\n",
      "Epoch 247/250\n",
      "120/120 [==============================] - 0s 255us/step - loss: 0.0799 - accuracy: 0.9833 - val_loss: 0.0889 - val_accuracy: 0.9667\n",
      "Epoch 248/250\n",
      "120/120 [==============================] - 0s 236us/step - loss: 0.0764 - accuracy: 0.9833 - val_loss: 0.0950 - val_accuracy: 0.9333\n",
      "Epoch 249/250\n",
      "120/120 [==============================] - 0s 300us/step - loss: 0.0761 - accuracy: 0.9833 - val_loss: 0.1000 - val_accuracy: 0.9333\n",
      "Epoch 250/250\n",
      "120/120 [==============================] - 0s 296us/step - loss: 0.0776 - accuracy: 0.9833 - val_loss: 0.0938 - val_accuracy: 0.9333\n"
     ]
    },
    {
     "data": {
      "text/plain": [
       "<keras.callbacks.callbacks.History at 0x7fd9d7e6ca20>"
      ]
     },
     "execution_count": 15,
     "metadata": {},
     "output_type": "execute_result"
    }
   ],
   "source": [
    "net.fit(x_train,\n",
    "        y_train,\n",
    "        validation_data=(x_test, y_test),\n",
    "        epochs=250,\n",
    "        batch_size=8)"
   ]
  },
  {
   "cell_type": "markdown",
   "metadata": {
    "colab_type": "text",
    "id": "_ZHbKrXBIzAU"
   },
   "source": [
    "**Performing Inference**\n",
    "\n",
    "Let's infer one element of our test dataset and see the probabilities of the network's prediction."
   ]
  },
  {
   "cell_type": "code",
   "execution_count": 16,
   "metadata": {
    "colab": {
     "base_uri": "https://localhost:8080/",
     "height": 102
    },
    "colab_type": "code",
    "executionInfo": {
     "elapsed": 657,
     "status": "ok",
     "timestamp": 1573584584305,
     "user": {
      "displayName": "Cristian Bortolini Ferreira",
      "photoUrl": "",
      "userId": "01183676841716453456"
     },
     "user_tz": -60
    },
    "id": "rN-NkkQXNqw-",
    "outputId": "cd4508f0-0a7b-4823-b012-9331834d6b6e"
   },
   "outputs": [
    {
     "name": "stdout",
     "output_type": "stream",
     "text": [
      "Prediction probabilities:\n",
      "Iris-setosa : 99.87%\n",
      "Iris-versicolor : 0.13%\n",
      "Iris-virginica : 0.00%\n",
      "Real class:  Iris-setosa\n"
     ]
    }
   ],
   "source": [
    "prediction = net.predict(x_test[0].reshape([1,4]))\n",
    "print(\"Prediction probabilities:\")\n",
    "for i, category in enumerate(encoder.classes_):\n",
    "  print(category,\": %.2f%%\" % (prediction[0][i]*100))\n",
    "\n",
    "print(\"Real class: \", encoder.classes_[np.argmax(y_test[0])]) "
   ]
  },
  {
   "cell_type": "markdown",
   "metadata": {
    "colab_type": "text",
    "id": "9zn26niYIsrF"
   },
   "source": [
    "**Evaluating the trained neural network**\n",
    "\n",
    "A better way to evaluate a classification model is by using a confusion matrix. In this matrix we correlate the predicted class with the desired class."
   ]
  },
  {
   "cell_type": "code",
   "execution_count": 17,
   "metadata": {
    "colab": {
     "base_uri": "https://localhost:8080/",
     "height": 289
    },
    "colab_type": "code",
    "executionInfo": {
     "elapsed": 1041,
     "status": "ok",
     "timestamp": 1572799889312,
     "user": {
      "displayName": "Cristian Bortolini Ferreira",
      "photoUrl": "",
      "userId": "01183676841716453456"
     },
     "user_tz": -60
    },
    "id": "qxPK0U-2VIjB",
    "outputId": "cc859b7a-e9ca-49ea-ddcc-7b7d920ceed0"
   },
   "outputs": [
    {
     "name": "stdout",
     "output_type": "stream",
     "text": [
      "Confusion Matrix\n",
      "[[10  0  0]\n",
      " [ 0  9  2]\n",
      " [ 0  0  9]]\n",
      "\n",
      "Classification Report\n",
      "                 precision    recall  f1-score   support\n",
      "\n",
      "    Iris-setosa       1.00      1.00      1.00        10\n",
      "Iris-versicolor       1.00      0.82      0.90        11\n",
      " Iris-virginica       0.82      1.00      0.90         9\n",
      "\n",
      "       accuracy                           0.93        30\n",
      "      macro avg       0.94      0.94      0.93        30\n",
      "   weighted avg       0.95      0.93      0.93        30\n",
      "\n"
     ]
    }
   ],
   "source": [
    "print('Confusion Matrix')\n",
    "print(confusion_matrix(np.argmax(y_test, axis=1), np.argmax(net.predict(x_test), axis=1)))\n",
    "print('\\nClassification Report')\n",
    "print(classification_report(np.argmax(y_test, axis=1), np.argmax(net.predict(x_test), axis=1), target_names=encoder.classes_))"
   ]
  },
  {
   "cell_type": "code",
   "execution_count": 0,
   "metadata": {
    "colab": {},
    "colab_type": "code",
    "id": "5mWD1TVSmMxl"
   },
   "outputs": [],
   "source": []
  }
 ],
 "metadata": {
  "colab": {
   "collapsed_sections": [],
   "name": "B2-Classifier.ipynb",
   "provenance": []
  },
  "kernelspec": {
   "display_name": "Python 3",
   "language": "python",
   "name": "python3"
  },
  "language_info": {
   "codemirror_mode": {
    "name": "ipython",
    "version": 3
   },
   "file_extension": ".py",
   "mimetype": "text/x-python",
   "name": "python",
   "nbconvert_exporter": "python",
   "pygments_lexer": "ipython3",
   "version": "3.7.3"
  }
 },
 "nbformat": 4,
 "nbformat_minor": 1
}
