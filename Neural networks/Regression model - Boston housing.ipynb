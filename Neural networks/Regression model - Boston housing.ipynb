{
 "cells": [
  {
   "cell_type": "markdown",
   "metadata": {
    "colab_type": "text",
    "id": "k2lfHSCY6afB"
   },
   "source": [
    "**Regression**\n",
    "\n",
    "Regression models are typically used to predict one value (or a set of values) based on input data. Let's say for example: Predict the price of a car based on the year, fuel consumption, type (sports, compact, SUV), motor power. Or predict the number of sales of a specific product based on month of the year, product price, local economy situation. \n",
    "\n",
    "This is a supervised learning statistical model that correlates the influence of independent variables on dependent variables through fitting a mathematical function according to the behavior of the training data. "
   ]
  },
  {
   "cell_type": "markdown",
   "metadata": {
    "colab_type": "text",
    "id": "OdbCzggT9pa7"
   },
   "source": [
    "**Used Python Libraries**\n",
    "\n",
    "Let's start by importing the python libraries we are going to be using.\n",
    "\n",
    "* **numpy**: Adds support for large, multi-dimensional arrays and matrices, along with a large collection of high-level mathematical functions.\n",
    "\n",
    "* **keras**: Neural network library and abstraction. Can run on top of TensorFlow (Google's neural network library). Designed to enable fast experimentation with deep neural networks."
   ]
  },
  {
   "cell_type": "code",
   "execution_count": 2,
   "metadata": {
    "colab": {
     "base_uri": "https://localhost:8080/",
     "height": 185
    },
    "colab_type": "code",
    "executionInfo": {
     "elapsed": 45080,
     "status": "ok",
     "timestamp": 1574499444653,
     "user": {
      "displayName": "Cristian Bortolini Ferreira",
      "photoUrl": "",
      "userId": "01183676841716453456"
     },
     "user_tz": -60
    },
    "id": "wpefszoB-gkd",
    "outputId": "dc879642-a25b-4b5b-9e89-5d3a46b83f18"
   },
   "outputs": [
    {
     "name": "stderr",
     "output_type": "stream",
     "text": [
      "Using TensorFlow backend.\n"
     ]
    }
   ],
   "source": [
    "import numpy as np\n",
    "\n",
    "from keras.layers import Dense, Input\n",
    "from keras.models import Model, load_model\n",
    "from keras.optimizers import Adam\n",
    "from keras.datasets import boston_housing"
   ]
  },
  {
   "cell_type": "markdown",
   "metadata": {
    "colab_type": "text",
    "id": "7W2mmiMtA8FH"
   },
   "source": [
    "**The Data**\n",
    "\n",
    "Keras library provides us with a few dataset examples that we can use to experiment with neural networks. The data is already correctly shaped and separated into training data and test data.\n",
    "\n",
    "We are going to be using the Boston Housing dataset for this exercise. It correlates the median price (in $1000) of Boston Houses to 13 other parameters (more details in: https://www.cs.toronto.edu/~delve/data/boston/bostonDetail.html).\n",
    "\n",
    "When training a deep learning model, the data is usually separated into training and test data. The training data is the one used to adjust the neuron's weights, meaning that it is the data the model actually learns from. The test data is used to evaluate the performance of the network during training."
   ]
  },
  {
   "cell_type": "code",
   "execution_count": 3,
   "metadata": {
    "colab": {
     "base_uri": "https://localhost:8080/",
     "height": 187
    },
    "colab_type": "code",
    "executionInfo": {
     "elapsed": 631,
     "status": "ok",
     "timestamp": 1574499479158,
     "user": {
      "displayName": "Cristian Bortolini Ferreira",
      "photoUrl": "",
      "userId": "01183676841716453456"
     },
     "user_tz": -60
    },
    "id": "SXOX3i2Z91gR",
    "outputId": "958e4f10-795f-41e5-bbd1-baa0fd3d93c9"
   },
   "outputs": [
    {
     "name": "stdout",
     "output_type": "stream",
     "text": [
      "Input training data shape: (404, 13)\n",
      "Example input training data: [  1.23247   0.        8.14      0.        0.538     6.142    91.7\n",
      "   3.9769    4.      307.       21.      396.9      18.72   ]\n",
      "Output training data shape: (404,)\n",
      "Example output training data: 15.2\n",
      "\n",
      "Input test data shape: (102, 13)\n",
      "Output test data shape: (102,)\n"
     ]
    }
   ],
   "source": [
    "(x_train, y_train), (x_test, y_test) = boston_housing.load_data()\n",
    "print(\"Input training data shape:\", x_train.shape)\n",
    "print(\"Example input training data:\",x_train[0])\n",
    "print(\"Output training data shape:\", y_train.shape)\n",
    "print(\"Example output training data:\",y_train[0])\n",
    "\n",
    "print(\"\\nInput test data shape:\", x_test.shape)\n",
    "print(\"Output test data shape:\", y_test.shape)"
   ]
  },
  {
   "cell_type": "markdown",
   "metadata": {
    "colab_type": "text",
    "id": "8hlS1L-fBTCP"
   },
   "source": [
    "**Building a regression model**\n",
    "\n",
    "Before training, we need to specify our model's architecture. [NN-SVG](http://alexlenail.me/NN-SVG/index.html) is a nice tool to visualize the architecture. Try to build the architecture described below:\n",
    "\n",
    "* Input layer: 13 neurons (we have 13 inputs)\n",
    "* Hidden layers: It's up to us to decide. There is not definitive answer. Experimentation is part of developing a deep learning model. But let's start with 2 hidden layers of 32 neurons each.\n",
    "* Output layer: 1 neuron (we have 1 output).\n",
    "* Activation functions: Here we are going to introduce 2 activation functions: ReLU and Linear (or identity)."
   ]
  },
  {
   "cell_type": "code",
   "execution_count": 16,
   "metadata": {
    "colab": {
     "base_uri": "https://localhost:8080/",
     "height": 442
    },
    "colab_type": "code",
    "executionInfo": {
     "elapsed": 639,
     "status": "ok",
     "timestamp": 1574499586737,
     "user": {
      "displayName": "Cristian Bortolini Ferreira",
      "photoUrl": "",
      "userId": "01183676841716453456"
     },
     "user_tz": -60
    },
    "id": "moc_VlVk-ebv",
    "outputId": "7951da39-4547-4261-8797-995bf48c2c17"
   },
   "outputs": [
    {
     "name": "stdout",
     "output_type": "stream",
     "text": [
      "build your neural network and print the summary below.\n"
     ]
    }
   ],
   "source": [
    "print(\"build your neural network and print the summary below.\")"
   ]
  },
  {
   "cell_type": "markdown",
   "metadata": {
    "colab_type": "text",
    "id": "Gec0b6jBCni1"
   },
   "source": [
    "**Training the model**\n",
    "\n",
    "Now we have an untrained model. We need to feed it with data and fit the weights around it. We also need to specify another 2 parameters:\n",
    "\n",
    "* Epochs: The number of times the network is going to look through the entire dataset and learn.\n",
    "* Batch size: The number of examples used for a single learning session. When increasing this number, the training goes faster but also requires more memory. "
   ]
  },
  {
   "cell_type": "code",
   "execution_count": 17,
   "metadata": {
    "colab": {
     "base_uri": "https://localhost:8080/",
     "height": 1000
    },
    "colab_type": "code",
    "executionInfo": {
     "elapsed": 6171,
     "status": "ok",
     "timestamp": 1574499832864,
     "user": {
      "displayName": "Cristian Bortolini Ferreira",
      "photoUrl": "",
      "userId": "01183676841716453456"
     },
     "user_tz": -60
    },
    "id": "xA-R4nFcCp0C",
    "outputId": "6ff170d3-4db1-4353-98da-5c1a77312e5b"
   },
   "outputs": [
    {
     "name": "stdout",
     "output_type": "stream",
     "text": [
      "Train on 404 samples, validate on 102 samples\n",
      "Epoch 1/200\n",
      "404/404 [==============================] - 0s 75us/step - loss: 61.8140 - mae: 5.7641 - val_loss: 73.9281 - val_mae: 6.3985\n",
      "Epoch 2/200\n",
      "404/404 [==============================] - 0s 71us/step - loss: 61.6474 - mae: 5.7766 - val_loss: 73.8248 - val_mae: 6.4134\n",
      "Epoch 3/200\n",
      "404/404 [==============================] - 0s 115us/step - loss: 61.4530 - mae: 5.7950 - val_loss: 73.6922 - val_mae: 6.4031\n",
      "Epoch 4/200\n",
      "404/404 [==============================] - 0s 71us/step - loss: 61.4645 - mae: 5.7597 - val_loss: 73.5026 - val_mae: 6.3859\n",
      "Epoch 5/200\n",
      "404/404 [==============================] - 0s 74us/step - loss: 61.2376 - mae: 5.7521 - val_loss: 73.2761 - val_mae: 6.3827\n",
      "Epoch 6/200\n",
      "404/404 [==============================] - 0s 69us/step - loss: 61.1759 - mae: 5.7747 - val_loss: 73.1848 - val_mae: 6.3807\n",
      "Epoch 7/200\n",
      "404/404 [==============================] - 0s 81us/step - loss: 60.9936 - mae: 5.7542 - val_loss: 72.9911 - val_mae: 6.3651\n",
      "Epoch 8/200\n",
      "404/404 [==============================] - 0s 82us/step - loss: 60.9256 - mae: 5.7056 - val_loss: 72.8209 - val_mae: 6.3497\n",
      "Epoch 9/200\n",
      "404/404 [==============================] - 0s 72us/step - loss: 60.7369 - mae: 5.6968 - val_loss: 72.7098 - val_mae: 6.3552\n",
      "Epoch 10/200\n",
      "404/404 [==============================] - 0s 75us/step - loss: 60.6243 - mae: 5.7177 - val_loss: 72.5902 - val_mae: 6.3485\n",
      "Epoch 11/200\n",
      "404/404 [==============================] - 0s 75us/step - loss: 60.6534 - mae: 5.7520 - val_loss: 72.4451 - val_mae: 6.3470\n",
      "Epoch 12/200\n",
      "404/404 [==============================] - 0s 71us/step - loss: 60.5087 - mae: 5.7032 - val_loss: 72.2409 - val_mae: 6.3311\n",
      "Epoch 13/200\n",
      "404/404 [==============================] - 0s 71us/step - loss: 60.3531 - mae: 5.6968 - val_loss: 72.1959 - val_mae: 6.3264\n",
      "Epoch 14/200\n",
      "404/404 [==============================] - 0s 69us/step - loss: 60.1911 - mae: 5.6701 - val_loss: 71.9912 - val_mae: 6.3138\n",
      "Epoch 15/200\n",
      "404/404 [==============================] - 0s 76us/step - loss: 60.1147 - mae: 5.6678 - val_loss: 71.9119 - val_mae: 6.3202\n",
      "Epoch 16/200\n",
      "404/404 [==============================] - 0s 72us/step - loss: 60.0604 - mae: 5.7010 - val_loss: 71.7885 - val_mae: 6.3177\n",
      "Epoch 17/200\n",
      "404/404 [==============================] - 0s 69us/step - loss: 60.0182 - mae: 5.6346 - val_loss: 71.6466 - val_mae: 6.2890\n",
      "Epoch 18/200\n",
      "404/404 [==============================] - 0s 79us/step - loss: 59.8229 - mae: 5.6026 - val_loss: 71.4874 - val_mae: 6.2895\n",
      "Epoch 19/200\n",
      "404/404 [==============================] - 0s 73us/step - loss: 59.6425 - mae: 5.6311 - val_loss: 71.2153 - val_mae: 6.2863\n",
      "Epoch 20/200\n",
      "404/404 [==============================] - 0s 75us/step - loss: 59.5364 - mae: 5.6645 - val_loss: 71.1118 - val_mae: 6.2892\n",
      "Epoch 21/200\n",
      "404/404 [==============================] - 0s 85us/step - loss: 59.5025 - mae: 5.6286 - val_loss: 70.9548 - val_mae: 6.2664\n",
      "Epoch 22/200\n",
      "404/404 [==============================] - 0s 68us/step - loss: 59.3688 - mae: 5.6028 - val_loss: 70.7901 - val_mae: 6.2593\n",
      "Epoch 23/200\n",
      "404/404 [==============================] - 0s 68us/step - loss: 59.2083 - mae: 5.6211 - val_loss: 70.7515 - val_mae: 6.2681\n",
      "Epoch 24/200\n",
      "404/404 [==============================] - 0s 110us/step - loss: 59.1801 - mae: 5.5978 - val_loss: 70.7080 - val_mae: 6.2580\n",
      "Epoch 25/200\n",
      "404/404 [==============================] - 0s 77us/step - loss: 59.1219 - mae: 5.6240 - val_loss: 70.5171 - val_mae: 6.2633\n",
      "Epoch 26/200\n",
      "404/404 [==============================] - 0s 73us/step - loss: 58.9147 - mae: 5.6270 - val_loss: 70.3574 - val_mae: 6.2456\n",
      "Epoch 27/200\n",
      "404/404 [==============================] - 0s 81us/step - loss: 58.7855 - mae: 5.5581 - val_loss: 70.3226 - val_mae: 6.2179\n",
      "Epoch 28/200\n",
      "404/404 [==============================] - 0s 78us/step - loss: 58.8226 - mae: 5.5527 - val_loss: 70.1183 - val_mae: 6.2264\n",
      "Epoch 29/200\n",
      "404/404 [==============================] - 0s 74us/step - loss: 58.7327 - mae: 5.5973 - val_loss: 70.0031 - val_mae: 6.2350\n",
      "Epoch 30/200\n",
      "404/404 [==============================] - 0s 73us/step - loss: 58.4874 - mae: 5.5506 - val_loss: 69.9021 - val_mae: 6.2116\n",
      "Epoch 31/200\n",
      "404/404 [==============================] - 0s 75us/step - loss: 58.4132 - mae: 5.5356 - val_loss: 69.6472 - val_mae: 6.2065\n",
      "Epoch 32/200\n",
      "404/404 [==============================] - 0s 72us/step - loss: 58.3393 - mae: 5.5248 - val_loss: 69.4451 - val_mae: 6.1929\n",
      "Epoch 33/200\n",
      "404/404 [==============================] - 0s 75us/step - loss: 58.1984 - mae: 5.5402 - val_loss: 69.4031 - val_mae: 6.2037\n",
      "Epoch 34/200\n",
      "404/404 [==============================] - 0s 75us/step - loss: 58.1031 - mae: 5.5418 - val_loss: 69.2351 - val_mae: 6.1873\n",
      "Epoch 35/200\n",
      "404/404 [==============================] - 0s 67us/step - loss: 58.1539 - mae: 5.5674 - val_loss: 69.0580 - val_mae: 6.1910\n",
      "Epoch 36/200\n",
      "404/404 [==============================] - 0s 73us/step - loss: 57.9614 - mae: 5.5099 - val_loss: 68.9626 - val_mae: 6.1684\n",
      "Epoch 37/200\n",
      "404/404 [==============================] - 0s 71us/step - loss: 57.8353 - mae: 5.5134 - val_loss: 68.7675 - val_mae: 6.1686\n",
      "Epoch 38/200\n",
      "404/404 [==============================] - 0s 70us/step - loss: 57.7065 - mae: 5.4981 - val_loss: 68.7214 - val_mae: 6.1619\n",
      "Epoch 39/200\n",
      "404/404 [==============================] - 0s 77us/step - loss: 57.7160 - mae: 5.5103 - val_loss: 68.4917 - val_mae: 6.1499\n",
      "Epoch 40/200\n",
      "404/404 [==============================] - 0s 73us/step - loss: 57.4723 - mae: 5.4648 - val_loss: 68.4453 - val_mae: 6.1321\n",
      "Epoch 41/200\n",
      "404/404 [==============================] - 0s 76us/step - loss: 57.4302 - mae: 5.4601 - val_loss: 68.2533 - val_mae: 6.1361\n",
      "Epoch 42/200\n",
      "404/404 [==============================] - 0s 72us/step - loss: 57.3588 - mae: 5.4869 - val_loss: 68.1630 - val_mae: 6.1469\n",
      "Epoch 43/200\n",
      "404/404 [==============================] - 0s 71us/step - loss: 57.2008 - mae: 5.4713 - val_loss: 67.9261 - val_mae: 6.1169\n",
      "Epoch 44/200\n",
      "404/404 [==============================] - 0s 71us/step - loss: 57.1684 - mae: 5.4491 - val_loss: 67.8401 - val_mae: 6.1202\n",
      "Epoch 45/200\n",
      "404/404 [==============================] - 0s 75us/step - loss: 56.9941 - mae: 5.4594 - val_loss: 67.6659 - val_mae: 6.1159\n",
      "Epoch 46/200\n",
      "404/404 [==============================] - 0s 68us/step - loss: 56.9316 - mae: 5.4307 - val_loss: 67.5828 - val_mae: 6.1027\n",
      "Epoch 47/200\n",
      "404/404 [==============================] - 0s 78us/step - loss: 56.8141 - mae: 5.4256 - val_loss: 67.4301 - val_mae: 6.1096\n",
      "Epoch 48/200\n",
      "404/404 [==============================] - 0s 75us/step - loss: 56.9364 - mae: 5.4280 - val_loss: 67.2383 - val_mae: 6.0876\n",
      "Epoch 49/200\n",
      "404/404 [==============================] - 0s 79us/step - loss: 56.6989 - mae: 5.4588 - val_loss: 67.2263 - val_mae: 6.1220\n",
      "Epoch 50/200\n",
      "404/404 [==============================] - 0s 75us/step - loss: 56.5810 - mae: 5.4824 - val_loss: 66.9729 - val_mae: 6.0954\n",
      "Epoch 51/200\n",
      "404/404 [==============================] - 0s 83us/step - loss: 56.3938 - mae: 5.4162 - val_loss: 66.8545 - val_mae: 6.0685\n",
      "Epoch 52/200\n",
      "404/404 [==============================] - 0s 80us/step - loss: 56.4165 - mae: 5.3821 - val_loss: 66.7717 - val_mae: 6.0494\n",
      "Epoch 53/200\n",
      "404/404 [==============================] - 0s 74us/step - loss: 56.2210 - mae: 5.3814 - val_loss: 66.6075 - val_mae: 6.0648\n",
      "Epoch 54/200\n",
      "404/404 [==============================] - 0s 79us/step - loss: 56.2413 - mae: 5.4338 - val_loss: 66.6397 - val_mae: 6.0936\n",
      "Epoch 55/200\n",
      "404/404 [==============================] - 0s 77us/step - loss: 56.0569 - mae: 5.4265 - val_loss: 66.3390 - val_mae: 6.0553\n",
      "Epoch 56/200\n",
      "404/404 [==============================] - 0s 84us/step - loss: 56.0390 - mae: 5.3696 - val_loss: 66.2911 - val_mae: 6.0476\n",
      "Epoch 57/200\n",
      "404/404 [==============================] - 0s 84us/step - loss: 55.8661 - mae: 5.3762 - val_loss: 66.0906 - val_mae: 6.0473\n",
      "Epoch 58/200\n",
      "404/404 [==============================] - 0s 88us/step - loss: 55.9051 - mae: 5.3507 - val_loss: 65.9073 - val_mae: 6.0187\n",
      "Epoch 59/200\n",
      "404/404 [==============================] - 0s 85us/step - loss: 56.1813 - mae: 5.4676 - val_loss: 65.9461 - val_mae: 6.0805\n",
      "Epoch 60/200\n"
     ]
    },
    {
     "name": "stdout",
     "output_type": "stream",
     "text": [
      "404/404 [==============================] - 0s 70us/step - loss: 55.7546 - mae: 5.3701 - val_loss: 65.7383 - val_mae: 5.9905\n",
      "Epoch 61/200\n",
      "404/404 [==============================] - 0s 151us/step - loss: 55.5043 - mae: 5.3431 - val_loss: 65.5787 - val_mae: 6.0277\n",
      "Epoch 62/200\n",
      "404/404 [==============================] - 0s 73us/step - loss: 55.4241 - mae: 5.3729 - val_loss: 65.3930 - val_mae: 6.0129\n",
      "Epoch 63/200\n",
      "404/404 [==============================] - 0s 80us/step - loss: 55.4625 - mae: 5.4029 - val_loss: 65.2971 - val_mae: 6.0316\n",
      "Epoch 64/200\n",
      "404/404 [==============================] - 0s 75us/step - loss: 55.4496 - mae: 5.3319 - val_loss: 65.0368 - val_mae: 5.9762\n",
      "Epoch 65/200\n",
      "404/404 [==============================] - 0s 77us/step - loss: 55.1920 - mae: 5.3443 - val_loss: 64.8837 - val_mae: 5.9900\n",
      "Epoch 66/200\n",
      "404/404 [==============================] - 0s 105us/step - loss: 55.0011 - mae: 5.3188 - val_loss: 64.7657 - val_mae: 5.9770\n",
      "Epoch 67/200\n",
      "404/404 [==============================] - 0s 67us/step - loss: 54.8851 - mae: 5.3146 - val_loss: 64.7056 - val_mae: 5.9761\n",
      "Epoch 68/200\n",
      "404/404 [==============================] - 0s 81us/step - loss: 54.8147 - mae: 5.3189 - val_loss: 64.5984 - val_mae: 5.9777\n",
      "Epoch 69/200\n",
      "404/404 [==============================] - 0s 84us/step - loss: 54.8100 - mae: 5.2884 - val_loss: 64.3437 - val_mae: 5.9486\n",
      "Epoch 70/200\n",
      "404/404 [==============================] - 0s 71us/step - loss: 54.7055 - mae: 5.2819 - val_loss: 64.2138 - val_mae: 5.9535\n",
      "Epoch 71/200\n",
      "404/404 [==============================] - 0s 83us/step - loss: 54.4813 - mae: 5.3314 - val_loss: 64.1483 - val_mae: 5.9838\n",
      "Epoch 72/200\n",
      "404/404 [==============================] - 0s 78us/step - loss: 54.5163 - mae: 5.3144 - val_loss: 64.0424 - val_mae: 5.9472\n",
      "Epoch 73/200\n",
      "404/404 [==============================] - 0s 82us/step - loss: 54.3385 - mae: 5.2842 - val_loss: 63.8476 - val_mae: 5.9308\n",
      "Epoch 74/200\n",
      "404/404 [==============================] - 0s 74us/step - loss: 54.2895 - mae: 5.3153 - val_loss: 63.6968 - val_mae: 5.9483\n",
      "Epoch 75/200\n",
      "404/404 [==============================] - 0s 74us/step - loss: 54.1934 - mae: 5.2819 - val_loss: 63.5520 - val_mae: 5.9221\n",
      "Epoch 76/200\n",
      "404/404 [==============================] - 0s 89us/step - loss: 54.1040 - mae: 5.2578 - val_loss: 63.5032 - val_mae: 5.9077\n",
      "Epoch 77/200\n",
      "404/404 [==============================] - 0s 85us/step - loss: 53.9182 - mae: 5.2634 - val_loss: 63.3322 - val_mae: 5.9333\n",
      "Epoch 78/200\n",
      "404/404 [==============================] - 0s 75us/step - loss: 53.9949 - mae: 5.3216 - val_loss: 63.2075 - val_mae: 5.9133\n",
      "Epoch 79/200\n",
      "404/404 [==============================] - 0s 66us/step - loss: 53.8434 - mae: 5.2544 - val_loss: 62.9654 - val_mae: 5.8995\n",
      "Epoch 80/200\n",
      "404/404 [==============================] - 0s 72us/step - loss: 53.6911 - mae: 5.2109 - val_loss: 62.9049 - val_mae: 5.8672\n",
      "Epoch 81/200\n",
      "404/404 [==============================] - 0s 70us/step - loss: 53.5960 - mae: 5.2072 - val_loss: 62.6748 - val_mae: 5.8852\n",
      "Epoch 82/200\n",
      "404/404 [==============================] - 0s 78us/step - loss: 53.4440 - mae: 5.2639 - val_loss: 62.6997 - val_mae: 5.9065\n",
      "Epoch 83/200\n",
      "404/404 [==============================] - 0s 71us/step - loss: 53.5035 - mae: 5.3115 - val_loss: 62.5292 - val_mae: 5.8957\n",
      "Epoch 84/200\n",
      "404/404 [==============================] - 0s 74us/step - loss: 53.2449 - mae: 5.2443 - val_loss: 62.3889 - val_mae: 5.8639\n",
      "Epoch 85/200\n",
      "404/404 [==============================] - 0s 74us/step - loss: 53.1750 - mae: 5.2223 - val_loss: 62.2535 - val_mae: 5.8619\n",
      "Epoch 86/200\n",
      "404/404 [==============================] - 0s 68us/step - loss: 53.1046 - mae: 5.1979 - val_loss: 62.0086 - val_mae: 5.8439\n",
      "Epoch 87/200\n",
      "404/404 [==============================] - 0s 77us/step - loss: 52.9576 - mae: 5.1996 - val_loss: 61.9384 - val_mae: 5.8361\n",
      "Epoch 88/200\n",
      "404/404 [==============================] - 0s 80us/step - loss: 52.9055 - mae: 5.2058 - val_loss: 61.7117 - val_mae: 5.8481\n",
      "Epoch 89/200\n",
      "404/404 [==============================] - 0s 76us/step - loss: 52.8846 - mae: 5.1926 - val_loss: 61.6326 - val_mae: 5.8339\n",
      "Epoch 90/200\n",
      "404/404 [==============================] - 0s 68us/step - loss: 52.7219 - mae: 5.2231 - val_loss: 61.5497 - val_mae: 5.8341\n",
      "Epoch 91/200\n",
      "404/404 [==============================] - 0s 68us/step - loss: 52.6011 - mae: 5.1705 - val_loss: 61.4780 - val_mae: 5.7945\n",
      "Epoch 92/200\n",
      "404/404 [==============================] - 0s 71us/step - loss: 52.7053 - mae: 5.1927 - val_loss: 61.2766 - val_mae: 5.8229\n",
      "Epoch 93/200\n",
      "404/404 [==============================] - 0s 68us/step - loss: 52.4606 - mae: 5.1753 - val_loss: 61.1324 - val_mae: 5.7993\n",
      "Epoch 94/200\n",
      "404/404 [==============================] - 0s 65us/step - loss: 52.3158 - mae: 5.1404 - val_loss: 61.0421 - val_mae: 5.7771\n",
      "Epoch 95/200\n",
      "404/404 [==============================] - 0s 67us/step - loss: 52.3773 - mae: 5.1867 - val_loss: 60.8158 - val_mae: 5.8042\n",
      "Epoch 96/200\n",
      "404/404 [==============================] - 0s 69us/step - loss: 52.2836 - mae: 5.1472 - val_loss: 60.6311 - val_mae: 5.7488\n",
      "Epoch 97/200\n",
      "404/404 [==============================] - 0s 66us/step - loss: 52.0128 - mae: 5.1233 - val_loss: 60.5573 - val_mae: 5.7736\n",
      "Epoch 98/200\n",
      "404/404 [==============================] - 0s 70us/step - loss: 52.0121 - mae: 5.2226 - val_loss: 60.6025 - val_mae: 5.8072\n",
      "Epoch 99/200\n",
      "404/404 [==============================] - 0s 68us/step - loss: 51.9949 - mae: 5.2469 - val_loss: 60.3686 - val_mae: 5.7783\n",
      "Epoch 100/200\n",
      "404/404 [==============================] - 0s 65us/step - loss: 51.6121 - mae: 5.1028 - val_loss: 60.4018 - val_mae: 5.7173\n",
      "Epoch 101/200\n",
      "404/404 [==============================] - ETA: 0s - loss: 23.8886 - mae: 3.36 - 0s 70us/step - loss: 51.7864 - mae: 5.0498 - val_loss: 60.1928 - val_mae: 5.7429\n",
      "Epoch 102/200\n",
      "404/404 [==============================] - 0s 77us/step - loss: 51.4865 - mae: 5.1452 - val_loss: 60.0333 - val_mae: 5.7672\n",
      "Epoch 103/200\n",
      "404/404 [==============================] - 0s 69us/step - loss: 51.4085 - mae: 5.1799 - val_loss: 59.9223 - val_mae: 5.7417\n",
      "Epoch 104/200\n",
      "404/404 [==============================] - 0s 72us/step - loss: 51.3136 - mae: 5.0840 - val_loss: 59.9049 - val_mae: 5.7108\n",
      "Epoch 105/200\n",
      "404/404 [==============================] - 0s 80us/step - loss: 51.2820 - mae: 5.0440 - val_loss: 59.8643 - val_mae: 5.7047\n",
      "Epoch 106/200\n",
      "404/404 [==============================] - 0s 76us/step - loss: 51.0626 - mae: 5.1173 - val_loss: 59.8059 - val_mae: 5.7564\n",
      "Epoch 107/200\n",
      "404/404 [==============================] - 0s 70us/step - loss: 51.0811 - mae: 5.1362 - val_loss: 59.5814 - val_mae: 5.7099\n",
      "Epoch 108/200\n",
      "404/404 [==============================] - 0s 67us/step - loss: 50.9608 - mae: 5.1144 - val_loss: 59.4553 - val_mae: 5.7202\n",
      "Epoch 109/200\n",
      "404/404 [==============================] - 0s 95us/step - loss: 50.8971 - mae: 5.1159 - val_loss: 59.2423 - val_mae: 5.6831\n",
      "Epoch 110/200\n",
      "404/404 [==============================] - 0s 74us/step - loss: 50.8724 - mae: 5.0821 - val_loss: 59.2365 - val_mae: 5.7117\n",
      "Epoch 111/200\n",
      "404/404 [==============================] - 0s 67us/step - loss: 50.6950 - mae: 5.0827 - val_loss: 59.0682 - val_mae: 5.6705\n",
      "Epoch 112/200\n",
      "404/404 [==============================] - 0s 68us/step - loss: 50.6292 - mae: 5.0642 - val_loss: 59.1291 - val_mae: 5.7075\n",
      "Epoch 113/200\n",
      "404/404 [==============================] - 0s 69us/step - loss: 50.4705 - mae: 5.1032 - val_loss: 59.1020 - val_mae: 5.6971\n",
      "Epoch 114/200\n",
      "404/404 [==============================] - 0s 70us/step - loss: 50.4233 - mae: 5.0867 - val_loss: 58.9241 - val_mae: 5.6808\n",
      "Epoch 115/200\n",
      "404/404 [==============================] - 0s 67us/step - loss: 50.6038 - mae: 5.0102 - val_loss: 58.9386 - val_mae: 5.6384\n",
      "Epoch 116/200\n",
      "404/404 [==============================] - 0s 73us/step - loss: 50.9154 - mae: 5.1594 - val_loss: 58.8313 - val_mae: 5.7133\n",
      "Epoch 117/200\n",
      "404/404 [==============================] - 0s 69us/step - loss: 50.1382 - mae: 5.0645 - val_loss: 58.6531 - val_mae: 5.6246\n",
      "Epoch 118/200\n",
      "404/404 [==============================] - 0s 66us/step - loss: 50.1556 - mae: 4.9805 - val_loss: 58.5561 - val_mae: 5.6465\n",
      "Epoch 119/200\n"
     ]
    },
    {
     "name": "stdout",
     "output_type": "stream",
     "text": [
      "404/404 [==============================] - 0s 70us/step - loss: 49.9872 - mae: 5.0077 - val_loss: 58.5320 - val_mae: 5.6535\n",
      "Epoch 120/200\n",
      "404/404 [==============================] - 0s 132us/step - loss: 49.9590 - mae: 5.1124 - val_loss: 58.4314 - val_mae: 5.6838\n",
      "Epoch 121/200\n",
      "404/404 [==============================] - 0s 130us/step - loss: 49.9763 - mae: 5.0548 - val_loss: 58.1526 - val_mae: 5.6112\n",
      "Epoch 122/200\n",
      "404/404 [==============================] - 0s 154us/step - loss: 49.7632 - mae: 5.0152 - val_loss: 58.0479 - val_mae: 5.6256\n",
      "Epoch 123/200\n",
      "404/404 [==============================] - 0s 121us/step - loss: 49.7360 - mae: 5.1033 - val_loss: 58.0659 - val_mae: 5.6578\n",
      "Epoch 124/200\n",
      "404/404 [==============================] - 0s 81us/step - loss: 49.5850 - mae: 5.0433 - val_loss: 57.9607 - val_mae: 5.6111\n",
      "Epoch 125/200\n",
      "404/404 [==============================] - 0s 76us/step - loss: 49.4720 - mae: 5.0112 - val_loss: 57.7834 - val_mae: 5.6112\n",
      "Epoch 126/200\n",
      "404/404 [==============================] - 0s 74us/step - loss: 49.4095 - mae: 4.9917 - val_loss: 57.6368 - val_mae: 5.5982\n",
      "Epoch 127/200\n",
      "404/404 [==============================] - 0s 76us/step - loss: 49.6112 - mae: 5.0808 - val_loss: 57.5812 - val_mae: 5.6171\n",
      "Epoch 128/200\n",
      "404/404 [==============================] - 0s 70us/step - loss: 49.5929 - mae: 4.9623 - val_loss: 57.4402 - val_mae: 5.5601\n",
      "Epoch 129/200\n",
      "404/404 [==============================] - 0s 74us/step - loss: 49.2418 - mae: 5.0416 - val_loss: 57.3345 - val_mae: 5.6199\n",
      "Epoch 130/200\n",
      "404/404 [==============================] - 0s 73us/step - loss: 49.3043 - mae: 5.0145 - val_loss: 57.2187 - val_mae: 5.5781\n",
      "Epoch 131/200\n",
      "404/404 [==============================] - 0s 74us/step - loss: 48.9976 - mae: 5.0085 - val_loss: 57.0057 - val_mae: 5.5763\n",
      "Epoch 132/200\n",
      "404/404 [==============================] - 0s 74us/step - loss: 48.9110 - mae: 5.0033 - val_loss: 56.8340 - val_mae: 5.5600\n",
      "Epoch 133/200\n",
      "404/404 [==============================] - 0s 76us/step - loss: 49.0149 - mae: 5.0409 - val_loss: 56.7802 - val_mae: 5.5702\n",
      "Epoch 134/200\n",
      "404/404 [==============================] - 0s 70us/step - loss: 48.8153 - mae: 4.9716 - val_loss: 56.8793 - val_mae: 5.5353\n",
      "Epoch 135/200\n",
      "404/404 [==============================] - 0s 69us/step - loss: 48.7993 - mae: 4.9964 - val_loss: 56.6796 - val_mae: 5.5720\n",
      "Epoch 136/200\n",
      "404/404 [==============================] - 0s 67us/step - loss: 48.5860 - mae: 4.9646 - val_loss: 56.5173 - val_mae: 5.5282\n",
      "Epoch 137/200\n",
      "404/404 [==============================] - 0s 69us/step - loss: 48.6945 - mae: 5.0298 - val_loss: 56.2987 - val_mae: 5.5430\n",
      "Epoch 138/200\n",
      "404/404 [==============================] - 0s 73us/step - loss: 48.9158 - mae: 4.9339 - val_loss: 56.3861 - val_mae: 5.4810\n",
      "Epoch 139/200\n",
      "404/404 [==============================] - 0s 69us/step - loss: 48.3147 - mae: 4.9936 - val_loss: 56.3014 - val_mae: 5.5642\n",
      "Epoch 140/200\n",
      "404/404 [==============================] - 0s 73us/step - loss: 48.3905 - mae: 5.0778 - val_loss: 56.0650 - val_mae: 5.5286\n",
      "Epoch 141/200\n",
      "404/404 [==============================] - 0s 70us/step - loss: 48.1688 - mae: 4.9134 - val_loss: 56.0398 - val_mae: 5.4841\n",
      "Epoch 142/200\n",
      "404/404 [==============================] - 0s 76us/step - loss: 48.0837 - mae: 4.9515 - val_loss: 55.9460 - val_mae: 5.5244\n",
      "Epoch 143/200\n",
      "404/404 [==============================] - 0s 74us/step - loss: 47.9725 - mae: 4.9542 - val_loss: 55.9083 - val_mae: 5.4931\n",
      "Epoch 144/200\n",
      "404/404 [==============================] - 0s 75us/step - loss: 47.9014 - mae: 4.9178 - val_loss: 55.6604 - val_mae: 5.4888\n",
      "Epoch 145/200\n",
      "404/404 [==============================] - 0s 69us/step - loss: 47.8167 - mae: 4.9230 - val_loss: 55.6332 - val_mae: 5.4893\n",
      "Epoch 146/200\n",
      "404/404 [==============================] - 0s 76us/step - loss: 47.9177 - mae: 4.9905 - val_loss: 55.6116 - val_mae: 5.5155\n",
      "Epoch 147/200\n",
      "404/404 [==============================] - 0s 79us/step - loss: 47.7227 - mae: 4.9120 - val_loss: 55.2698 - val_mae: 5.4401\n",
      "Epoch 148/200\n",
      "404/404 [==============================] - 0s 72us/step - loss: 47.6935 - mae: 4.9114 - val_loss: 55.1859 - val_mae: 5.4753\n",
      "Epoch 149/200\n",
      "404/404 [==============================] - 0s 77us/step - loss: 47.4812 - mae: 4.9108 - val_loss: 55.1074 - val_mae: 5.4496\n",
      "Epoch 150/200\n",
      "404/404 [==============================] - 0s 76us/step - loss: 47.4398 - mae: 4.9223 - val_loss: 55.0770 - val_mae: 5.4723\n",
      "Epoch 151/200\n",
      "404/404 [==============================] - 0s 80us/step - loss: 47.6330 - mae: 4.8679 - val_loss: 54.9345 - val_mae: 5.4377\n",
      "Epoch 152/200\n",
      "404/404 [==============================] - 0s 75us/step - loss: 47.4466 - mae: 4.9731 - val_loss: 54.9953 - val_mae: 5.4777\n",
      "Epoch 153/200\n",
      "404/404 [==============================] - 0s 69us/step - loss: 47.2284 - mae: 4.9356 - val_loss: 54.7318 - val_mae: 5.4078\n",
      "Epoch 154/200\n",
      "404/404 [==============================] - 0s 77us/step - loss: 47.2400 - mae: 4.8652 - val_loss: 54.5836 - val_mae: 5.4363\n",
      "Epoch 155/200\n",
      "404/404 [==============================] - 0s 68us/step - loss: 47.0332 - mae: 4.9260 - val_loss: 54.4567 - val_mae: 5.4254\n",
      "Epoch 156/200\n",
      "404/404 [==============================] - 0s 70us/step - loss: 46.9025 - mae: 4.8707 - val_loss: 54.4236 - val_mae: 5.3890\n",
      "Epoch 157/200\n",
      "404/404 [==============================] - 0s 72us/step - loss: 46.8875 - mae: 4.8310 - val_loss: 54.3047 - val_mae: 5.4222\n",
      "Epoch 158/200\n",
      "404/404 [==============================] - 0s 78us/step - loss: 47.0142 - mae: 5.0073 - val_loss: 54.3498 - val_mae: 5.4411\n",
      "Epoch 159/200\n",
      "404/404 [==============================] - 0s 84us/step - loss: 47.0835 - mae: 4.8414 - val_loss: 54.3105 - val_mae: 5.3725\n",
      "Epoch 160/200\n",
      "404/404 [==============================] - 0s 79us/step - loss: 46.6122 - mae: 4.8281 - val_loss: 54.0695 - val_mae: 5.4152\n",
      "Epoch 161/200\n",
      "404/404 [==============================] - 0s 75us/step - loss: 46.9560 - mae: 5.0123 - val_loss: 54.0456 - val_mae: 5.4200\n",
      "Epoch 162/200\n",
      "404/404 [==============================] - 0s 71us/step - loss: 46.5599 - mae: 4.8067 - val_loss: 54.0278 - val_mae: 5.3386\n",
      "Epoch 163/200\n",
      "404/404 [==============================] - 0s 72us/step - loss: 46.4940 - mae: 4.7670 - val_loss: 53.7173 - val_mae: 5.3773\n",
      "Epoch 164/200\n",
      "404/404 [==============================] - 0s 69us/step - loss: 47.5740 - mae: 5.0957 - val_loss: 54.0492 - val_mae: 5.4472\n",
      "Epoch 165/200\n",
      "404/404 [==============================] - 0s 75us/step - loss: 46.7223 - mae: 4.8138 - val_loss: 53.9027 - val_mae: 5.3129\n",
      "Epoch 166/200\n",
      "404/404 [==============================] - 0s 70us/step - loss: 46.3584 - mae: 4.8225 - val_loss: 53.5179 - val_mae: 5.3856\n",
      "Epoch 167/200\n",
      "404/404 [==============================] - 0s 68us/step - loss: 46.3059 - mae: 4.9185 - val_loss: 53.4959 - val_mae: 5.3425\n",
      "Epoch 168/200\n",
      "404/404 [==============================] - 0s 72us/step - loss: 46.1479 - mae: 4.7788 - val_loss: 53.3234 - val_mae: 5.3459\n",
      "Epoch 169/200\n",
      "404/404 [==============================] - 0s 68us/step - loss: 46.0993 - mae: 4.7972 - val_loss: 53.3037 - val_mae: 5.3499\n",
      "Epoch 170/200\n",
      "404/404 [==============================] - 0s 74us/step - loss: 46.3966 - mae: 4.9930 - val_loss: 53.2248 - val_mae: 5.3815\n",
      "Epoch 171/200\n",
      "404/404 [==============================] - 0s 68us/step - loss: 45.9897 - mae: 4.8137 - val_loss: 52.8940 - val_mae: 5.2984\n",
      "Epoch 172/200\n",
      "404/404 [==============================] - 0s 73us/step - loss: 45.8288 - mae: 4.8227 - val_loss: 52.8999 - val_mae: 5.3358\n",
      "Epoch 173/200\n",
      "404/404 [==============================] - 0s 68us/step - loss: 45.6560 - mae: 4.8445 - val_loss: 52.8552 - val_mae: 5.3051\n",
      "Epoch 174/200\n",
      "404/404 [==============================] - 0s 75us/step - loss: 45.7189 - mae: 4.7873 - val_loss: 52.6200 - val_mae: 5.2884\n",
      "Epoch 175/200\n",
      "404/404 [==============================] - 0s 74us/step - loss: 45.6680 - mae: 4.8114 - val_loss: 52.6070 - val_mae: 5.3098\n",
      "Epoch 176/200\n",
      "404/404 [==============================] - 0s 76us/step - loss: 45.8170 - mae: 4.7419 - val_loss: 52.5888 - val_mae: 5.2743\n",
      "Epoch 177/200\n",
      "404/404 [==============================] - 0s 68us/step - loss: 45.5691 - mae: 4.8839 - val_loss: 52.6732 - val_mae: 5.3580\n",
      "Epoch 178/200\n"
     ]
    },
    {
     "name": "stdout",
     "output_type": "stream",
     "text": [
      "404/404 [==============================] - 0s 77us/step - loss: 45.5198 - mae: 4.8229 - val_loss: 52.4662 - val_mae: 5.2519\n",
      "Epoch 179/200\n",
      "404/404 [==============================] - 0s 70us/step - loss: 45.3162 - mae: 4.7133 - val_loss: 52.3002 - val_mae: 5.2958\n",
      "Epoch 180/200\n",
      "404/404 [==============================] - 0s 69us/step - loss: 45.2018 - mae: 4.8632 - val_loss: 52.2479 - val_mae: 5.3155\n",
      "Epoch 181/200\n",
      "404/404 [==============================] - 0s 72us/step - loss: 45.2772 - mae: 4.8778 - val_loss: 52.1340 - val_mae: 5.2774\n",
      "Epoch 182/200\n",
      "404/404 [==============================] - 0s 75us/step - loss: 45.1941 - mae: 4.7491 - val_loss: 52.0229 - val_mae: 5.2338\n",
      "Epoch 183/200\n",
      "404/404 [==============================] - 0s 76us/step - loss: 45.5029 - mae: 4.8566 - val_loss: 52.0148 - val_mae: 5.3056\n",
      "Epoch 184/200\n",
      "404/404 [==============================] - 0s 70us/step - loss: 45.1157 - mae: 4.8051 - val_loss: 51.8010 - val_mae: 5.2515\n",
      "Epoch 185/200\n",
      "404/404 [==============================] - 0s 73us/step - loss: 44.9138 - mae: 4.7123 - val_loss: 51.8371 - val_mae: 5.2291\n",
      "Epoch 186/200\n",
      "404/404 [==============================] - 0s 72us/step - loss: 44.9198 - mae: 4.6913 - val_loss: 51.6719 - val_mae: 5.2306\n",
      "Epoch 187/200\n",
      "404/404 [==============================] - 0s 80us/step - loss: 45.0168 - mae: 4.8670 - val_loss: 51.6606 - val_mae: 5.2839\n",
      "Epoch 188/200\n",
      "404/404 [==============================] - 0s 73us/step - loss: 44.6184 - mae: 4.7717 - val_loss: 51.4778 - val_mae: 5.1985\n",
      "Epoch 189/200\n",
      "404/404 [==============================] - 0s 75us/step - loss: 44.6823 - mae: 4.6718 - val_loss: 51.2776 - val_mae: 5.2151\n",
      "Epoch 190/200\n",
      "404/404 [==============================] - 0s 72us/step - loss: 44.8688 - mae: 4.8763 - val_loss: 51.6183 - val_mae: 5.2832\n",
      "Epoch 191/200\n",
      "404/404 [==============================] - 0s 77us/step - loss: 44.4170 - mae: 4.8160 - val_loss: 51.2065 - val_mae: 5.2026\n",
      "Epoch 192/200\n",
      "404/404 [==============================] - 0s 76us/step - loss: 44.5458 - mae: 4.6695 - val_loss: 51.1712 - val_mae: 5.1760\n",
      "Epoch 193/200\n",
      "404/404 [==============================] - 0s 79us/step - loss: 44.5466 - mae: 4.7608 - val_loss: 50.9742 - val_mae: 5.2083\n",
      "Epoch 194/200\n",
      "404/404 [==============================] - 0s 78us/step - loss: 44.2869 - mae: 4.7311 - val_loss: 50.9899 - val_mae: 5.1890\n",
      "Epoch 195/200\n",
      "404/404 [==============================] - 0s 72us/step - loss: 44.4556 - mae: 4.6492 - val_loss: 50.9059 - val_mae: 5.1827\n",
      "Epoch 196/200\n",
      "404/404 [==============================] - 0s 76us/step - loss: 44.3260 - mae: 4.8279 - val_loss: 50.9509 - val_mae: 5.2422\n",
      "Epoch 197/200\n",
      "404/404 [==============================] - 0s 68us/step - loss: 44.1827 - mae: 4.7508 - val_loss: 50.8063 - val_mae: 5.1449\n",
      "Epoch 198/200\n",
      "404/404 [==============================] - 0s 72us/step - loss: 44.4003 - mae: 4.7169 - val_loss: 50.6561 - val_mae: 5.1956\n",
      "Epoch 199/200\n",
      "404/404 [==============================] - 0s 71us/step - loss: 44.2309 - mae: 4.8037 - val_loss: 50.5197 - val_mae: 5.1626\n",
      "Epoch 200/200\n",
      "404/404 [==============================] - 0s 75us/step - loss: 43.9448 - mae: 4.6539 - val_loss: 50.4380 - val_mae: 5.1474\n"
     ]
    },
    {
     "data": {
      "text/plain": [
       "<keras.callbacks.callbacks.History at 0x7ff3d974c780>"
      ]
     },
     "execution_count": 17,
     "metadata": {},
     "output_type": "execute_result"
    }
   ],
   "source": [
    "net.fit(x_train,\n",
    "        y_train,\n",
    "        validation_data=(x_test, y_test),\n",
    "        epochs=200,\n",
    "        batch_size=32)"
   ]
  },
  {
   "cell_type": "markdown",
   "metadata": {
    "colab_type": "text",
    "id": "_ZHbKrXBIzAU"
   },
   "source": [
    "**Performing Inference**\n",
    "\n",
    "After we have a trained model, we can feed the network with new input values and let it predict a new output. In our case, we are predicting the value of a house.\n",
    "\n",
    "Let's infer one set of values for a Boston House and check the error."
   ]
  },
  {
   "cell_type": "code",
   "execution_count": 6,
   "metadata": {
    "colab": {
     "base_uri": "https://localhost:8080/",
     "height": 102
    },
    "colab_type": "code",
    "executionInfo": {
     "elapsed": 654,
     "status": "ok",
     "timestamp": 1574500446680,
     "user": {
      "displayName": "Cristian Bortolini Ferreira",
      "photoUrl": "",
      "userId": "01183676841716453456"
     },
     "user_tz": -60
    },
    "id": "rN-NkkQXNqw-",
    "outputId": "ea67d5da-5cb5-40f2-f034-4b5579f68186"
   },
   "outputs": [
    {
     "name": "stdout",
     "output_type": "stream",
     "text": [
      "Inputs for the Neural Network: [ 18.0846   0.      18.1      0.       0.679    6.434  100.       1.8347\n",
      "  24.     666.      20.2     27.25    29.05  ]\n",
      "Predicted value from the neural network: [[25.276781]]\n",
      "Real value: 7.2\n",
      "Error:  18.07678108215332\n"
     ]
    }
   ],
   "source": [
    "print(\"Inputs for the Neural Network:\", x_test[0])\n",
    "prediction = net.predict(x_test[2].reshape([1,13]))\n",
    "print(\"Predicted value from the neural network:\", prediction)\n",
    "print(\"Real value:\",y_test[0])\n",
    "print(\"Error: \",(prediction[0][0] - y_test[0]))"
   ]
  },
  {
   "cell_type": "markdown",
   "metadata": {
    "colab_type": "text",
    "id": "9zn26niYIsrF"
   },
   "source": [
    "**Evaluating the trained neural network**\n",
    "\n",
    "It's always important to evaluate the network and check if it's behavior is acceptable for it's destined application.\n",
    "\n",
    "Here we are going to calculate the minimum, maximum, average absolute and standard deviation of the error of our entire test dataset. This doesn't guarantee that future inferences will always stay within this margin of error. It's possible that your network didn't. Meaning there was a set of input values very different from any inside the training dataset, therefore the network wasn't trained for that situation. "
   ]
  },
  {
   "cell_type": "code",
   "execution_count": 7,
   "metadata": {
    "colab": {},
    "colab_type": "code",
    "id": "qxPK0U-2VIjB"
   },
   "outputs": [
    {
     "name": "stdout",
     "output_type": "stream",
     "text": [
      "102/102 [==============================] - 0s 127us/step\n",
      "Mean absolute error: 6.418426990509033\n",
      "Mean squared error: 74.1257698208678\n",
      "Min error: 0.05775909423828196\n",
      "Max error: 26.930314254760745\n",
      "Standard Deviation: 5.738428349563264\n"
     ]
    }
   ],
   "source": [
    "test_mse_score, test_mae_score = net.evaluate(x_test, y_test)\n",
    "print(\"Mean absolute error:\",test_mae_score)\n",
    "print(\"Mean squared error:\",test_mse_score)\n",
    "\n",
    "predictions = net.predict(x_test).reshape(y_test.shape)\n",
    "errors = np.abs(predictions - y_test)\n",
    "\n",
    "print(\"Min error:\",errors.min())\n",
    "print(\"Max error:\",errors.max())\n",
    "print(\"Standard Deviation:\",errors.std())"
   ]
  },
  {
   "cell_type": "markdown",
   "metadata": {
    "colab_type": "text",
    "id": "uppENhVWIev1"
   },
   "source": [
    "**Saving your trained neural network**\n",
    "\n",
    "Training can take a long time to finish and occupy lots of storage with the data. We don't need to go through that again when we actually need to use the network. Let's save the network weights so we can use it whenever we want.  "
   ]
  },
  {
   "cell_type": "code",
   "execution_count": 8,
   "metadata": {
    "colab": {},
    "colab_type": "code",
    "id": "zRHt5QJeGZwV"
   },
   "outputs": [],
   "source": [
    "net.save('./regresion_boston.h5')"
   ]
  },
  {
   "cell_type": "markdown",
   "metadata": {
    "colab_type": "text",
    "id": "K6odbhuWIlgv"
   },
   "source": [
    "**Loading a pretrained neural network**\n",
    "\n",
    "We can just load the network and run inferences now that we have the trained model."
   ]
  },
  {
   "cell_type": "code",
   "execution_count": 9,
   "metadata": {
    "colab": {},
    "colab_type": "code",
    "id": "Sqlxy4J_HCf5"
   },
   "outputs": [
    {
     "name": "stdout",
     "output_type": "stream",
     "text": [
      "Predicted value from the neural network: [[7.5173564]]\n"
     ]
    }
   ],
   "source": [
    "loaded_net = load_model('./regresion_boston.h5')\n",
    "prediction_loaded = loaded_net.predict(x_test[0].reshape([1,13]))\n",
    "print(\"Predicted value from the neural network:\",prediction_loaded)"
   ]
  },
  {
   "cell_type": "code",
   "execution_count": 0,
   "metadata": {
    "colab": {},
    "colab_type": "code",
    "id": "5mWD1TVSmMxl"
   },
   "outputs": [],
   "source": []
  }
 ],
 "metadata": {
  "colab": {
   "collapsed_sections": [],
   "name": "B1-Regression.ipynb",
   "provenance": []
  },
  "kernelspec": {
   "display_name": "Python 3",
   "language": "python",
   "name": "python3"
  },
  "language_info": {
   "codemirror_mode": {
    "name": "ipython",
    "version": 3
   },
   "file_extension": ".py",
   "mimetype": "text/x-python",
   "name": "python",
   "nbconvert_exporter": "python",
   "pygments_lexer": "ipython3",
   "version": "3.7.3"
  }
 },
 "nbformat": 4,
 "nbformat_minor": 1
}
