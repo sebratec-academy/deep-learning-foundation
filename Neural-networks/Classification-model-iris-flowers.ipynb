{
 "cells": [
  {
   "cell_type": "markdown",
   "metadata": {
    "colab_type": "text",
    "id": "k2lfHSCY6afB"
   },
   "source": [
    "**Classifier**\n",
    "\n",
    "Classification involves predicting what class something belongs to. Classifiers can be binary or multi-class, meaning that they either classify something into a binary decision ( yes/no, spam/not spam, hot/cold ) or into several different categories ( blue, yellow, red or green? ). Classification models are a very common use case in deep learning, and they can be used to solve a lot of different problems. \n",
    "\n",
    "Now, we are going to build a classification model that can help us to classify some flower photographs into three different species."
   ]
  },
  {
   "cell_type": "code",
   "execution_count": 2,
   "metadata": {
    "colab": {
     "base_uri": "https://localhost:8080/",
     "height": 122
    },
    "colab_type": "code",
    "executionInfo": {
     "elapsed": 18673,
     "status": "ok",
     "timestamp": 1574459235222,
     "user": {
      "displayName": "Cristian Bortolini Ferreira",
      "photoUrl": "",
      "userId": "01183676841716453456"
     },
     "user_tz": -60
    },
    "id": "wpefszoB-gkd",
    "outputId": "0fe7faaa-9136-49fe-fc28-6f91cdc303dc"
   },
   "outputs": [
    {
     "name": "stderr",
     "output_type": "stream",
     "text": [
      "Using TensorFlow backend.\n"
     ]
    }
   ],
   "source": [
    "import numpy as np\n",
    "\n",
    "import pandas as pd\n",
    "\n",
    "from sklearn.preprocessing import LabelEncoder\n",
    "from sklearn.utils import shuffle\n",
    "from sklearn.metrics import confusion_matrix, classification_report\n",
    "\n",
    "from keras.layers import Dense, Input\n",
    "from keras.models import Model\n",
    "from keras.optimizers import Adam\n",
    "from keras.utils import np_utils"
   ]
  },
  {
   "cell_type": "markdown",
   "metadata": {
    "colab_type": "text",
    "id": "7W2mmiMtA8FH"
   },
   "source": [
    "**The Data**\n",
    "\n",
    "The Iris flower dataset or Fisher's Iris dataset is a multivariate dataset that quantifies the morphologic variation of Iris flowers of three related species.\n",
    "\n",
    "1. Sepal length in cm\n",
    "2. Sepal width in cm\n",
    "3. Petal length in cm\n",
    "4. Petal width in cm\n",
    "5. Classes:\n",
    "  - Iris Setosa\n",
    "  - Iris Versicolour\n",
    "  - Iris Virginica\n",
    "\n",
    "  ![Iris](https://s3.amazonaws.com/assets.datacamp.com/blog_assets/Machine+Learning+R/iris-machinelearning.png)\n"
   ]
  },
  {
   "cell_type": "code",
   "execution_count": 3,
   "metadata": {
    "colab": {
     "base_uri": "https://localhost:8080/",
     "height": 204
    },
    "colab_type": "code",
    "executionInfo": {
     "elapsed": 3209,
     "status": "ok",
     "timestamp": 1574459245148,
     "user": {
      "displayName": "Cristian Bortolini Ferreira",
      "photoUrl": "",
      "userId": "01183676841716453456"
     },
     "user_tz": -60
    },
    "id": "SXOX3i2Z91gR",
    "outputId": "3632b0b2-deaf-427a-cee7-830085dc03f2"
   },
   "outputs": [
    {
     "name": "stdout",
     "output_type": "stream",
     "text": [
      "--2020-02-19 07:31:27--  http://archive.ics.uci.edu/ml/machine-learning-databases/iris/iris.data\n",
      "Resolving archive.ics.uci.edu (archive.ics.uci.edu)... 128.195.10.252\n",
      "Connecting to archive.ics.uci.edu (archive.ics.uci.edu)|128.195.10.252|:80... connected.\n",
      "HTTP request sent, awaiting response... 200 OK\n",
      "Length: 4551 (4.4K) [application/x-httpd-php]\n",
      "Saving to: ‘Datasets/iris-data.csv’\n",
      "\n",
      "Datasets/iris-data. 100%[===================>]   4.44K  --.-KB/s    in 0s      \n",
      "\n",
      "2020-02-19 07:31:28 (291 MB/s) - ‘Datasets/iris-data.csv’ saved [4551/4551]\n",
      "\n"
     ]
    }
   ],
   "source": [
    "# Download the data\n",
    "!wget http://archive.ics.uci.edu/ml/machine-learning-databases/iris/iris.data -O Datasets/iris-data.csv"
   ]
  },
  {
   "cell_type": "markdown",
   "metadata": {
    "colab_type": "text",
    "id": "6VAVv11u5uVf"
   },
   "source": [
    "**Loading a csv file**\n",
    "\n",
    "This data is organized inside a csv file. We are going to read the values from this file and organize them into arrays."
   ]
  },
  {
   "cell_type": "code",
   "execution_count": 7,
   "metadata": {
    "colab": {
     "base_uri": "https://localhost:8080/",
     "height": 85
    },
    "colab_type": "code",
    "executionInfo": {
     "elapsed": 1057,
     "status": "ok",
     "timestamp": 1574459249374,
     "user": {
      "displayName": "Cristian Bortolini Ferreira",
      "photoUrl": "",
      "userId": "01183676841716453456"
     },
     "user_tz": -60
    },
    "id": "T49iXkxO2x0X",
    "outputId": "5c8adcc2-479e-49ec-de7c-b2c850fc970b"
   },
   "outputs": [
    {
     "name": "stdout",
     "output_type": "stream",
     "text": [
      "The dataset examples:\n",
      "[5.1 3.5 1.4 0.2 'Iris-setosa']\n",
      "[7.0 3.2 4.7 1.4 'Iris-versicolor']\n",
      "[6.3 3.3 6.0 2.5 'Iris-virginica']\n"
     ]
    }
   ],
   "source": [
    "import os.path\n",
    "path = \"Datasets/iris-data.csv\"\n",
    "if os.path.isfile(path) :\n",
    "    dataset = pd.read_csv(path,header=None).values\n",
    "else:\n",
    "    dataset = pd.read_csv(\"Neural-networks/\" + path, header=None).values\n",
    "\n",
    "\n",
    "print(\"The dataset examples:\")\n",
    "print(dataset[0])\n",
    "print(dataset[50])\n",
    "print(dataset[100])"
   ]
  },
  {
   "cell_type": "markdown",
   "metadata": {
    "colab_type": "text",
    "id": "Exu0zpbc5z-4"
   },
   "source": [
    "**Separating the inputs and outputs**\n",
    "\n",
    "This dataset need to be organized and preprocessed before it can be used inside the neural network. Let's start by separating the input values to an array (X) and the output values to another array (Y)."
   ]
  },
  {
   "cell_type": "code",
   "execution_count": 4,
   "metadata": {
    "colab": {
     "base_uri": "https://localhost:8080/",
     "height": 85
    },
    "colab_type": "code",
    "executionInfo": {
     "elapsed": 1080,
     "status": "ok",
     "timestamp": 1574459385805,
     "user": {
      "displayName": "Cristian Bortolini Ferreira",
      "photoUrl": "",
      "userId": "01183676841716453456"
     },
     "user_tz": -60
    },
    "id": "tMhhQxQc5Zuy",
    "outputId": "fd983759-0cc3-4d63-91fa-52e68fad4bb7"
   },
   "outputs": [
    {
     "name": "stdout",
     "output_type": "stream",
     "text": [
      "The dataset examples:\n",
      "Input: [5.1 3.5 1.4 0.2] Output: Iris-setosa\n",
      "Input: [7.  3.2 4.7 1.4] Output: Iris-versicolor\n",
      "Input: [6.3 3.3 6.  2.5] Output: Iris-virginica\n"
     ]
    }
   ],
   "source": [
    "# Getting the input data\n",
    "X = dataset[:,0:4].astype(float)\n",
    "# Getting the output\n",
    "Y = dataset[:,4]\n",
    "\n",
    "print(\"The dataset examples:\")\n",
    "print(\"Input:\",X[0],\"Output:\",Y[0])\n",
    "print(\"Input:\",X[50],\"Output:\",Y[50])\n",
    "print(\"Input:\",X[100],\"Output:\",Y[100])"
   ]
  },
  {
   "cell_type": "markdown",
   "metadata": {
    "colab_type": "text",
    "id": "xYiDA7kjCRit"
   },
   "source": [
    "**Encoding the labels**\n",
    "\n",
    "Remember that neural networks are mathematical functions but our labels are names. We also need to convert the way we represent those names to a numerical form.\n",
    "\n",
    "Since we have three species of flowers, so each one of them will be represented by three numbers. Each one of these numbers will also represent an output of the neural network, so we are going to have three outputs. This means that we want only one of the outputs neurons to activate for each class we have."
   ]
  },
  {
   "cell_type": "code",
   "execution_count": 5,
   "metadata": {
    "colab": {
     "base_uri": "https://localhost:8080/",
     "height": 136
    },
    "colab_type": "code",
    "executionInfo": {
     "elapsed": 473,
     "status": "ok",
     "timestamp": 1574459385806,
     "user": {
      "displayName": "Cristian Bortolini Ferreira",
      "photoUrl": "",
      "userId": "01183676841716453456"
     },
     "user_tz": -60
    },
    "id": "6go4vm2WCQw6",
    "outputId": "19bc0a62-dca9-45ad-f5b5-7b8510783c01"
   },
   "outputs": [
    {
     "name": "stdout",
     "output_type": "stream",
     "text": [
      "The dataset examples:\n",
      "Iris-setosa\n",
      "Input: [5.1 3.5 1.4 0.2] Output: [1. 0. 0.]\n",
      "Iris-versicolor\n",
      "Input: [7.  3.2 4.7 1.4] Output: [0. 1. 0.]\n",
      "Iris-virginica\n",
      "Input: [6.3 3.3 6.  2.5] Output: [0. 0. 1.]\n"
     ]
    }
   ],
   "source": [
    "# Change the classes to numerical values\n",
    "encoder = LabelEncoder()\n",
    "encoder.fit(Y)\n",
    "encoded_Y = encoder.transform(Y)\n",
    "Y = np_utils.to_categorical(encoded_Y)\n",
    "\n",
    "print(\"The dataset examples:\")\n",
    "print(\"Iris-setosa\")\n",
    "print(\"Input:\",X[0],\"Output:\",Y[0])\n",
    "print(\"Iris-versicolor\")\n",
    "print(\"Input:\",X[50],\"Output:\",Y[50])\n",
    "print(\"Iris-virginica\")\n",
    "print(\"Input:\",X[100],\"Output:\",Y[100])"
   ]
  },
  {
   "cell_type": "markdown",
   "metadata": {
    "colab_type": "text",
    "id": "xagiD18a8WDk"
   },
   "source": [
    "**Separating the train and test data**\n",
    "\n",
    "The network need to be able to perform with data that it hasn't seen during the training process. So we separate a small portion of the dataset out of the training process to better evaluate its performance later."
   ]
  },
  {
   "cell_type": "code",
   "execution_count": 6,
   "metadata": {
    "colab": {},
    "colab_type": "code",
    "id": "isUQ8yez8cVZ"
   },
   "outputs": [],
   "source": [
    "# Shuffle the dataset\n",
    "X, Y = shuffle(X, Y, random_state=0)\n",
    "\n",
    "# 80% for training and 20% for test\n",
    "p = int(len(dataset)* 0.8 )\n",
    "\n",
    "x_train = X[:p]\n",
    "x_test = X[p:]\n",
    "\n",
    "y_train = Y[:p]\n",
    "y_test = Y[p:]"
   ]
  },
  {
   "cell_type": "markdown",
   "metadata": {
    "colab_type": "text",
    "id": "8hlS1L-fBTCP"
   },
   "source": [
    "**Building a regression model** \n",
    "\n",
    "Try to build the model described below:\n",
    "\n",
    "* Input layer: 4 neurons (we have 4 inputs)\n",
    "* Hidden 2 hidden layers of 6 neurons each.\n",
    "* Output layer: 3 neuron (we have 3 classes we are trying to classify).\n",
    "* Activation functions: Here we are going to introduce the softmax activation function."
   ]
  },
  {
   "cell_type": "code",
   "execution_count": 7,
   "metadata": {
    "colab": {
     "base_uri": "https://localhost:8080/",
     "height": 496
    },
    "colab_type": "code",
    "executionInfo": {
     "elapsed": 975,
     "status": "ok",
     "timestamp": 1573584551551,
     "user": {
      "displayName": "Cristian Bortolini Ferreira",
      "photoUrl": "",
      "userId": "01183676841716453456"
     },
     "user_tz": -60
    },
    "id": "moc_VlVk-ebv",
    "outputId": "1a689b16-f4b3-4adb-f419-12304e606996"
   },
   "outputs": [
    {
     "name": "stdout",
     "output_type": "stream",
     "text": [
      "Build your neural network here.\n"
     ]
    }
   ],
   "source": [
    "print(\"Build your neural network here.\")"
   ]
  },
  {
   "cell_type": "markdown",
   "metadata": {
    "colab_type": "text",
    "id": "Gec0b6jBCni1"
   },
   "source": [
    "**Training the model**\n",
    "\n",
    "Now we have our data separated into inputs and outputs, and training data and testing data. We also have defined our architecture. All that is left to do is fit the data inside our model (train)."
   ]
  },
  {
   "cell_type": "code",
   "execution_count": null,
   "metadata": {
    "colab": {
     "base_uri": "https://localhost:8080/",
     "height": 1000
    },
    "colab_type": "code",
    "executionInfo": {
     "elapsed": 2374,
     "status": "ok",
     "timestamp": 1573584561371,
     "user": {
      "displayName": "Cristian Bortolini Ferreira",
      "photoUrl": "",
      "userId": "01183676841716453456"
     },
     "user_tz": -60
    },
    "id": "xA-R4nFcCp0C",
    "outputId": "ad46659d-6146-4f2e-8c82-23a15cdb3083"
   },
   "outputs": [],
   "source": [
    "print(\"Train your model here.\")"
   ]
  },
  {
   "cell_type": "markdown",
   "metadata": {
    "colab_type": "text",
    "id": "_ZHbKrXBIzAU"
   },
   "source": [
    "**Performing Inference**\n",
    "\n",
    "Let's infer one element of our test dataset and see the probabilities of the network's prediction."
   ]
  },
  {
   "cell_type": "code",
   "execution_count": 5,
   "metadata": {
    "colab": {
     "base_uri": "https://localhost:8080/",
     "height": 102
    },
    "colab_type": "code",
    "executionInfo": {
     "elapsed": 657,
     "status": "ok",
     "timestamp": 1573584584305,
     "user": {
      "displayName": "Cristian Bortolini Ferreira",
      "photoUrl": "",
      "userId": "01183676841716453456"
     },
     "user_tz": -60
    },
    "id": "rN-NkkQXNqw-",
    "outputId": "cd4508f0-0a7b-4823-b012-9331834d6b6e"
   },
   "outputs": [
    {
     "name": "stdout",
     "output_type": "stream",
     "text": [
      "Use your prediction function here, and display the probabilities.\n"
     ]
    }
   ],
   "source": [
    "print(\"Use your prediction function here, and display the probabilities.\")"
   ]
  },
  {
   "cell_type": "markdown",
   "metadata": {
    "colab_type": "text",
    "id": "9zn26niYIsrF"
   },
   "source": [
    "**Evaluating the trained neural network**\n",
    "\n",
    "A better way to evaluate a classification model is by using a confusion matrix. In this matrix we correlate the predicted class with the desired class."
   ]
  },
  {
   "cell_type": "code",
   "execution_count": 6,
   "metadata": {
    "colab": {
     "base_uri": "https://localhost:8080/",
     "height": 289
    },
    "colab_type": "code",
    "executionInfo": {
     "elapsed": 1041,
     "status": "ok",
     "timestamp": 1572799889312,
     "user": {
      "displayName": "Cristian Bortolini Ferreira",
      "photoUrl": "",
      "userId": "01183676841716453456"
     },
     "user_tz": -60
    },
    "id": "qxPK0U-2VIjB",
    "outputId": "cc859b7a-e9ca-49ea-ddcc-7b7d920ceed0"
   },
   "outputs": [
    {
     "name": "stdout",
     "output_type": "stream",
     "text": [
      "Use the confusion matrix to evaluate your model here.\n"
     ]
    }
   ],
   "source": [
    "print(\"Use the confusion matrix to evaluate your model here.\")"
   ]
  },
  {
   "cell_type": "code",
   "execution_count": 0,
   "metadata": {
    "colab": {},
    "colab_type": "code",
    "id": "5mWD1TVSmMxl"
   },
   "outputs": [],
   "source": []
  }
 ],
 "metadata": {
  "colab": {
   "collapsed_sections": [],
   "name": "B2-Classifier.ipynb",
   "provenance": []
  },
  "kernelspec": {
   "display_name": "Python 3",
   "language": "python",
   "name": "python3"
  },
  "language_info": {
   "codemirror_mode": {
    "name": "ipython",
    "version": 3
   },
   "file_extension": ".py",
   "mimetype": "text/x-python",
   "name": "python",
   "nbconvert_exporter": "python",
   "pygments_lexer": "ipython3",
   "version": "3.7.3"
  }
 },
 "nbformat": 4,
 "nbformat_minor": 1
}
