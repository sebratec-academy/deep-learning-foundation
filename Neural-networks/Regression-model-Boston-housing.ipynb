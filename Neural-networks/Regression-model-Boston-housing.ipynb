{
 "cells": [
  {
   "cell_type": "markdown",
   "metadata": {
    "colab_type": "text",
    "id": "k2lfHSCY6afB"
   },
   "source": [
    "**Regression**\n",
    "\n",
    "Regression models are typically used to predict one value (or a set of values) based on input data. Let's say for example: Predict the price of a car based on the year, fuel consumption, type (sports, compact, SUV), motor power. Or predict the number of sales of a specific product based on month of the year, product price, local economy situation. \n",
    "\n",
    "This is a supervised learning statistical model that correlates the influence of independent variables on dependent variables through fitting a mathematical function according to the behavior of the training data. "
   ]
  },
  {
   "cell_type": "markdown",
   "metadata": {
    "colab_type": "text",
    "id": "OdbCzggT9pa7"
   },
   "source": [
    "**Used Python Libraries**\n",
    "\n",
    "Let's start by importing the python libraries we are going to be using.\n",
    "\n",
    "* **numpy**: Adds support for large, multi-dimensional arrays and matrices, along with a large collection of high-level mathematical functions.\n",
    "\n",
    "* **keras**: Neural network library and abstraction. Can run on top of TensorFlow (Google's neural network library). Designed to enable fast experimentation with deep neural networks."
   ]
  },
  {
   "cell_type": "code",
   "execution_count": 1,
   "metadata": {
    "colab": {
     "base_uri": "https://localhost:8080/",
     "height": 185
    },
    "colab_type": "code",
    "executionInfo": {
     "elapsed": 45080,
     "status": "ok",
     "timestamp": 1574499444653,
     "user": {
      "displayName": "Cristian Bortolini Ferreira",
      "photoUrl": "",
      "userId": "01183676841716453456"
     },
     "user_tz": -60
    },
    "id": "wpefszoB-gkd",
    "outputId": "dc879642-a25b-4b5b-9e89-5d3a46b83f18"
   },
   "outputs": [
    {
     "name": "stderr",
     "output_type": "stream",
     "text": [
      "Using TensorFlow backend.\n"
     ]
    }
   ],
   "source": [
    "import numpy as np\n",
    "\n",
    "from keras.layers import Dense, Input\n",
    "from keras.models import Model, load_model\n",
    "from keras.optimizers import Adam\n",
    "from keras.datasets import boston_housing"
   ]
  },
  {
   "cell_type": "markdown",
   "metadata": {
    "colab_type": "text",
    "id": "7W2mmiMtA8FH"
   },
   "source": [
    "**The Data**\n",
    "\n",
    "Keras library provides us with a few dataset examples that we can use to experiment with neural networks. The data is already correctly shaped and separated into training data and test data.\n",
    "\n",
    "We are going to be using the Boston Housing dataset for this exercise. It correlates the median price (in $1000) of Boston Houses to 13 other parameters (more details in: https://www.cs.toronto.edu/~delve/data/boston/bostonDetail.html).\n",
    "\n",
    "When training a deep learning model, the data is usually separated into training and test data. The training data is the one used to adjust the neuron's weights, meaning that it is the data the model actually learns from. The test data is used to evaluate the performance of the network during training."
   ]
  },
  {
   "cell_type": "code",
   "execution_count": 2,
   "metadata": {
    "colab": {
     "base_uri": "https://localhost:8080/",
     "height": 187
    },
    "colab_type": "code",
    "executionInfo": {
     "elapsed": 631,
     "status": "ok",
     "timestamp": 1574499479158,
     "user": {
      "displayName": "Cristian Bortolini Ferreira",
      "photoUrl": "",
      "userId": "01183676841716453456"
     },
     "user_tz": -60
    },
    "id": "SXOX3i2Z91gR",
    "outputId": "958e4f10-795f-41e5-bbd1-baa0fd3d93c9"
   },
   "outputs": [
    {
     "name": "stdout",
     "output_type": "stream",
     "text": [
      "Input training data shape: (404, 13)\n",
      "Example input training data: [  1.23247   0.        8.14      0.        0.538     6.142    91.7\n",
      "   3.9769    4.      307.       21.      396.9      18.72   ]\n",
      "Output training data shape: (404,)\n",
      "Example output training data: 15.2\n",
      "\n",
      "Input test data shape: (102, 13)\n",
      "Output test data shape: (102,)\n"
     ]
    }
   ],
   "source": [
    "(x_train, y_train), (x_test, y_test) = boston_housing.load_data()\n",
    "print(\"Input training data shape:\", x_train.shape)\n",
    "print(\"Example input training data:\",x_train[0])\n",
    "print(\"Output training data shape:\", y_train.shape)\n",
    "print(\"Example output training data:\",y_train[0])\n",
    "\n",
    "print(\"\\nInput test data shape:\", x_test.shape)\n",
    "print(\"Output test data shape:\", y_test.shape)"
   ]
  },
  {
   "cell_type": "markdown",
   "metadata": {
    "colab_type": "text",
    "id": "8hlS1L-fBTCP"
   },
   "source": [
    "**Building a regression model**\n",
    "\n",
    "Before training, we need to specify our model's architecture. [NN-SVG](http://alexlenail.me/NN-SVG/index.html) is a nice tool to visualize the architecture. Try to build the architecture described below:\n",
    "\n",
    "* Input layer: 13 neurons (we have 13 inputs)\n",
    "* Hidden layers: It's up to us to decide. There is not definitive answer. Experimentation is part of developing a deep learning model. But let's start with 2 hidden layers of 32 neurons each.\n",
    "* Output layer: 1 neuron (we have 1 output).\n",
    "* Activation functions: Here we are going to introduce 2 activation functions: ReLU and Linear (or identity)."
   ]
  },
  {
   "cell_type": "code",
   "execution_count": 3,
   "metadata": {
    "colab": {
     "base_uri": "https://localhost:8080/",
     "height": 442
    },
    "colab_type": "code",
    "executionInfo": {
     "elapsed": 639,
     "status": "ok",
     "timestamp": 1574499586737,
     "user": {
      "displayName": "Cristian Bortolini Ferreira",
      "photoUrl": "",
      "userId": "01183676841716453456"
     },
     "user_tz": -60
    },
    "id": "moc_VlVk-ebv",
    "outputId": "7951da39-4547-4261-8797-995bf48c2c17"
   },
   "outputs": [
    {
     "name": "stdout",
     "output_type": "stream",
     "text": [
      "build your neural network and print the summary below.\n"
     ]
    }
   ],
   "source": [
    "print(\"build your neural network and print the summary below.\")"
   ]
  },
  {
   "cell_type": "markdown",
   "metadata": {
    "colab_type": "text",
    "id": "Gec0b6jBCni1"
   },
   "source": [
    "**Training the model**\n",
    "\n",
    "Now we have an untrained model. We need to feed it with data and fit the weights around it. We also need to specify another 2 parameters:\n",
    "\n",
    "* Epochs: The number of times the network is going to look through the entire dataset and learn.\n",
    "* Batch size: The number of examples used for a single learning session. When increasing this number, the training goes faster but also requires more memory. "
   ]
  },
  {
   "cell_type": "code",
   "execution_count": null,
   "metadata": {
    "colab": {
     "base_uri": "https://localhost:8080/",
     "height": 1000
    },
    "colab_type": "code",
    "executionInfo": {
     "elapsed": 6171,
     "status": "ok",
     "timestamp": 1574499832864,
     "user": {
      "displayName": "Cristian Bortolini Ferreira",
      "photoUrl": "",
      "userId": "01183676841716453456"
     },
     "user_tz": -60
    },
    "id": "xA-R4nFcCp0C",
    "outputId": "6ff170d3-4db1-4353-98da-5c1a77312e5b"
   },
   "outputs": [],
   "source": []
  },
  {
   "cell_type": "markdown",
   "metadata": {
    "colab_type": "text",
    "id": "_ZHbKrXBIzAU"
   },
   "source": [
    "**Performing Inference**\n",
    "\n",
    "After we have a trained model, we can feed the network with new input values and let it predict a new output. In our case, we are predicting the value of a house.\n",
    "\n",
    "Let's infer one set of values for a Boston House and check the error."
   ]
  },
  {
   "cell_type": "code",
   "execution_count": null,
   "metadata": {
    "colab": {
     "base_uri": "https://localhost:8080/",
     "height": 102
    },
    "colab_type": "code",
    "executionInfo": {
     "elapsed": 654,
     "status": "ok",
     "timestamp": 1574500446680,
     "user": {
      "displayName": "Cristian Bortolini Ferreira",
      "photoUrl": "",
      "userId": "01183676841716453456"
     },
     "user_tz": -60
    },
    "id": "rN-NkkQXNqw-",
    "outputId": "ea67d5da-5cb5-40f2-f034-4b5579f68186"
   },
   "outputs": [],
   "source": []
  },
  {
   "cell_type": "markdown",
   "metadata": {
    "colab_type": "text",
    "id": "9zn26niYIsrF"
   },
   "source": [
    "**Evaluating the trained neural network**\n",
    "\n",
    "It's always important to evaluate the network and check if it's behavior is acceptable for it's destined application.\n",
    "\n",
    "Here we are going to calculate the minimum, maximum, average absolute and standard deviation of the error of our entire test dataset. This doesn't guarantee that future inferences will always stay within this margin of error. It's possible that your network didn't. Meaning there was a set of input values very different from any inside the training dataset, therefore the network wasn't trained for that situation. "
   ]
  },
  {
   "cell_type": "code",
   "execution_count": null,
   "metadata": {
    "colab": {},
    "colab_type": "code",
    "id": "qxPK0U-2VIjB"
   },
   "outputs": [],
   "source": []
  },
  {
   "cell_type": "markdown",
   "metadata": {
    "colab_type": "text",
    "id": "uppENhVWIev1"
   },
   "source": [
    "**Saving your trained neural network**\n",
    "\n",
    "Training can take a long time to finish and occupy lots of storage with the data. We don't need to go through that again when we actually need to use the network. Let's save the network weights so we can use it whenever we want.  "
   ]
  },
  {
   "cell_type": "code",
   "execution_count": null,
   "metadata": {
    "colab": {},
    "colab_type": "code",
    "id": "zRHt5QJeGZwV"
   },
   "outputs": [],
   "source": []
  },
  {
   "cell_type": "markdown",
   "metadata": {
    "colab_type": "text",
    "id": "K6odbhuWIlgv"
   },
   "source": [
    "**Loading a pretrained neural network**\n",
    "\n",
    "We can just load the network and run inferences now that we have the trained model."
   ]
  },
  {
   "cell_type": "code",
   "execution_count": null,
   "metadata": {},
   "outputs": [],
   "source": []
  }
 ],
 "metadata": {
  "colab": {
   "collapsed_sections": [],
   "name": "B1-Regression.ipynb",
   "provenance": []
  },
  "kernelspec": {
   "display_name": "Python 3",
   "language": "python",
   "name": "python3"
  },
  "language_info": {
   "codemirror_mode": {
    "name": "ipython",
    "version": 3
   },
   "file_extension": ".py",
   "mimetype": "text/x-python",
   "name": "python",
   "nbconvert_exporter": "python",
   "pygments_lexer": "ipython3",
   "version": "3.7.3"
  }
 },
 "nbformat": 4,
 "nbformat_minor": 1
}
